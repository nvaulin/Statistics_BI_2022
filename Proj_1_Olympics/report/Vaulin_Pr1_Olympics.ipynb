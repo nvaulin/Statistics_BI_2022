{
 "cells": [
  {
   "cell_type": "markdown",
   "id": "6201653d",
   "metadata": {},
   "source": [
    "# 120 years of Olympic history: athletes and results\n",
    "\n",
    "### [BI](https://bioinf.me/) statisctics course Project 1 \n",
    "> *by* Nikita Vaulin, Skoltech <br />\n",
    "> Nikita.Vaulin@skoltech.ru\n",
    "\n",
    "The dataset is adapted by course instructor from [kaggle](https://www.kaggle.com/datasets/heesoo37/120-years-of-olympic-history-athletes-and-results)."
   ]
  },
  {
   "cell_type": "markdown",
   "id": "45b346fc",
   "metadata": {},
   "source": [
    "<div>\n",
    "<img src=\"pictures/olympics.jpg\" width=\"500\">\n",
    "</div>"
   ]
  },
  {
   "cell_type": "code",
   "execution_count": 1,
   "id": "b474f0c8",
   "metadata": {},
   "outputs": [],
   "source": [
    "import os\n",
    "import numpy as np\n",
    "import pandas as pd\n",
    "import matplotlib.pyplot as plt\n",
    "import seaborn as sns\n",
    "import missingno as msno\n",
    "from statsmodels.stats.multitest import multipletests"
   ]
  },
  {
   "cell_type": "markdown",
   "id": "9e557cdd",
   "metadata": {},
   "source": [
    "> Also Jupyter Notebook like to sens us so many warnings such as FutureWarning and so on. Let's make our output more pretty:"
   ]
  },
  {
   "cell_type": "code",
   "execution_count": 2,
   "id": "3c243707",
   "metadata": {},
   "outputs": [],
   "source": [
    "import warnings\n",
    "warnings.filterwarnings('ignore')"
   ]
  },
  {
   "cell_type": "markdown",
   "id": "5230ab86",
   "metadata": {},
   "source": [
    "### Reading the data\n",
    "\n",
    "> We will define here special function which uploads all the files from some with a given extension to a combined pandas dataframe "
   ]
  },
  {
   "cell_type": "code",
   "execution_count": 3,
   "id": "001a4d79",
   "metadata": {},
   "outputs": [],
   "source": [
    "sep_readers = {\n",
    "    \".csv\": pd.read_csv,\n",
    "    \".tsv\": pd.read_table,\n",
    "    \".hdf\": pd.read_hdf,\n",
    "    \".h5\": pd.read_hdf,\n",
    "    \".html\": pd.read_html,\n",
    "    \".htm\": pd.read_html,\n",
    "    \".xml\": pd.read_xml,\n",
    "    \".json\": pd.read_json,\n",
    "    \".xls\": pd.read_excel,\n",
    "    \".xlsx\": pd.read_excel,\n",
    "    \".xltx\": pd.read_excel,\n",
    "    \".ods\": pd.read_excel\n",
    "}\n",
    "\n",
    "\n",
    "def read_one_table(folder, filename, extension):\n",
    "    \"\"\"\n",
    "    Extra function to read one specific file with function suitable for a given file extension\n",
    "    \"\"\"\n",
    "    file = os.path.join(folder, filename)\n",
    "    return sep_readers[extension](file)\n",
    "\n",
    "\n",
    "def file_reader(folder: str = 'athlete_events', ext: str = '.csv') -> pd.DataFrame:\n",
    "    \"\"\"\n",
    "    This function uploads from disk a dataset divided into several files as a single pandas data frame.\n",
    "    \n",
    "    Several input files should contain same columns! The number of rows doesn't matter, the function provides \n",
    "    row-wise concatenation of input files.\n",
    "    \n",
    "    Parameters:\n",
    "        folder (str): name of a folder with input datasets to read\n",
    "        ext (str): input files extension\n",
    "        \n",
    "    Output:\n",
    "        Pandas Data.Frame combined from input files row-by-row\n",
    "    \"\"\"\n",
    "    if not ext.startswith('.'):\n",
    "        ext = f'.{ext}'\n",
    "    files = [read_one_table(folder, f, ext.lower()) for f in os.listdir(folder) if f.endswith(ext)]\n",
    "    return pd.concat(files)"
   ]
  },
  {
   "cell_type": "markdown",
   "id": "0dced5e3",
   "metadata": {},
   "source": [
    "> So let's load our data. We don't need any parameters here due to their default values definition"
   ]
  },
  {
   "cell_type": "code",
   "execution_count": 4,
   "id": "e29be748",
   "metadata": {},
   "outputs": [],
   "source": [
    "df = file_reader(os.path.join('..', 'data', 'athlete_events'), '.csv')"
   ]
  },
  {
   "cell_type": "markdown",
   "id": "9d9b91f9",
   "metadata": {},
   "source": [
    "> Now let's proceed some initial EDA to check weather it everething alright with our data:"
   ]
  },
  {
   "cell_type": "code",
   "execution_count": 5,
   "id": "318f663f",
   "metadata": {
    "scrolled": true
   },
   "outputs": [
    {
     "data": {
      "text/html": [
       "<div>\n",
       "<style scoped>\n",
       "    .dataframe tbody tr th:only-of-type {\n",
       "        vertical-align: middle;\n",
       "    }\n",
       "\n",
       "    .dataframe tbody tr th {\n",
       "        vertical-align: top;\n",
       "    }\n",
       "\n",
       "    .dataframe thead th {\n",
       "        text-align: right;\n",
       "    }\n",
       "</style>\n",
       "<table border=\"1\" class=\"dataframe\">\n",
       "  <thead>\n",
       "    <tr style=\"text-align: right;\">\n",
       "      <th></th>\n",
       "      <th>ID</th>\n",
       "      <th>Name</th>\n",
       "      <th>Sex</th>\n",
       "      <th>Age</th>\n",
       "      <th>Height</th>\n",
       "      <th>Weight</th>\n",
       "      <th>Team</th>\n",
       "      <th>NOC</th>\n",
       "      <th>Games</th>\n",
       "      <th>Year</th>\n",
       "      <th>Season</th>\n",
       "      <th>City</th>\n",
       "      <th>Sport</th>\n",
       "      <th>Event</th>\n",
       "      <th>Medal</th>\n",
       "    </tr>\n",
       "  </thead>\n",
       "  <tbody>\n",
       "    <tr>\n",
       "      <th>0</th>\n",
       "      <td>1</td>\n",
       "      <td>A Dijiang</td>\n",
       "      <td>M</td>\n",
       "      <td>24.0</td>\n",
       "      <td>180.0</td>\n",
       "      <td>80.0</td>\n",
       "      <td>China</td>\n",
       "      <td>CHN</td>\n",
       "      <td>1992 Summer</td>\n",
       "      <td>1992.0</td>\n",
       "      <td>Summer</td>\n",
       "      <td>Barcelona</td>\n",
       "      <td>Basketball</td>\n",
       "      <td>Basketball Men's Basketball</td>\n",
       "      <td>NaN</td>\n",
       "    </tr>\n",
       "    <tr>\n",
       "      <th>1</th>\n",
       "      <td>2</td>\n",
       "      <td>A Lamusi</td>\n",
       "      <td>M</td>\n",
       "      <td>23.0</td>\n",
       "      <td>170.0</td>\n",
       "      <td>60.0</td>\n",
       "      <td>China</td>\n",
       "      <td>CHN</td>\n",
       "      <td>2012 Summer</td>\n",
       "      <td>2012.0</td>\n",
       "      <td>Summer</td>\n",
       "      <td>London</td>\n",
       "      <td>Judo</td>\n",
       "      <td>Judo Men's Extra-Lightweight</td>\n",
       "      <td>NaN</td>\n",
       "    </tr>\n",
       "    <tr>\n",
       "      <th>2</th>\n",
       "      <td>3</td>\n",
       "      <td>Gunnar Nielsen Aaby</td>\n",
       "      <td>M</td>\n",
       "      <td>24.0</td>\n",
       "      <td>NaN</td>\n",
       "      <td>NaN</td>\n",
       "      <td>Denmark</td>\n",
       "      <td>DEN</td>\n",
       "      <td>1920 Summer</td>\n",
       "      <td>1920.0</td>\n",
       "      <td>Summer</td>\n",
       "      <td>Antwerpen</td>\n",
       "      <td>Football</td>\n",
       "      <td>Football Men's Football</td>\n",
       "      <td>NaN</td>\n",
       "    </tr>\n",
       "  </tbody>\n",
       "</table>\n",
       "</div>"
      ],
      "text/plain": [
       "   ID                 Name Sex   Age  Height  Weight     Team  NOC  \\\n",
       "0   1            A Dijiang   M  24.0   180.0    80.0    China  CHN   \n",
       "1   2             A Lamusi   M  23.0   170.0    60.0    China  CHN   \n",
       "2   3  Gunnar Nielsen Aaby   M  24.0     NaN     NaN  Denmark  DEN   \n",
       "\n",
       "         Games    Year  Season       City       Sport  \\\n",
       "0  1992 Summer  1992.0  Summer  Barcelona  Basketball   \n",
       "1  2012 Summer  2012.0  Summer     London        Judo   \n",
       "2  1920 Summer  1920.0  Summer  Antwerpen    Football   \n",
       "\n",
       "                          Event Medal  \n",
       "0   Basketball Men's Basketball   NaN  \n",
       "1  Judo Men's Extra-Lightweight   NaN  \n",
       "2       Football Men's Football   NaN  "
      ]
     },
     "execution_count": 5,
     "metadata": {},
     "output_type": "execute_result"
    }
   ],
   "source": [
    "df.head(3)"
   ]
  },
  {
   "cell_type": "markdown",
   "id": "c0228fc5",
   "metadata": {},
   "source": [
    "> Let's highlight here the numerical and categorical features. \n",
    ">\n",
    "> Regarding the Year, this is neither a numerical nor a qualitative variable. Let's consider it a separate type - Time Series."
   ]
  },
  {
   "cell_type": "code",
   "execution_count": 6,
   "id": "372b11dc",
   "metadata": {},
   "outputs": [],
   "source": [
    "num_features = ['Age', 'Height', 'Weight']\n",
    "cat_features = ['Name', 'Sex', 'Team', 'NOC', 'Games', 'Season', 'City', 'Sport', 'Event', 'Medal']"
   ]
  },
  {
   "cell_type": "code",
   "execution_count": 7,
   "id": "c76c2946",
   "metadata": {},
   "outputs": [
    {
     "name": "stdout",
     "output_type": "stream",
     "text": [
      "Here we have 271115 entries total in our dataframe\n",
      "\n",
      "Some summary about the data:\n",
      "\n",
      "<class 'pandas.core.frame.DataFrame'>\n",
      "Int64Index: 271115 entries, 0 to 22390\n",
      "Data columns (total 15 columns):\n",
      " #   Column  Non-Null Count   Dtype  \n",
      "---  ------  --------------   -----  \n",
      " 0   ID      271115 non-null  int64  \n",
      " 1   Name    271114 non-null  object \n",
      " 2   Sex     271113 non-null  object \n",
      " 3   Age     261639 non-null  float64\n",
      " 4   Height  210943 non-null  float64\n",
      " 5   Weight  208239 non-null  float64\n",
      " 6   Team    271112 non-null  object \n",
      " 7   NOC     271111 non-null  object \n",
      " 8   Games   271110 non-null  object \n",
      " 9   Year    271108 non-null  float64\n",
      " 10  Season  271108 non-null  object \n",
      " 11  City    271108 non-null  object \n",
      " 12  Sport   271108 non-null  object \n",
      " 13  Event   271107 non-null  object \n",
      " 14  Medal   39782 non-null   object \n",
      "dtypes: float64(4), int64(1), object(10)\n",
      "memory usage: 33.1+ MB\n",
      "None\n"
     ]
    }
   ],
   "source": [
    "print(f'Here we have {len(df)} entries total in our dataframe\\n')\n",
    "print(f'Some summary about the data:\\n')\n",
    "print(df.info())"
   ]
  },
  {
   "cell_type": "markdown",
   "id": "12f4cc21",
   "metadata": {},
   "source": [
    "> This result also could be obtained with `df.isna().sum()` or `df.isnull().sum()` functions"
   ]
  },
  {
   "cell_type": "markdown",
   "id": "c881c64c",
   "metadata": {},
   "source": [
    "According to the table all the columns expected to be numeric are actually numeric, so i don't see any numbers written as strings"
   ]
  },
  {
   "cell_type": "markdown",
   "id": "fc6c6541",
   "metadata": {},
   "source": [
    "### Finding rubbish in data\n",
    "\n",
    "> We will deal with missing values later, here about the rabbish"
   ]
  },
  {
   "cell_type": "code",
   "execution_count": 8,
   "id": "04c7dd44",
   "metadata": {
    "scrolled": true
   },
   "outputs": [
    {
     "name": "stdout",
     "output_type": "stream",
     "text": [
      "Unique Sex values: ['M' 'F' 'G' nan]\n",
      "Unique Season values: ['Summer' 'Winter' nan]\n",
      "Unique Medal values: [nan 'Gold' 'Bronze' 'Silver']\n",
      "Unique Games values: ['1992 Summer' '2012 Summer' '1920 Summer' '1900 Summer' '1988 Winter'\n",
      " '1992 Winter' '1994 Winter' '1932 Summer' '2002 Winter' '1952 Summer'\n",
      " '1980 Winter' '2000 Summer' '1996 Summer' '1912 Summer' '1924 Summer'\n",
      " '2014 Winter' '1948 Summer' '1998 Winter' '2006 Winter' '2008 Summer'\n",
      " '2016 Summer' '2004 Summer' '1960 Winter' '1964 Winter' '1984 Winter'\n",
      " '1984 Summer' '1968 Summer' '1972 Summer' '1988 Summer' '1936 Summer'\n",
      " '1952 Winter' '1956 Winter' '1956 Summer' '1960 Summer' '1928 Summer'\n",
      " '1976 Summer' '1980 Summer' '1964 Summer' '2010 Winter' '1968 Winter'\n",
      " '1906 Summer' '1972 Winter' '1976 Winter' '1924 Winter' '1904 Summer'\n",
      " '1928 Winter' '1908 Summer' '1948 Winter' '1932 Winter' '1936 Winter'\n",
      " '1896 Summer' '2000 Su' '2004 Summe' nan]\n",
      "Unique City values: ['Barcelona' 'London' 'Antwerpen' 'Paris' 'Calgary' 'Albertville'\n",
      " 'Lillehammer' 'Los Angeles' 'Salt Lake City' 'Helsinki' 'Lake Placid'\n",
      " 'Sydney' 'Atlanta' 'Stockholm' 'Sochi' 'Nagano' 'Torino' 'Beijing'\n",
      " 'Rio de Janeiro' 'Athina' 'Squaw Valley' 'Innsbruck' 'Sarajevo'\n",
      " 'Mexico City' 'Munich' 'Seoul' 'Berlin' 'Oslo' \"Cortina d'Ampezzo\"\n",
      " 'Melbourne' 'Roma' 'Amsterdam' 'Montreal' 'Moskva' 'Tokyo' 'Vancouver'\n",
      " 'Grenoble' 'Sapporo' 'Chamonix' 'St. Louis' 'Sankt Moritz'\n",
      " 'Garmisch-Partenkirchen' nan]\n",
      "Unique Sport values: ['Basketball' 'Judo' 'Football' 'Tug-Of-War' 'Speed Skating'\n",
      " 'Cross Country Skiing' 'Athletics' 'Ice Hockey' 'Swimming' 'Badminton'\n",
      " 'Sailing' 'Biathlon' 'Gymnastics' 'Art Competitions' 'Alpine Skiing'\n",
      " 'Handball' 'Weightlifting' 'Wrestling' 'Luge' 'Water Polo' 'Hockey'\n",
      " 'Rowing' 'Bobsleigh' 'Fencing' 'Equestrianism' 'Shooting' 'Boxing'\n",
      " 'Taekwondo' 'Cycling' 'Diving' 'Canoeing' 'Tennis' 'Modern Pentathlon'\n",
      " 'Figure Skating' 'Golf' 'Softball' 'Archery' 'Volleyball'\n",
      " 'Synchronized Swimming' 'Table Tennis' 'Nordic Combined' 'Baseball'\n",
      " 'Rhythmic Gymnastics' 'Freestyle Skiing' 'Rugby Sevens' 'Trampolining'\n",
      " 'Beach Volleyball' 'Triathlon' 'Ski Jumping' 'Curling' 'Snowboarding'\n",
      " 'Rugby' 'Short Track Speed Skating' 'Skeleton' 'Lacrosse' 'Polo'\n",
      " 'Cricket' 'Racquets' 'Motorboating' 'Military Ski Patrol' 'Croquet'\n",
      " 'Jeu De Paume' nan 'Roque' 'Alpinism' 'Basque Pelota' 'Footba'\n",
      " 'Aeronautics']\n"
     ]
    }
   ],
   "source": [
    "for f in ['Sex', 'Season', 'Medal', 'Games', 'City', 'Sport']:\n",
    "    print(f'Unique {f} values: {df[f].unique()}')"
   ]
  },
  {
   "cell_type": "markdown",
   "id": "e64c17b6",
   "metadata": {},
   "source": [
    "> I see some rubbish here:\n",
    "\n",
    "- 'G' in Sex\n",
    "- '2000 Su' and '2004 Summe' in Games\n",
    "- 'Moskva' in City\n",
    "- 'Footba' in Sport"
   ]
  },
  {
   "cell_type": "markdown",
   "id": "d83ad22f",
   "metadata": {},
   "source": [
    "> For the Age:"
   ]
  },
  {
   "cell_type": "code",
   "execution_count": 9,
   "id": "83b464f1",
   "metadata": {
    "scrolled": false
   },
   "outputs": [
    {
     "name": "stdout",
     "output_type": "stream",
     "text": [
      "[10.0, 11.0, 12.0, 13.0, 14.0, 15.0, 16.0, 17.0, 18.0, 19.0, 20.0, 21.0, 22.0, 23.0, 24.0, 25.0, 26.0, 27.0, 28.0, 29.0, 30.0, 31.0, 32.0, 33.0, 34.0, 35.0, 36.0, 37.0, 38.0, 39.0, 40.0, 41.0, 42.0, 43.0, 44.0, 45.0, 46.0, 47.0, 48.0, 49.0, 50.0, 51.0, 52.0, 53.0, 54.0, 55.0, 56.0, 57.0, 58.0, 59.0, 60.0, 61.0, 62.0, 63.0, 64.0, 65.0, 66.0, 67.0, 68.0, 69.0, 70.0, 71.0, 72.0, 73.0, 74.0, 75.0, 76.0, 77.0, 80.0, 81.0, 84.0, 88.0, 96.0, 97.0, 240.0]\n",
      "\n",
      "The most Age value is [240] and it appears [1] times\n"
     ]
    }
   ],
   "source": [
    "print(sorted(df.Age.dropna().unique()))\n",
    "mav = df.Age.dropna().sort_values().value_counts().tail(1)\n",
    "print(f'\\nThe most Age value is {mav.index.values.astype(int)} and it appears {mav.values} times')"
   ]
  },
  {
   "cell_type": "markdown",
   "id": "75f7700e",
   "metadata": {},
   "source": [
    "> This is an obvious outlier - the age is 240 years.\n",
    "> The same outliers are observable for Height and Weight:"
   ]
  },
  {
   "cell_type": "code",
   "execution_count": 10,
   "id": "afe3f7e8",
   "metadata": {},
   "outputs": [
    {
     "name": "stdout",
     "output_type": "stream",
     "text": [
      "\n",
      "The most Height value is [340] and it appears [1] times\n",
      "\n",
      "The least Weight value is [7] and it appears [1] times\n"
     ]
    }
   ],
   "source": [
    "mhv = df.Height.dropna().sort_values().value_counts().tail(1)\n",
    "lwv = df.Weight.dropna().sort_values().value_counts().tail(1)\n",
    "print(f'\\nThe most Height value is {mhv.index.values.astype(int)} and it appears {mhv.values} times')\n",
    "print(f'\\nThe least Weight value is {lwv.index.values.astype(int)} and it appears {lwv.values} times')"
   ]
  },
  {
   "cell_type": "markdown",
   "id": "8ad33c43",
   "metadata": {},
   "source": [
    "The NOC county 3-letter codes we will check with 'noc_regions.csv' from the [kaggle](https://www.kaggle.com/datasets/heesoo37/120-years-of-olympic-history-athletes-and-results). I will print Teams as well in order to understad what the country is behind the NOC code."
   ]
  },
  {
   "cell_type": "code",
   "execution_count": 11,
   "id": "7eae603b",
   "metadata": {},
   "outputs": [
    {
     "name": "stdout",
     "output_type": "stream",
     "text": [
      "SGP\n",
      "['Singapore' 'June Climene' 'Rika II' 'Singapore-2' 'Singapore-1']\n",
      "nan\n",
      "[]\n",
      "JP\n",
      "['Japan']\n"
     ]
    }
   ],
   "source": [
    "noc_regions = pd.read_csv(os.path.join('..', 'data', 'noc_regions.csv'))\n",
    "for region in df['NOC'].unique():\n",
    "    if region not in noc_regions['NOC'].to_list():\n",
    "        print(region)\n",
    "        print(df[df['NOC'] == region].Team.unique())"
   ]
  },
  {
   "cell_type": "markdown",
   "id": "bfed336d",
   "metadata": {},
   "source": [
    "> By the way, such a method of finding strange values, which I show here, is the only possible one when working with a unique dataset. If this were a real task, i would have to sit and check every person and every team on the Internet. But we know that there is an ideal dataset on the Internet. We will not engage in stupidity, we will compare everything else with it, and at the same time we will double-check ourselves."
   ]
  },
  {
   "cell_type": "code",
   "execution_count": 12,
   "id": "7880a9bc",
   "metadata": {},
   "outputs": [
    {
     "name": "stdout",
     "output_type": "stream",
     "text": [
      "ID set()\n",
      "Name {nan, 'Pietro Spec'}\n",
      "Sex {nan, 'G'}\n",
      "Age {nan, 240.0}\n",
      "Height {nan, 340.0}\n",
      "Weight {nan, 7.0}\n",
      "Team {nan}\n",
      "NOC {nan, 'JP'}\n",
      "Games {nan, '2004 Summe', '2000 Su'}\n",
      "Year {nan}\n",
      "Season {nan}\n",
      "City {nan}\n",
      "Sport {nan, 'Footba'}\n",
      "Event {nan, 'Gymnastics M'}\n",
      "Medal set()\n"
     ]
    }
   ],
   "source": [
    "true_df = pd.read_csv(os.path.join('..', 'data', 'athlete_events_ideal.csv'))\n",
    "for feature in df.columns:\n",
    "    print(feature, set(df[feature].unique()) - set(true_df[feature].unique()))"
   ]
  },
  {
   "cell_type": "markdown",
   "id": "557ab7f0",
   "metadata": {},
   "source": [
    "> Most of theese mismatches we found on our own. Let's check what are the 'Pietro Spec' in Names and 'Gymnastics M' in Events\n",
    "\n",
    "<sub>The Moskva  is not a rubbish...</sub>"
   ]
  },
  {
   "cell_type": "code",
   "execution_count": 13,
   "id": "f9b416c8",
   "metadata": {
    "scrolled": true
   },
   "outputs": [
    {
     "data": {
      "text/html": [
       "<div>\n",
       "<style scoped>\n",
       "    .dataframe tbody tr th:only-of-type {\n",
       "        vertical-align: middle;\n",
       "    }\n",
       "\n",
       "    .dataframe tbody tr th {\n",
       "        vertical-align: top;\n",
       "    }\n",
       "\n",
       "    .dataframe thead th {\n",
       "        text-align: right;\n",
       "    }\n",
       "</style>\n",
       "<table border=\"1\" class=\"dataframe\">\n",
       "  <thead>\n",
       "    <tr style=\"text-align: right;\">\n",
       "      <th></th>\n",
       "      <th>ID</th>\n",
       "      <th>Name</th>\n",
       "      <th>Sex</th>\n",
       "      <th>Age</th>\n",
       "      <th>Height</th>\n",
       "      <th>Weight</th>\n",
       "      <th>Team</th>\n",
       "      <th>NOC</th>\n",
       "      <th>Games</th>\n",
       "      <th>Year</th>\n",
       "      <th>Season</th>\n",
       "      <th>City</th>\n",
       "      <th>Sport</th>\n",
       "      <th>Event</th>\n",
       "      <th>Medal</th>\n",
       "    </tr>\n",
       "  </thead>\n",
       "  <tbody>\n",
       "    <tr>\n",
       "      <th>22409</th>\n",
       "      <td>113716</td>\n",
       "      <td>Pietro Spec</td>\n",
       "      <td>NaN</td>\n",
       "      <td>NaN</td>\n",
       "      <td>NaN</td>\n",
       "      <td>NaN</td>\n",
       "      <td>NaN</td>\n",
       "      <td>NaN</td>\n",
       "      <td>NaN</td>\n",
       "      <td>NaN</td>\n",
       "      <td>NaN</td>\n",
       "      <td>NaN</td>\n",
       "      <td>NaN</td>\n",
       "      <td>NaN</td>\n",
       "      <td>NaN</td>\n",
       "    </tr>\n",
       "  </tbody>\n",
       "</table>\n",
       "</div>"
      ],
      "text/plain": [
       "           ID         Name  Sex  Age  Height  Weight Team  NOC Games  Year  \\\n",
       "22409  113716  Pietro Spec  NaN  NaN     NaN     NaN  NaN  NaN   NaN   NaN   \n",
       "\n",
       "      Season City Sport Event Medal  \n",
       "22409    NaN  NaN   NaN   NaN   NaN  "
      ]
     },
     "execution_count": 13,
     "metadata": {},
     "output_type": "execute_result"
    }
   ],
   "source": [
    "df[df.Name == 'Pietro Spec']"
   ]
  },
  {
   "cell_type": "markdown",
   "id": "0dfaf620",
   "metadata": {},
   "source": [
    "I see that we will say goodbye to Mr. Pietro Speс after clearing the missing values."
   ]
  },
  {
   "cell_type": "code",
   "execution_count": 14,
   "id": "2fa5d2fe",
   "metadata": {},
   "outputs": [
    {
     "data": {
      "text/html": [
       "<div>\n",
       "<style scoped>\n",
       "    .dataframe tbody tr th:only-of-type {\n",
       "        vertical-align: middle;\n",
       "    }\n",
       "\n",
       "    .dataframe tbody tr th {\n",
       "        vertical-align: top;\n",
       "    }\n",
       "\n",
       "    .dataframe thead th {\n",
       "        text-align: right;\n",
       "    }\n",
       "</style>\n",
       "<table border=\"1\" class=\"dataframe\">\n",
       "  <thead>\n",
       "    <tr style=\"text-align: right;\">\n",
       "      <th></th>\n",
       "      <th>ID</th>\n",
       "      <th>Name</th>\n",
       "      <th>Sex</th>\n",
       "      <th>Age</th>\n",
       "      <th>Height</th>\n",
       "      <th>Weight</th>\n",
       "      <th>Team</th>\n",
       "      <th>NOC</th>\n",
       "      <th>Games</th>\n",
       "      <th>Year</th>\n",
       "      <th>Season</th>\n",
       "      <th>City</th>\n",
       "      <th>Sport</th>\n",
       "      <th>Event</th>\n",
       "      <th>Medal</th>\n",
       "    </tr>\n",
       "  </thead>\n",
       "  <tbody>\n",
       "    <tr>\n",
       "      <th>22601</th>\n",
       "      <td>57367</td>\n",
       "      <td>Velik Nikolov Kapsazov</td>\n",
       "      <td>M</td>\n",
       "      <td>25.0</td>\n",
       "      <td>167.0</td>\n",
       "      <td>67.0</td>\n",
       "      <td>Bulgaria</td>\n",
       "      <td>BUL</td>\n",
       "      <td>1960 Summer</td>\n",
       "      <td>1960.0</td>\n",
       "      <td>Summer</td>\n",
       "      <td>Roma</td>\n",
       "      <td>Gymnastics</td>\n",
       "      <td>Gymnastics M</td>\n",
       "      <td>NaN</td>\n",
       "    </tr>\n",
       "  </tbody>\n",
       "</table>\n",
       "</div>"
      ],
      "text/plain": [
       "          ID                    Name Sex   Age  Height  Weight      Team  NOC  \\\n",
       "22601  57367  Velik Nikolov Kapsazov   M  25.0   167.0    67.0  Bulgaria  BUL   \n",
       "\n",
       "             Games    Year  Season  City       Sport         Event Medal  \n",
       "22601  1960 Summer  1960.0  Summer  Roma  Gymnastics  Gymnastics M   NaN  "
      ]
     },
     "execution_count": 14,
     "metadata": {},
     "output_type": "execute_result"
    }
   ],
   "source": [
    "df[df.Event == 'Gymnastics M']"
   ]
  },
  {
   "cell_type": "code",
   "execution_count": 15,
   "id": "1f863400",
   "metadata": {},
   "outputs": [
    {
     "name": "stdout",
     "output_type": "stream",
     "text": [
      "113240    Gymnastics Men's Individual All-Around\n",
      "113241          Gymnastics Men's Team All-Around\n",
      "113242           Gymnastics Men's Floor Exercise\n",
      "113243              Gymnastics Men's Horse Vault\n",
      "113244            Gymnastics Men's Parallel Bars\n",
      "113245           Gymnastics Men's Horizontal Bar\n",
      "113246                    Gymnastics Men's Rings\n",
      "113247          Gymnastics Men's Pommelled Horse\n",
      "Name: Event, dtype: object\n",
      "22599    Gymnastics Men's Individual All-Around\n",
      "22600          Gymnastics Men's Team All-Around\n",
      "22601                              Gymnastics M\n",
      "0                  Gymnastics Men's Horse Vault\n",
      "1                Gymnastics Men's Parallel Bars\n",
      "2               Gymnastics Men's Horizontal Bar\n",
      "3                        Gymnastics Men's Rings\n",
      "4              Gymnastics Men's Pommelled Horse\n",
      "Name: Event, dtype: object\n"
     ]
    }
   ],
   "source": [
    "print(true_df.query('ID == 57367 and City == \"Roma\"').Event)\n",
    "print(df.query('ID == 57367 and City == \"Roma\"').Event)"
   ]
  },
  {
   "cell_type": "markdown",
   "id": "b92a1065",
   "metadata": {},
   "source": [
    "Now we see 'Gymnastics Men's Floor Exercise' was lost"
   ]
  },
  {
   "cell_type": "markdown",
   "id": "1c555c7b",
   "metadata": {
    "slideshow": {
     "slide_type": "slide"
    }
   },
   "source": [
    "I also see some entry that was spoiled totally but presents in ideal df."
   ]
  },
  {
   "cell_type": "code",
   "execution_count": 16,
   "id": "ee80b5b7",
   "metadata": {},
   "outputs": [
    {
     "data": {
      "text/html": [
       "<div>\n",
       "<style scoped>\n",
       "    .dataframe tbody tr th:only-of-type {\n",
       "        vertical-align: middle;\n",
       "    }\n",
       "\n",
       "    .dataframe tbody tr th {\n",
       "        vertical-align: top;\n",
       "    }\n",
       "\n",
       "    .dataframe thead th {\n",
       "        text-align: right;\n",
       "    }\n",
       "</style>\n",
       "<table border=\"1\" class=\"dataframe\">\n",
       "  <thead>\n",
       "    <tr style=\"text-align: right;\">\n",
       "      <th></th>\n",
       "      <th>ID</th>\n",
       "      <th>Name</th>\n",
       "      <th>Sex</th>\n",
       "      <th>Age</th>\n",
       "      <th>Height</th>\n",
       "      <th>Weight</th>\n",
       "      <th>Team</th>\n",
       "      <th>NOC</th>\n",
       "      <th>Games</th>\n",
       "      <th>Year</th>\n",
       "      <th>Season</th>\n",
       "      <th>City</th>\n",
       "      <th>Sport</th>\n",
       "      <th>Event</th>\n",
       "      <th>Medal</th>\n",
       "    </tr>\n",
       "  </thead>\n",
       "  <tbody>\n",
       "    <tr>\n",
       "      <th>22463</th>\n",
       "      <td>124516</td>\n",
       "      <td>NaN</td>\n",
       "      <td>NaN</td>\n",
       "      <td>NaN</td>\n",
       "      <td>NaN</td>\n",
       "      <td>NaN</td>\n",
       "      <td>NaN</td>\n",
       "      <td>NaN</td>\n",
       "      <td>NaN</td>\n",
       "      <td>NaN</td>\n",
       "      <td>NaN</td>\n",
       "      <td>NaN</td>\n",
       "      <td>NaN</td>\n",
       "      <td>NaN</td>\n",
       "      <td>NaN</td>\n",
       "    </tr>\n",
       "  </tbody>\n",
       "</table>\n",
       "</div>"
      ],
      "text/plain": [
       "           ID Name  Sex  Age  Height  Weight Team  NOC Games  Year Season  \\\n",
       "22463  124516  NaN  NaN  NaN     NaN     NaN  NaN  NaN   NaN   NaN    NaN   \n",
       "\n",
       "      City Sport Event Medal  \n",
       "22463  NaN   NaN   NaN   NaN  "
      ]
     },
     "execution_count": 16,
     "metadata": {},
     "output_type": "execute_result"
    }
   ],
   "source": [
    "one_id = int(true_df[true_df.Name == 'Thomas Hendrikus Maria \"Thom\" van Dijck'].ID.values)\n",
    "df[df.ID == one_id]"
   ]
  },
  {
   "cell_type": "markdown",
   "id": "1ae6b72a",
   "metadata": {},
   "source": [
    "###### Let's fix all of this stuff"
   ]
  },
  {
   "cell_type": "markdown",
   "id": "f8607ab9",
   "metadata": {},
   "source": [
    "> For sex 'G' obviously they are male:"
   ]
  },
  {
   "cell_type": "code",
   "execution_count": 17,
   "id": "295f9595",
   "metadata": {},
   "outputs": [
    {
     "data": {
      "text/html": [
       "<div>\n",
       "<style scoped>\n",
       "    .dataframe tbody tr th:only-of-type {\n",
       "        vertical-align: middle;\n",
       "    }\n",
       "\n",
       "    .dataframe tbody tr th {\n",
       "        vertical-align: top;\n",
       "    }\n",
       "\n",
       "    .dataframe thead th {\n",
       "        text-align: right;\n",
       "    }\n",
       "</style>\n",
       "<table border=\"1\" class=\"dataframe\">\n",
       "  <thead>\n",
       "    <tr style=\"text-align: right;\">\n",
       "      <th></th>\n",
       "      <th>ID</th>\n",
       "      <th>Name</th>\n",
       "      <th>Sex</th>\n",
       "      <th>Age</th>\n",
       "      <th>Height</th>\n",
       "      <th>Weight</th>\n",
       "      <th>Team</th>\n",
       "      <th>NOC</th>\n",
       "      <th>Games</th>\n",
       "      <th>Year</th>\n",
       "      <th>Season</th>\n",
       "      <th>City</th>\n",
       "      <th>Sport</th>\n",
       "      <th>Event</th>\n",
       "      <th>Medal</th>\n",
       "    </tr>\n",
       "  </thead>\n",
       "  <tbody>\n",
       "    <tr>\n",
       "      <th>42</th>\n",
       "      <td>79609</td>\n",
       "      <td>Pavel Mike</td>\n",
       "      <td>G</td>\n",
       "      <td>22.0</td>\n",
       "      <td>182.0</td>\n",
       "      <td>79.0</td>\n",
       "      <td>Czechoslovakia</td>\n",
       "      <td>TCH</td>\n",
       "      <td>1972 Summer</td>\n",
       "      <td>1972.0</td>\n",
       "      <td>Summer</td>\n",
       "      <td>Munich</td>\n",
       "      <td>Handball</td>\n",
       "      <td>Handball Men's Handball</td>\n",
       "      <td>Silver</td>\n",
       "    </tr>\n",
       "    <tr>\n",
       "      <th>74</th>\n",
       "      <td>79630</td>\n",
       "      <td>Anatoly Mikhaylin</td>\n",
       "      <td>G</td>\n",
       "      <td>37.0</td>\n",
       "      <td>NaN</td>\n",
       "      <td>NaN</td>\n",
       "      <td>Russia</td>\n",
       "      <td>RUS</td>\n",
       "      <td>1996 Summer</td>\n",
       "      <td>1996.0</td>\n",
       "      <td>Summer</td>\n",
       "      <td>Atlanta</td>\n",
       "      <td>Sailing</td>\n",
       "      <td>Sailing Mixed Two Person Keelboat</td>\n",
       "      <td>NaN</td>\n",
       "    </tr>\n",
       "  </tbody>\n",
       "</table>\n",
       "</div>"
      ],
      "text/plain": [
       "       ID               Name Sex   Age  Height  Weight            Team  NOC  \\\n",
       "42  79609         Pavel Mike   G  22.0   182.0    79.0  Czechoslovakia  TCH   \n",
       "74  79630  Anatoly Mikhaylin   G  37.0     NaN     NaN          Russia  RUS   \n",
       "\n",
       "          Games    Year  Season     City     Sport  \\\n",
       "42  1972 Summer  1972.0  Summer   Munich  Handball   \n",
       "74  1996 Summer  1996.0  Summer  Atlanta   Sailing   \n",
       "\n",
       "                                Event   Medal  \n",
       "42            Handball Men's Handball  Silver  \n",
       "74  Sailing Mixed Two Person Keelboat     NaN  "
      ]
     },
     "execution_count": 17,
     "metadata": {},
     "output_type": "execute_result"
    }
   ],
   "source": [
    "df[df.Sex == 'G']"
   ]
  },
  {
   "cell_type": "code",
   "execution_count": 18,
   "id": "9602a7cc",
   "metadata": {},
   "outputs": [],
   "source": [
    "df.Sex.replace('G', 'M', inplace=True)\n",
    "df.Sport.replace('Footba', 'Football', inplace=True)\n",
    "df.Games.replace('2000 Su', '2000 Summer', inplace=True)\n",
    "df.Games.replace('2004 Summe', '2004 Summer', inplace=True)\n",
    "df.NOC.replace('JP', 'JPN', inplace=True)\n",
    "df.Event.replace(\"Gymnastics M\", \"Gymnastics Men's Floor Exercise\", inplace=True)"
   ]
  },
  {
   "cell_type": "code",
   "execution_count": 19,
   "id": "25cdcaf3",
   "metadata": {},
   "outputs": [],
   "source": [
    "df = df[df.Age != 240]\n",
    "df = df[df.Height != 340]\n",
    "df = df[df.Weight != 7]"
   ]
  },
  {
   "cell_type": "markdown",
   "id": "9c143d63",
   "metadata": {},
   "source": [
    "In any case, such a replacement would not be possible without an ideal dataset. In real life, you may have to restore corrupted values using the Internet or even drop them."
   ]
  },
  {
   "cell_type": "markdown",
   "id": "465394b9",
   "metadata": {},
   "source": [
    "### Dealing with missing values"
   ]
  },
  {
   "cell_type": "markdown",
   "id": "711160d7",
   "metadata": {},
   "source": [
    ">We see there some missing values in some features. Let's make that numbers more illustratory:"
   ]
  },
  {
   "cell_type": "code",
   "execution_count": 20,
   "id": "58e73181",
   "metadata": {},
   "outputs": [
    {
     "data": {
      "text/plain": [
       "<Figure size 720x432 with 0 Axes>"
      ]
     },
     "metadata": {},
     "output_type": "display_data"
    },
    {
     "data": {
      "image/png": "[encoded data removed]",
      "text/plain": [
       "<Figure size 511.25x360 with 1 Axes>"
      ]
     },
     "metadata": {
      "needs_background": "light"
     },
     "output_type": "display_data"
    }
   ],
   "source": [
    "plt.figure(figsize=(10, 6))\n",
    "sns.displot(\n",
    "    data=df.isna().melt(value_name=\"missing\"),\n",
    "    y=\"variable\",\n",
    "    hue=\"missing\",\n",
    "    multiple=\"fill\",\n",
    "    aspect=1.25\n",
    ")\n",
    "plt.xlabel(\"Fraction\")\n",
    "plt.ylabel(\"Features\")\n",
    "plt.title(\"Fraction of missing values\")\n",
    "plt.savefig(\"pictures/Missing_values_in_raw_dataset_count.png\", dpi=100)\n",
    "plt.show()"
   ]
  },
  {
   "cell_type": "markdown",
   "id": "3b2ce233",
   "metadata": {},
   "source": [
    "> Here we see how many missing values are there. But how are they distributed? Let's check weather is there some correlation between value's missingnesses"
   ]
  },
  {
   "cell_type": "code",
   "execution_count": 21,
   "id": "0768da8b",
   "metadata": {},
   "outputs": [
    {
     "data": {
      "text/plain": [
       "<Figure size 432x288 with 0 Axes>"
      ]
     },
     "metadata": {},
     "output_type": "display_data"
    },
    {
     "data": {
      "image/png": "[encoded data removed]",
      "text/plain": [
       "<Figure size 1080x360 with 3 Axes>"
      ]
     },
     "metadata": {
      "needs_background": "light"
     },
     "output_type": "display_data"
    }
   ],
   "source": [
    "plt.figure()\n",
    "fig, axes = plt.subplots(1, 2, sharex=True, figsize=(15, 5))\n",
    "msno.heatmap(df, ax=axes[0], figsize=(8, 5), fontsize=12)\n",
    "msno.matrix(df, ax=axes[1], sparkline=False, figsize=(6, 5), fontsize=12, color=(0.2, 0.10, 1.0));\n",
    "plt.savefig(\"pictures/Missing_values_in_raw_dataset_correlation.png\", dpi=100)\n",
    "plt.show()"
   ]
  },
  {
   "cell_type": "markdown",
   "id": "f8537351",
   "metadata": {},
   "source": [
    "> We have some features with 1 - 2 missing values, some with 7 - 8 and 4 features with much more missing values. Firstly, let's deal with first and seconds ones."
   ]
  },
  {
   "cell_type": "code",
   "execution_count": 22,
   "id": "21486753",
   "metadata": {},
   "outputs": [
    {
     "data": {
      "text/html": [
       "<div>\n",
       "<style scoped>\n",
       "    .dataframe tbody tr th:only-of-type {\n",
       "        vertical-align: middle;\n",
       "    }\n",
       "\n",
       "    .dataframe tbody tr th {\n",
       "        vertical-align: top;\n",
       "    }\n",
       "\n",
       "    .dataframe thead th {\n",
       "        text-align: right;\n",
       "    }\n",
       "</style>\n",
       "<table border=\"1\" class=\"dataframe\">\n",
       "  <thead>\n",
       "    <tr style=\"text-align: right;\">\n",
       "      <th></th>\n",
       "      <th>ID</th>\n",
       "      <th>Name</th>\n",
       "      <th>Sex</th>\n",
       "      <th>Age</th>\n",
       "      <th>Height</th>\n",
       "      <th>Weight</th>\n",
       "      <th>Team</th>\n",
       "      <th>NOC</th>\n",
       "      <th>Games</th>\n",
       "      <th>Year</th>\n",
       "      <th>Season</th>\n",
       "      <th>City</th>\n",
       "      <th>Sport</th>\n",
       "      <th>Event</th>\n",
       "      <th>Medal</th>\n",
       "    </tr>\n",
       "  </thead>\n",
       "  <tbody>\n",
       "    <tr>\n",
       "      <th>22835</th>\n",
       "      <td>12005</td>\n",
       "      <td>Andrea Melissa Blackett</td>\n",
       "      <td>F</td>\n",
       "      <td>24.0</td>\n",
       "      <td>167.0</td>\n",
       "      <td>59.0</td>\n",
       "      <td>Barbados</td>\n",
       "      <td>BAR</td>\n",
       "      <td>2000 Summer</td>\n",
       "      <td>NaN</td>\n",
       "      <td>NaN</td>\n",
       "      <td>NaN</td>\n",
       "      <td>NaN</td>\n",
       "      <td>NaN</td>\n",
       "      <td>NaN</td>\n",
       "    </tr>\n",
       "    <tr>\n",
       "      <th>22586</th>\n",
       "      <td>23433</td>\n",
       "      <td>Hadj Moussa Coulibaly</td>\n",
       "      <td>M</td>\n",
       "      <td>23.0</td>\n",
       "      <td>NaN</td>\n",
       "      <td>NaN</td>\n",
       "      <td>Mali</td>\n",
       "      <td>MLI</td>\n",
       "      <td>2004 Summer</td>\n",
       "      <td>NaN</td>\n",
       "      <td>NaN</td>\n",
       "      <td>NaN</td>\n",
       "      <td>NaN</td>\n",
       "      <td>NaN</td>\n",
       "      <td>NaN</td>\n",
       "    </tr>\n",
       "    <tr>\n",
       "      <th>22557</th>\n",
       "      <td>34727</td>\n",
       "      <td>Carlotta Ferlito</td>\n",
       "      <td>F</td>\n",
       "      <td>17.0</td>\n",
       "      <td>160.0</td>\n",
       "      <td>50.0</td>\n",
       "      <td>Italy</td>\n",
       "      <td>NaN</td>\n",
       "      <td>NaN</td>\n",
       "      <td>NaN</td>\n",
       "      <td>NaN</td>\n",
       "      <td>NaN</td>\n",
       "      <td>NaN</td>\n",
       "      <td>NaN</td>\n",
       "      <td>NaN</td>\n",
       "    </tr>\n",
       "    <tr>\n",
       "      <th>22659</th>\n",
       "      <td>45919</td>\n",
       "      <td>Yuka Harada</td>\n",
       "      <td>F</td>\n",
       "      <td>28.0</td>\n",
       "      <td>170.0</td>\n",
       "      <td>60.0</td>\n",
       "      <td>Japan</td>\n",
       "      <td>JPN</td>\n",
       "      <td>NaN</td>\n",
       "      <td>NaN</td>\n",
       "      <td>NaN</td>\n",
       "      <td>NaN</td>\n",
       "      <td>NaN</td>\n",
       "      <td>NaN</td>\n",
       "      <td>NaN</td>\n",
       "    </tr>\n",
       "    <tr>\n",
       "      <th>22781</th>\n",
       "      <td>91137</td>\n",
       "      <td>Georgios Pantos</td>\n",
       "      <td>M</td>\n",
       "      <td>NaN</td>\n",
       "      <td>NaN</td>\n",
       "      <td>NaN</td>\n",
       "      <td>Athens-2</td>\n",
       "      <td>GRE</td>\n",
       "      <td>1906 Summer</td>\n",
       "      <td>1906.0</td>\n",
       "      <td>Summer</td>\n",
       "      <td>Athina</td>\n",
       "      <td>Football</td>\n",
       "      <td>NaN</td>\n",
       "      <td>NaN</td>\n",
       "    </tr>\n",
       "    <tr>\n",
       "      <th>22409</th>\n",
       "      <td>113716</td>\n",
       "      <td>Pietro Spec</td>\n",
       "      <td>NaN</td>\n",
       "      <td>NaN</td>\n",
       "      <td>NaN</td>\n",
       "      <td>NaN</td>\n",
       "      <td>NaN</td>\n",
       "      <td>NaN</td>\n",
       "      <td>NaN</td>\n",
       "      <td>NaN</td>\n",
       "      <td>NaN</td>\n",
       "      <td>NaN</td>\n",
       "      <td>NaN</td>\n",
       "      <td>NaN</td>\n",
       "      <td>NaN</td>\n",
       "    </tr>\n",
       "    <tr>\n",
       "      <th>22463</th>\n",
       "      <td>124516</td>\n",
       "      <td>NaN</td>\n",
       "      <td>NaN</td>\n",
       "      <td>NaN</td>\n",
       "      <td>NaN</td>\n",
       "      <td>NaN</td>\n",
       "      <td>NaN</td>\n",
       "      <td>NaN</td>\n",
       "      <td>NaN</td>\n",
       "      <td>NaN</td>\n",
       "      <td>NaN</td>\n",
       "      <td>NaN</td>\n",
       "      <td>NaN</td>\n",
       "      <td>NaN</td>\n",
       "      <td>NaN</td>\n",
       "    </tr>\n",
       "  </tbody>\n",
       "</table>\n",
       "</div>"
      ],
      "text/plain": [
       "           ID                     Name  Sex   Age  Height  Weight      Team  \\\n",
       "22835   12005  Andrea Melissa Blackett    F  24.0   167.0    59.0  Barbados   \n",
       "22586   23433    Hadj Moussa Coulibaly    M  23.0     NaN     NaN      Mali   \n",
       "22557   34727         Carlotta Ferlito    F  17.0   160.0    50.0     Italy   \n",
       "22659   45919              Yuka Harada    F  28.0   170.0    60.0     Japan   \n",
       "22781   91137          Georgios Pantos    M   NaN     NaN     NaN  Athens-2   \n",
       "22409  113716              Pietro Spec  NaN   NaN     NaN     NaN       NaN   \n",
       "22463  124516                      NaN  NaN   NaN     NaN     NaN       NaN   \n",
       "\n",
       "       NOC        Games    Year  Season    City     Sport Event Medal  \n",
       "22835  BAR  2000 Summer     NaN     NaN     NaN       NaN   NaN   NaN  \n",
       "22586  MLI  2004 Summer     NaN     NaN     NaN       NaN   NaN   NaN  \n",
       "22557  NaN          NaN     NaN     NaN     NaN       NaN   NaN   NaN  \n",
       "22659  JPN          NaN     NaN     NaN     NaN       NaN   NaN   NaN  \n",
       "22781  GRE  1906 Summer  1906.0  Summer  Athina  Football   NaN   NaN  \n",
       "22409  NaN          NaN     NaN     NaN     NaN       NaN   NaN   NaN  \n",
       "22463  NaN          NaN     NaN     NaN     NaN       NaN   NaN   NaN  "
      ]
     },
     "execution_count": 22,
     "metadata": {},
     "output_type": "execute_result"
    }
   ],
   "source": [
    "df[df.Event.isna()]"
   ]
  },
  {
   "cell_type": "markdown",
   "id": "6004d34f",
   "metadata": {},
   "source": [
    "> Here we see some obviously bad entries. There is no sence to try to fix it somehow, it is better just to drop that 8 rows on a 271115-length scale. Moreover, such features as Event, Sport, City and Season have strongest correlation in values lost so we will fix all of them at once. After that we will think about other missing values."
   ]
  },
  {
   "cell_type": "code",
   "execution_count": 23,
   "id": "3b25281a",
   "metadata": {
    "scrolled": true
   },
   "outputs": [
    {
     "name": "stdout",
     "output_type": "stream",
     "text": [
      "<class 'pandas.core.frame.DataFrame'>\n",
      "Int64Index: 271105 entries, 0 to 22390\n",
      "Data columns (total 15 columns):\n",
      " #   Column  Non-Null Count   Dtype  \n",
      "---  ------  --------------   -----  \n",
      " 0   ID      271105 non-null  int64  \n",
      " 1   Name    271105 non-null  object \n",
      " 2   Sex     271105 non-null  object \n",
      " 3   Age     261632 non-null  float64\n",
      " 4   Height  210938 non-null  float64\n",
      " 5   Weight  208234 non-null  float64\n",
      " 6   Team    271105 non-null  object \n",
      " 7   NOC     271105 non-null  object \n",
      " 8   Games   271105 non-null  object \n",
      " 9   Year    271105 non-null  float64\n",
      " 10  Season  271105 non-null  object \n",
      " 11  City    271105 non-null  object \n",
      " 12  Sport   271105 non-null  object \n",
      " 13  Event   271105 non-null  object \n",
      " 14  Medal   39782 non-null   object \n",
      "dtypes: float64(4), int64(1), object(10)\n",
      "memory usage: 33.1+ MB\n",
      "None\n"
     ]
    }
   ],
   "source": [
    "df.dropna(axis=0, subset=[\"Event\"], inplace = True)\n",
    "print(df.info())"
   ]
  },
  {
   "cell_type": "markdown",
   "id": "7b22a6de",
   "metadata": {},
   "source": [
    "> Medal feature looks really intriguing with so many missing values!"
   ]
  },
  {
   "cell_type": "code",
   "execution_count": 24,
   "id": "82303d47",
   "metadata": {},
   "outputs": [
    {
     "name": "stdout",
     "output_type": "stream",
     "text": [
      "[nan 'Gold' 'Bronze' 'Silver']\n"
     ]
    }
   ],
   "source": [
    "print(df.Medal.unique())"
   ]
  },
  {
   "cell_type": "markdown",
   "id": "a2398543",
   "metadata": {},
   "source": [
    "> O-o-o! For now it's clear. 'NaN' here means no medal. Thats easy to fix.\n",
    ">\n",
    "> By the way, if we had machine learning here, we would immediately turn it into a numerical categorical feature from 0 to 3"
   ]
  },
  {
   "cell_type": "code",
   "execution_count": 25,
   "id": "c234a509",
   "metadata": {},
   "outputs": [
    {
     "name": "stdout",
     "output_type": "stream",
     "text": [
      "['No medal' 'Gold' 'Bronze' 'Silver']\n"
     ]
    }
   ],
   "source": [
    "df.Medal.fillna(\"No medal\", inplace = True)\n",
    "print(df.Medal.unique())"
   ]
  },
  {
   "cell_type": "markdown",
   "id": "3fee5a60",
   "metadata": {},
   "source": [
    "> Let's take a clother look at Age, Height and Weight values:"
   ]
  },
  {
   "cell_type": "markdown",
   "id": "5cf93ad6",
   "metadata": {},
   "source": [
    "> For missing values in Age:"
   ]
  },
  {
   "cell_type": "code",
   "execution_count": 26,
   "id": "bcbfc4b8",
   "metadata": {},
   "outputs": [
    {
     "name": "stdout",
     "output_type": "stream",
     "text": [
      "The 3.5% of enties are contain missing Age\n"
     ]
    }
   ],
   "source": [
    "print(f'The {round(len(df[df.Age.isna()])*100/len(df),1)}% of enties are contain missing Age')"
   ]
  },
  {
   "cell_type": "markdown",
   "id": "e78c3927",
   "metadata": {},
   "source": [
    "Not great, not terrible, let's remove them."
   ]
  },
  {
   "cell_type": "code",
   "execution_count": 27,
   "id": "16d2399e",
   "metadata": {},
   "outputs": [],
   "source": [
    "df.dropna(subset=[\"Age\"], axis = 0, inplace = True)"
   ]
  },
  {
   "cell_type": "markdown",
   "id": "a692a93c",
   "metadata": {},
   "source": [
    "> With height and weight everything is a little more complicated. These variables are quite important, and the number of missing values in them is too large. Let's make two new dataframes using two different techniques, and then we'll see how it goes better. In one data frame we will completely remove all these missing values, and in the other, we will somehow replace them with."
   ]
  },
  {
   "cell_type": "code",
   "execution_count": 28,
   "id": "f15b3141",
   "metadata": {},
   "outputs": [
    {
     "name": "stdout",
     "output_type": "stream",
     "text": [
      "The 19.7% of enties are contain missing Height\n"
     ]
    }
   ],
   "source": [
    "print(f'The {round(len(df[df.Height.isna()])*100/len(df),1)}% of enties are contain missing Height')"
   ]
  },
  {
   "cell_type": "markdown",
   "id": "6620dbab",
   "metadata": {},
   "source": [
    "> How to replace Height and Weight? Maybe we want to put here, for example, the average values. But this is impossible due to many other features in the dataset. Okay, you can say calculate the average for certain groups and substitute it depending on the group. Also incorrect - our data contains a time series. So, for time series, there are 3 main ways to fill in missing values: forward and backward filling and interpolation. In order to take into account all these moments, we will do, for example, backfilling with division into groups. As grouping variables, we will take age, gender, country and year - they should have the greatest influence on Height and Weight. Ideally, of course, we would break the age into separate intervals, but we have a lot of data and in this case we will not do feature generation and complicate things too much."
   ]
  },
  {
   "cell_type": "code",
   "execution_count": 29,
   "id": "4ba5e133",
   "metadata": {},
   "outputs": [
    {
     "name": "stdout",
     "output_type": "stream",
     "text": [
      "Mean Height is 175\n",
      "Mean Weight is 70\n",
      "df_gimp shape is (261632, 15)\n",
      "df_drop shape is (206158, 15)\n"
     ]
    }
   ],
   "source": [
    "print(f'Mean Height is {int(df.Height.mean())}')\n",
    "print(f'Mean Weight is {int(df.Weight.mean())}')\n",
    "df_gimp = df.copy()\n",
    "\n",
    "df_drop = df.dropna(subset=['Height', 'Weight'])\n",
    "df_gimp.Height = df.groupby(['Age', 'Sex'])['Height'].ffill().bfill()\n",
    "df_gimp.Weight = df.groupby(['Age', 'Sex'])['Weight'].ffill().bfill()\n",
    "\n",
    "print(f'df_gimp shape is {df_gimp.shape}')\n",
    "print(f'df_drop shape is {df_drop.shape}')"
   ]
  },
  {
   "cell_type": "markdown",
   "id": "0b8dceea",
   "metadata": {},
   "source": [
    "> Firts of all, let's try to work with imputed-one dataframe and the cleaned one will be reserved."
   ]
  },
  {
   "cell_type": "markdown",
   "id": "547990e2",
   "metadata": {},
   "source": [
    "### EDA"
   ]
  },
  {
   "cell_type": "markdown",
   "id": "53715d2b",
   "metadata": {},
   "source": [
    "#### 3. What is the age of most young sportsmens of both sexes at Olympics 1992?"
   ]
  },
  {
   "cell_type": "code",
   "execution_count": 30,
   "id": "0634778b",
   "metadata": {},
   "outputs": [
    {
     "data": {
      "text/plain": [
       "Sex\n",
       "F    12.0\n",
       "M    11.0\n",
       "Name: Age, dtype: float64"
      ]
     },
     "execution_count": 30,
     "metadata": {},
     "output_type": "execute_result"
    }
   ],
   "source": [
    "df_gimp[df_gimp.Year == 1992].groupby(\"Sex\")[\"Age\"].min()"
   ]
  },
  {
   "cell_type": "markdown",
   "id": "ed34bef6",
   "metadata": {},
   "source": [
    "#### 4. What is the mean and standart deviation of the Height for both sexes"
   ]
  },
  {
   "cell_type": "code",
   "execution_count": 31,
   "id": "9e510217",
   "metadata": {},
   "outputs": [
    {
     "data": {
      "text/html": [
       "<div>\n",
       "<style scoped>\n",
       "    .dataframe tbody tr th:only-of-type {\n",
       "        vertical-align: middle;\n",
       "    }\n",
       "\n",
       "    .dataframe tbody tr th {\n",
       "        vertical-align: top;\n",
       "    }\n",
       "\n",
       "    .dataframe thead tr th {\n",
       "        text-align: left;\n",
       "    }\n",
       "\n",
       "    .dataframe thead tr:last-of-type th {\n",
       "        text-align: right;\n",
       "    }\n",
       "</style>\n",
       "<table border=\"1\" class=\"dataframe\">\n",
       "  <thead>\n",
       "    <tr>\n",
       "      <th></th>\n",
       "      <th colspan=\"2\" halign=\"left\">Height</th>\n",
       "    </tr>\n",
       "    <tr>\n",
       "      <th></th>\n",
       "      <th>mean</th>\n",
       "      <th>std</th>\n",
       "    </tr>\n",
       "    <tr>\n",
       "      <th>Sex</th>\n",
       "      <th></th>\n",
       "      <th></th>\n",
       "    </tr>\n",
       "  </thead>\n",
       "  <tbody>\n",
       "    <tr>\n",
       "      <th>F</th>\n",
       "      <td>167.942479</td>\n",
       "      <td>8.794632</td>\n",
       "    </tr>\n",
       "    <tr>\n",
       "      <th>M</th>\n",
       "      <td>179.066542</td>\n",
       "      <td>9.322936</td>\n",
       "    </tr>\n",
       "  </tbody>\n",
       "</table>\n",
       "</div>"
      ],
      "text/plain": [
       "         Height          \n",
       "           mean       std\n",
       "Sex                      \n",
       "F    167.942479  8.794632\n",
       "M    179.066542  9.322936"
      ]
     },
     "execution_count": 31,
     "metadata": {},
     "output_type": "execute_result"
    }
   ],
   "source": [
    "df_gimp.groupby(\"Sex\")[\"Height\"].describe()[[\"mean\", \"std\"]]\n",
    "# or\n",
    "df_gimp.groupby(\"Sex\").agg({'Height':[\"mean\",\"std\"]})"
   ]
  },
  {
   "cell_type": "markdown",
   "id": "59bfeb78",
   "metadata": {},
   "source": [
    "#### 5. What is the mean and standart deviation of the Height for woman in tennis at Olympics 2000?"
   ]
  },
  {
   "cell_type": "code",
   "execution_count": 32,
   "id": "221fdafe",
   "metadata": {},
   "outputs": [
    {
     "data": {
      "text/html": [
       "<div>\n",
       "<style scoped>\n",
       "    .dataframe tbody tr th:only-of-type {\n",
       "        vertical-align: middle;\n",
       "    }\n",
       "\n",
       "    .dataframe tbody tr th {\n",
       "        vertical-align: top;\n",
       "    }\n",
       "\n",
       "    .dataframe thead th {\n",
       "        text-align: right;\n",
       "    }\n",
       "</style>\n",
       "<table border=\"1\" class=\"dataframe\">\n",
       "  <thead>\n",
       "    <tr style=\"text-align: right;\">\n",
       "      <th></th>\n",
       "      <th>Height</th>\n",
       "    </tr>\n",
       "  </thead>\n",
       "  <tbody>\n",
       "    <tr>\n",
       "      <th>mean</th>\n",
       "      <td>171.801587</td>\n",
       "    </tr>\n",
       "    <tr>\n",
       "      <th>std</th>\n",
       "      <td>6.433686</td>\n",
       "    </tr>\n",
       "  </tbody>\n",
       "</table>\n",
       "</div>"
      ],
      "text/plain": [
       "          Height\n",
       "mean  171.801587\n",
       "std     6.433686"
      ]
     },
     "execution_count": 32,
     "metadata": {},
     "output_type": "execute_result"
    }
   ],
   "source": [
    "df_gimp.query('Year == 2000 and Sex == \"F\" and Sport == \"Tennis\"').agg({'Height': [\"mean\", \"std\"]})\n"
   ]
  },
  {
   "cell_type": "markdown",
   "id": "ff72dab4",
   "metadata": {},
   "source": [
    "#### 6. In what sport did the heaviest sportsmen participated at Olympics 2006?"
   ]
  },
  {
   "cell_type": "code",
   "execution_count": 33,
   "id": "ef92d511",
   "metadata": {},
   "outputs": [
    {
     "data": {
      "text/plain": [
       "8102    Skeleton\n",
       "Name: Sport, dtype: object"
      ]
     },
     "execution_count": 33,
     "metadata": {},
     "output_type": "execute_result"
    }
   ],
   "source": [
    "    max_weight = df_gimp.query('Year == 2006').Weight.max()\n",
    "    df_gimp.query('Year == 2006')[df_gimp.query('Year == 2006').Weight == max_weight].Sport"
   ]
  },
  {
   "cell_type": "markdown",
   "id": "bea87c52",
   "metadata": {},
   "source": [
    "#### 7. How many gold medals were won by women from 1980 to 2010?"
   ]
  },
  {
   "cell_type": "code",
   "execution_count": 34,
   "id": "7b8c2e15",
   "metadata": {},
   "outputs": [
    {
     "data": {
      "text/plain": [
       "2249"
      ]
     },
     "execution_count": 34,
     "metadata": {},
     "output_type": "execute_result"
    }
   ],
   "source": [
    "df_gimp.query('1980 <= Year <= 2010 and Sex == \"F\" and Medal == \"Gold\"').shape[0]"
   ]
  },
  {
   "cell_type": "markdown",
   "id": "108898c5",
   "metadata": {},
   "source": [
    "#### 8. How many times has John Aalberg competed in the Olympics in different years?"
   ]
  },
  {
   "cell_type": "code",
   "execution_count": 35,
   "id": "b7203f2c",
   "metadata": {},
   "outputs": [
    {
     "name": "stdout",
     "output_type": "stream",
     "text": [
      "John Aalberg participated in 8 competitions totally in 2 games in 2 years\n"
     ]
    }
   ],
   "source": [
    "JA_all = df_gimp.query('Name == \"John Aalberg\"').shape[0]\n",
    "JA_games = df_gimp.query('Name == \"John Aalberg\"').Games.nunique()\n",
    "JA_years = df_gimp.query('Name == \"John Aalberg\"').Year.nunique()\n",
    "print(f'John Aalberg participated in {JA_all} competitions totally in {JA_games} games in {JA_years} years')"
   ]
  },
  {
   "cell_type": "markdown",
   "id": "556a4eba",
   "metadata": {},
   "source": [
    "#### 9. Determine the least and most represented (by number of participants) age groups of athletes at the 2008 Olympics"
   ]
  },
  {
   "cell_type": "code",
   "execution_count": 36,
   "id": "f714bad9",
   "metadata": {},
   "outputs": [
    {
     "name": "stdout",
     "output_type": "stream",
     "text": [
      "Our age groups are: \n",
      "Age_group\n",
      "[15, 25)    6294\n",
      "[25, 35)    6367\n",
      "[35, 45)     790\n",
      "[45, 55)     116\n",
      "Name: Name, dtype: int64\n",
      "The least group is [45, 55) and the most is [25, 35)\n"
     ]
    }
   ],
   "source": [
    "df_gimp2008 = df_gimp.query('Year == 2008')\n",
    "df_gimp2008[\"Age_group\"] = pd.cut(x=df_gimp2008['Age'], bins=[15, 25, 35, 45, 55], right=False)\n",
    "groups_count = df_gimp2008.groupby('Age_group').Name.count()\n",
    "print(f'Our age groups are: \\n{groups_count}')\n",
    "print(f'The least group is {groups_count.nlargest(4).index[3]} and the most is {groups_count.nlargest(4).index[0]}')"
   ]
  },
  {
   "cell_type": "markdown",
   "id": "3b8034a5",
   "metadata": {},
   "source": [
    "#### 10. How much has the number of sports changed in the 2002 Olympics compared to the 1994 Olympics?"
   ]
  },
  {
   "cell_type": "code",
   "execution_count": 37,
   "id": "274f15d9",
   "metadata": {},
   "outputs": [
    {
     "name": "stdout",
     "output_type": "stream",
     "text": [
      "There are 3 sports changed\n"
     ]
    }
   ],
   "source": [
    "def n_sports(df, year):\n",
    "    return df[df.Year == year].Sport.nunique()\n",
    "\n",
    "\n",
    "print(f'There are {len(set(df[df.Year == 2002].Sport) - set(df[df.Year == 1994].Sport))} sports changed')\n",
    "\n",
    "# I suppose the sets difference is the most right way here becouse .nunique() would not take into account cases when,\n",
    "# for example, no new sports appeared but there were some changes"
   ]
  },
  {
   "cell_type": "markdown",
   "id": "687800f7",
   "metadata": {},
   "source": [
    "#### 11. Output for the winter and summer Olympics separately the top 3 countries for each type of medals"
   ]
  },
  {
   "cell_type": "code",
   "execution_count": 38,
   "id": "4890726e",
   "metadata": {},
   "outputs": [
    {
     "data": {
      "text/html": [
       "<div>\n",
       "<style scoped>\n",
       "    .dataframe tbody tr th:only-of-type {\n",
       "        vertical-align: middle;\n",
       "    }\n",
       "\n",
       "    .dataframe tbody tr th {\n",
       "        vertical-align: top;\n",
       "    }\n",
       "\n",
       "    .dataframe thead th {\n",
       "        text-align: right;\n",
       "    }\n",
       "</style>\n",
       "<table border=\"1\" class=\"dataframe\">\n",
       "  <thead>\n",
       "    <tr style=\"text-align: right;\">\n",
       "      <th></th>\n",
       "      <th></th>\n",
       "      <th></th>\n",
       "      <th>Medals</th>\n",
       "    </tr>\n",
       "    <tr>\n",
       "      <th>Season</th>\n",
       "      <th>Medal</th>\n",
       "      <th>NOC</th>\n",
       "      <th></th>\n",
       "    </tr>\n",
       "  </thead>\n",
       "  <tbody>\n",
       "    <tr>\n",
       "      <th rowspan=\"9\" valign=\"top\">Summer</th>\n",
       "      <th rowspan=\"3\" valign=\"top\">Bronze</th>\n",
       "      <th>USA</th>\n",
       "      <td>1185</td>\n",
       "    </tr>\n",
       "    <tr>\n",
       "      <th>GER</th>\n",
       "      <td>644</td>\n",
       "    </tr>\n",
       "    <tr>\n",
       "      <th>URS</th>\n",
       "      <td>596</td>\n",
       "    </tr>\n",
       "    <tr>\n",
       "      <th rowspan=\"3\" valign=\"top\">Gold</th>\n",
       "      <th>USA</th>\n",
       "      <td>2461</td>\n",
       "    </tr>\n",
       "    <tr>\n",
       "      <th>URS</th>\n",
       "      <td>832</td>\n",
       "    </tr>\n",
       "    <tr>\n",
       "      <th>GBR</th>\n",
       "      <td>616</td>\n",
       "    </tr>\n",
       "    <tr>\n",
       "      <th rowspan=\"3\" valign=\"top\">Silver</th>\n",
       "      <th>USA</th>\n",
       "      <td>1311</td>\n",
       "    </tr>\n",
       "    <tr>\n",
       "      <th>GBR</th>\n",
       "      <td>674</td>\n",
       "    </tr>\n",
       "    <tr>\n",
       "      <th>URS</th>\n",
       "      <td>635</td>\n",
       "    </tr>\n",
       "    <tr>\n",
       "      <th rowspan=\"9\" valign=\"top\">Winter</th>\n",
       "      <th rowspan=\"3\" valign=\"top\">Bronze</th>\n",
       "      <th>FIN</th>\n",
       "      <td>215</td>\n",
       "    </tr>\n",
       "    <tr>\n",
       "      <th>SWE</th>\n",
       "      <td>177</td>\n",
       "    </tr>\n",
       "    <tr>\n",
       "      <th>USA</th>\n",
       "      <td>161</td>\n",
       "    </tr>\n",
       "    <tr>\n",
       "      <th rowspan=\"3\" valign=\"top\">Gold</th>\n",
       "      <th>CAN</th>\n",
       "      <td>305</td>\n",
       "    </tr>\n",
       "    <tr>\n",
       "      <th>URS</th>\n",
       "      <td>250</td>\n",
       "    </tr>\n",
       "    <tr>\n",
       "      <th>USA</th>\n",
       "      <td>166</td>\n",
       "    </tr>\n",
       "    <tr>\n",
       "      <th rowspan=\"3\" valign=\"top\">Silver</th>\n",
       "      <th>USA</th>\n",
       "      <td>308</td>\n",
       "    </tr>\n",
       "    <tr>\n",
       "      <th>CAN</th>\n",
       "      <td>199</td>\n",
       "    </tr>\n",
       "    <tr>\n",
       "      <th>NOR</th>\n",
       "      <td>165</td>\n",
       "    </tr>\n",
       "  </tbody>\n",
       "</table>\n",
       "</div>"
      ],
      "text/plain": [
       "                   Medals\n",
       "Season Medal  NOC        \n",
       "Summer Bronze USA    1185\n",
       "              GER     644\n",
       "              URS     596\n",
       "       Gold   USA    2461\n",
       "              URS     832\n",
       "              GBR     616\n",
       "       Silver USA    1311\n",
       "              GBR     674\n",
       "              URS     635\n",
       "Winter Bronze FIN     215\n",
       "              SWE     177\n",
       "              USA     161\n",
       "       Gold   CAN     305\n",
       "              URS     250\n",
       "              USA     166\n",
       "       Silver USA     308\n",
       "              CAN     199\n",
       "              NOR     165"
      ]
     },
     "execution_count": 38,
     "metadata": {},
     "output_type": "execute_result"
    }
   ],
   "source": [
    "counts = df_gimp[['Medal', 'Season', 'NOC']].query('Medal != \"No medal\"').groupby(['Season', \"Medal\"]).apply(\n",
    "    lambda x: x.value_counts().head(3))\n",
    "counts = counts.reset_index(level=[2, 3])[[0]].rename(columns={0: \"Medals\"})\n",
    "counts\n"
   ]
  },
  {
   "cell_type": "markdown",
   "id": "fc90c821",
   "metadata": {},
   "source": [
    "#### 12. Create a new variable Height_z_scores and store the values of the Height variable into it after it has been standardized"
   ]
  },
  {
   "cell_type": "code",
   "execution_count": 39,
   "id": "307f6046",
   "metadata": {},
   "outputs": [],
   "source": [
    "def standardize(values):\n",
    "    return (values - values.mean()) / values.std()\n",
    "\n",
    "\n",
    "df_gimp['Height_z_scores'] = standardize(df_gimp.Height)"
   ]
  },
  {
   "cell_type": "markdown",
   "id": "7fc929bb",
   "metadata": {},
   "source": [
    "#### 13. Create a new variable Height_min_max_scaled and store the values of the Height variable into it after it has been min-max normalized"
   ]
  },
  {
   "cell_type": "markdown",
   "id": "241826ba",
   "metadata": {},
   "source": [
    "Here I could define another one my own function, but since it is an additional task I also add some to solution (the thing I also wanted do in a previous task):"
   ]
  },
  {
   "cell_type": "code",
   "execution_count": 40,
   "id": "770a0639",
   "metadata": {},
   "outputs": [],
   "source": [
    "from sklearn.preprocessing import MinMaxScaler\n",
    "\n",
    "min_max = MinMaxScaler()\n",
    "min_max.fit(df_gimp[['Height']])\n",
    "df_gimp['Height_min_max_scaled'] = min_max.transform(df_gimp[['Height']])"
   ]
  },
  {
   "cell_type": "markdown",
   "id": "4472a522",
   "metadata": {},
   "source": [
    "#### 14. Compare the height, weight and age of men and women who competed in the Winter Olympics"
   ]
  },
  {
   "cell_type": "code",
   "execution_count": 41,
   "id": "26b13fc9",
   "metadata": {},
   "outputs": [],
   "source": [
    "from scipy import stats\n",
    "\n",
    "\n",
    "def honest_t_test(x, y):\n",
    "    for z in [x, y]:\n",
    "        if stats.shapiro(z).pvalue < 0.05:\n",
    "            raise Exception('The data is not normally distributed!')\n",
    "    if stats.levene(x, y).pvalue < 0.05:\n",
    "        raise Exception('Samples are not homoscedantic!')\n",
    "    return stats.ttest_ind(x, y)"
   ]
  },
  {
   "cell_type": "code",
   "execution_count": 42,
   "id": "9c89afc6",
   "metadata": {},
   "outputs": [],
   "source": [
    "test_1 = stats.ttest_ind(df_gimp.query('Season == \"Winter\" and Sex == \"M\"').Height,\n",
    "                         df_gimp.query('Season == \"Winter\" and Sex == \"F\"').Height)\n",
    "test_2 = stats.ttest_ind(df_gimp.query('Season == \"Winter\" and Sex == \"M\"').Weight,\n",
    "                         df_gimp.query('Season == \"Winter\" and Sex == \"F\"').Weight)\n",
    "test_3 = stats.ttest_ind(df_gimp.query('Season == \"Winter\" and Sex == \"M\"').Age,\n",
    "                         df_gimp.query('Season == \"Winter\" and Sex == \"F\"').Age)\n",
    "\n",
    "tests = pd.DataFrame([['Height', test_1.pvalue], ['Weight', test_2.pvalue], ['Age', test_3.pvalue]],\n",
    "                     columns=['Feature', 'p_value'])\n",
    "tests['p_value_adj'] = [float(f'{x :.2g}') for x in multipletests(tests.p_value.values, alpha=0.05, method='hs')[1]]\n",
    "tests['p_value'] = [float(f'{x :.2g}') for x in tests['p_value']]\n",
    "tests['Significant_differences'] = tests['p_value_adj'] < 0.05\n",
    "tests = tests.set_index('Feature')"
   ]
  },
  {
   "cell_type": "markdown",
   "id": "8b202536",
   "metadata": {},
   "source": [
    "Here we tested 3 hypotises, conducted p-valiue adjustments, rounded results and labbeled whether are there significant differences between males and females . Now we can print it for publishind, for example, as a markdown table  "
   ]
  },
  {
   "cell_type": "code",
   "execution_count": 43,
   "id": "23c08e4f",
   "metadata": {
    "scrolled": false
   },
   "outputs": [
    {
     "name": "stdout",
     "output_type": "stream",
     "text": [
      "| Feature   |   p_value |   p_value_adj | Significant_differences   |\n",
      "|:----------|----------:|--------------:|:--------------------------|\n",
      "| Height    |  0        |      0        | True                      |\n",
      "| Weight    |  0        |      0        | True                      |\n",
      "| Age       |  1.2e-223 |      1.2e-223 | True                      |\n"
     ]
    }
   ],
   "source": [
    "print(tests.to_markdown()) "
   ]
  },
  {
   "cell_type": "markdown",
   "id": "fa7e25e8",
   "metadata": {},
   "source": [
    "##### Do height, weight and age significantly differ for men and women who competed in the Winter Olympics?\n",
    "\n",
    "| Feature   |   p_value |   p_value_adj | Significant_deffirinces   |\n",
    "|:----------|----------:|--------------:|:--------------------------|\n",
    "| Height    |  0        |      0        | True                      |\n",
    "| Weight    |  0        |      0        | True                      |\n",
    "| Age       |  1.2e-223 |      1.2e-223 | True                      |"
   ]
  },
  {
   "cell_type": "markdown",
   "id": "598d99b9",
   "metadata": {},
   "source": [
    "#### 15. Are the Team and the Medal related?"
   ]
  },
  {
   "cell_type": "markdown",
   "id": "0fa4ff5a",
   "metadata": {},
   "source": [
    "Lets build a contingency table`"
   ]
  },
  {
   "cell_type": "code",
   "execution_count": 44,
   "id": "0b723c82",
   "metadata": {
    "scrolled": true
   },
   "outputs": [
    {
     "data": {
      "text/html": [
       "<div>\n",
       "<style scoped>\n",
       "    .dataframe tbody tr th:only-of-type {\n",
       "        vertical-align: middle;\n",
       "    }\n",
       "\n",
       "    .dataframe tbody tr th {\n",
       "        vertical-align: top;\n",
       "    }\n",
       "\n",
       "    .dataframe thead th {\n",
       "        text-align: right;\n",
       "    }\n",
       "</style>\n",
       "<table border=\"1\" class=\"dataframe\">\n",
       "  <thead>\n",
       "    <tr style=\"text-align: right;\">\n",
       "      <th>Medal</th>\n",
       "      <th>Bronze</th>\n",
       "      <th>Gold</th>\n",
       "      <th>No medal</th>\n",
       "      <th>Silver</th>\n",
       "      <th>All</th>\n",
       "    </tr>\n",
       "    <tr>\n",
       "      <th>Team</th>\n",
       "      <th></th>\n",
       "      <th></th>\n",
       "      <th></th>\n",
       "      <th></th>\n",
       "      <th></th>\n",
       "    </tr>\n",
       "  </thead>\n",
       "  <tbody>\n",
       "    <tr>\n",
       "      <th>Zefyros</th>\n",
       "      <td>0</td>\n",
       "      <td>0</td>\n",
       "      <td>2</td>\n",
       "      <td>0</td>\n",
       "      <td>2</td>\n",
       "    </tr>\n",
       "    <tr>\n",
       "      <th>Zimbabwe</th>\n",
       "      <td>1</td>\n",
       "      <td>17</td>\n",
       "      <td>284</td>\n",
       "      <td>4</td>\n",
       "      <td>306</td>\n",
       "    </tr>\n",
       "    <tr>\n",
       "      <th>Zut</th>\n",
       "      <td>0</td>\n",
       "      <td>0</td>\n",
       "      <td>0</td>\n",
       "      <td>3</td>\n",
       "      <td>3</td>\n",
       "    </tr>\n",
       "    <tr>\n",
       "      <th>rn-2</th>\n",
       "      <td>0</td>\n",
       "      <td>0</td>\n",
       "      <td>5</td>\n",
       "      <td>0</td>\n",
       "      <td>5</td>\n",
       "    </tr>\n",
       "    <tr>\n",
       "      <th>All</th>\n",
       "      <td>13006</td>\n",
       "      <td>13224</td>\n",
       "      <td>222582</td>\n",
       "      <td>12820</td>\n",
       "      <td>261632</td>\n",
       "    </tr>\n",
       "  </tbody>\n",
       "</table>\n",
       "</div>"
      ],
      "text/plain": [
       "Medal     Bronze   Gold  No medal  Silver     All\n",
       "Team                                             \n",
       "Zefyros        0      0         2       0       2\n",
       "Zimbabwe       1     17       284       4     306\n",
       "Zut            0      0         0       3       3\n",
       "rn-2           0      0         5       0       5\n",
       "All        13006  13224    222582   12820  261632"
      ]
     },
     "execution_count": 44,
     "metadata": {},
     "output_type": "execute_result"
    }
   ],
   "source": [
    "ct = pd.crosstab(df_gimp.Team, df_gimp.Medal, margins=True)\n",
    "ct.iloc[-5:]"
   ]
  },
  {
   "cell_type": "code",
   "execution_count": 45,
   "id": "73b991cd",
   "metadata": {},
   "outputs": [
    {
     "data": {
      "text/plain": [
       "<AxesSubplot: xlabel='Medal', ylabel='Team'>"
      ]
     },
     "execution_count": 45,
     "metadata": {},
     "output_type": "execute_result"
    },
    {
     "data": {
      "image/png": "[encoded data removed]",
      "text/plain": [
       "<Figure size 432x288 with 2 Axes>"
      ]
     },
     "metadata": {
      "needs_background": "light"
     },
     "output_type": "display_data"
    }
   ],
   "source": [
    "sns.heatmap(ct.iloc[0:len(ct) - 2].query('Bronze + Silver + Gold > 1000')[['Silver', 'Bronze', 'Gold']], vmax=1000)"
   ]
  },
  {
   "cell_type": "markdown",
   "id": "c1d466e3",
   "metadata": {},
   "source": [
    "Here we see some teams have more medals than the others, but we need somehow to prove it. Additionaly, of couse, we need take into account number of games a team played. Thus, lets normalize each team's values."
   ]
  },
  {
   "cell_type": "code",
   "execution_count": 46,
   "id": "41020629",
   "metadata": {
    "scrolled": true
   },
   "outputs": [
    {
     "data": {
      "text/html": [
       "<div>\n",
       "<style scoped>\n",
       "    .dataframe tbody tr th:only-of-type {\n",
       "        vertical-align: middle;\n",
       "    }\n",
       "\n",
       "    .dataframe tbody tr th {\n",
       "        vertical-align: top;\n",
       "    }\n",
       "\n",
       "    .dataframe thead th {\n",
       "        text-align: right;\n",
       "    }\n",
       "</style>\n",
       "<table border=\"1\" class=\"dataframe\">\n",
       "  <thead>\n",
       "    <tr style=\"text-align: right;\">\n",
       "      <th>Medal</th>\n",
       "      <th>Bronze</th>\n",
       "      <th>Gold</th>\n",
       "      <th>No medal</th>\n",
       "      <th>Silver</th>\n",
       "      <th>All</th>\n",
       "    </tr>\n",
       "    <tr>\n",
       "      <th>Team</th>\n",
       "      <th></th>\n",
       "      <th></th>\n",
       "      <th></th>\n",
       "      <th></th>\n",
       "      <th></th>\n",
       "    </tr>\n",
       "  </thead>\n",
       "  <tbody>\n",
       "    <tr>\n",
       "      <th>Zefyros</th>\n",
       "      <td>0.000000</td>\n",
       "      <td>0.000000</td>\n",
       "      <td>1.000000</td>\n",
       "      <td>0.000000</td>\n",
       "      <td>1.0</td>\n",
       "    </tr>\n",
       "    <tr>\n",
       "      <th>Zimbabwe</th>\n",
       "      <td>0.003268</td>\n",
       "      <td>0.055556</td>\n",
       "      <td>0.928105</td>\n",
       "      <td>0.013072</td>\n",
       "      <td>1.0</td>\n",
       "    </tr>\n",
       "    <tr>\n",
       "      <th>Zut</th>\n",
       "      <td>0.000000</td>\n",
       "      <td>0.000000</td>\n",
       "      <td>0.000000</td>\n",
       "      <td>1.000000</td>\n",
       "      <td>1.0</td>\n",
       "    </tr>\n",
       "    <tr>\n",
       "      <th>rn-2</th>\n",
       "      <td>0.000000</td>\n",
       "      <td>0.000000</td>\n",
       "      <td>1.000000</td>\n",
       "      <td>0.000000</td>\n",
       "      <td>1.0</td>\n",
       "    </tr>\n",
       "    <tr>\n",
       "      <th>All</th>\n",
       "      <td>0.049711</td>\n",
       "      <td>0.050544</td>\n",
       "      <td>0.850745</td>\n",
       "      <td>0.049000</td>\n",
       "      <td>1.0</td>\n",
       "    </tr>\n",
       "  </tbody>\n",
       "</table>\n",
       "</div>"
      ],
      "text/plain": [
       "Medal       Bronze      Gold  No medal    Silver  All\n",
       "Team                                                 \n",
       "Zefyros   0.000000  0.000000  1.000000  0.000000  1.0\n",
       "Zimbabwe  0.003268  0.055556  0.928105  0.013072  1.0\n",
       "Zut       0.000000  0.000000  0.000000  1.000000  1.0\n",
       "rn-2      0.000000  0.000000  1.000000  0.000000  1.0\n",
       "All       0.049711  0.050544  0.850745  0.049000  1.0"
      ]
     },
     "execution_count": 46,
     "metadata": {},
     "output_type": "execute_result"
    }
   ],
   "source": [
    "ct_normalized = ct.apply(lambda x: x / ct.All, axis=0)\n",
    "ct_normalized.iloc[-5:]"
   ]
  },
  {
   "cell_type": "code",
   "execution_count": 47,
   "id": "0914292f",
   "metadata": {},
   "outputs": [
    {
     "data": {
      "text/plain": [
       "<AxesSubplot: xlabel='Team'>"
      ]
     },
     "execution_count": 47,
     "metadata": {},
     "output_type": "execute_result"
    },
    {
     "data": {
      "image/png": "[encoded data removed]",
      "text/plain": [
       "<Figure size 432x288 with 1 Axes>"
      ]
     },
     "metadata": {
      "needs_background": "light"
     },
     "output_type": "display_data"
    }
   ],
   "source": [
    "ct_normalized[['Silver','Bronze', 'Gold']].plot.bar(stacked=True)"
   ]
  },
  {
   "cell_type": "markdown",
   "id": "dc71782e",
   "metadata": {},
   "source": [
    "Once again, we see medals not uniformely distributed. The teams are not clearly seen, yeah, this plot is not for publishing.  "
   ]
  },
  {
   "cell_type": "markdown",
   "id": "d9899afd",
   "metadata": {},
   "source": [
    "However, we need to do a statistical analysis of this. We use Pearson's chi-square test for cross tables. It could even be calculated manually, but I know a package that allows you to build contingency tables immediately with the calculation of these statistic. As before, we will normalize data by rows (only in this case, the normalization is not in fractions, but in percentages)."
   ]
  },
  {
   "cell_type": "code",
   "execution_count": 48,
   "id": "4f258525",
   "metadata": {},
   "outputs": [
    {
     "data": {
      "text/html": [
       "<div>\n",
       "<style scoped>\n",
       "    .dataframe tbody tr th:only-of-type {\n",
       "        vertical-align: middle;\n",
       "    }\n",
       "\n",
       "    .dataframe tbody tr th {\n",
       "        vertical-align: top;\n",
       "    }\n",
       "\n",
       "    .dataframe thead tr th {\n",
       "        text-align: left;\n",
       "    }\n",
       "\n",
       "    .dataframe thead tr:last-of-type th {\n",
       "        text-align: right;\n",
       "    }\n",
       "</style>\n",
       "<table border=\"1\" class=\"dataframe\">\n",
       "  <thead>\n",
       "    <tr>\n",
       "      <th></th>\n",
       "      <th colspan=\"5\" halign=\"left\">Medal</th>\n",
       "    </tr>\n",
       "    <tr>\n",
       "      <th>Medal</th>\n",
       "      <th>Bronze</th>\n",
       "      <th>Gold</th>\n",
       "      <th>No medal</th>\n",
       "      <th>Silver</th>\n",
       "      <th>All</th>\n",
       "    </tr>\n",
       "    <tr>\n",
       "      <th>Team</th>\n",
       "      <th></th>\n",
       "      <th></th>\n",
       "      <th></th>\n",
       "      <th></th>\n",
       "      <th></th>\n",
       "    </tr>\n",
       "  </thead>\n",
       "  <tbody>\n",
       "    <tr>\n",
       "      <th>30. Februar</th>\n",
       "      <td>0.00</td>\n",
       "      <td>0.0</td>\n",
       "      <td>100.00</td>\n",
       "      <td>0.0</td>\n",
       "      <td>100.0</td>\n",
       "    </tr>\n",
       "    <tr>\n",
       "      <th>A North American Team</th>\n",
       "      <td>100.00</td>\n",
       "      <td>0.0</td>\n",
       "      <td>0.00</td>\n",
       "      <td>0.0</td>\n",
       "      <td>100.0</td>\n",
       "    </tr>\n",
       "    <tr>\n",
       "      <th>Acipactli</th>\n",
       "      <td>0.00</td>\n",
       "      <td>0.0</td>\n",
       "      <td>100.00</td>\n",
       "      <td>0.0</td>\n",
       "      <td>100.0</td>\n",
       "    </tr>\n",
       "    <tr>\n",
       "      <th>Acturus</th>\n",
       "      <td>0.00</td>\n",
       "      <td>0.0</td>\n",
       "      <td>100.00</td>\n",
       "      <td>0.0</td>\n",
       "      <td>100.0</td>\n",
       "    </tr>\n",
       "    <tr>\n",
       "      <th>Afghanistan</th>\n",
       "      <td>2.56</td>\n",
       "      <td>0.0</td>\n",
       "      <td>97.44</td>\n",
       "      <td>0.0</td>\n",
       "      <td>100.0</td>\n",
       "    </tr>\n",
       "  </tbody>\n",
       "</table>\n",
       "</div>"
      ],
      "text/plain": [
       "                        Medal                            \n",
       "Medal                  Bronze Gold No medal Silver    All\n",
       "Team                                                     \n",
       "30. Februar              0.00  0.0   100.00    0.0  100.0\n",
       "A North American Team  100.00  0.0     0.00    0.0  100.0\n",
       "Acipactli                0.00  0.0   100.00    0.0  100.0\n",
       "Acturus                  0.00  0.0   100.00    0.0  100.0\n",
       "Afghanistan              2.56  0.0    97.44    0.0  100.0"
      ]
     },
     "execution_count": 48,
     "metadata": {},
     "output_type": "execute_result"
    }
   ],
   "source": [
    "import researchpy as rp\n",
    "\n",
    "ct_rp, ct_chi2_test = rp.crosstab(df_gimp.Team, df_gimp.Medal, prop='row', test='chi-square')\n",
    "ct_rp.head()"
   ]
  },
  {
   "cell_type": "code",
   "execution_count": 49,
   "id": "4e5cc0d4",
   "metadata": {},
   "outputs": [
    {
     "data": {
      "text/html": [
       "<div>\n",
       "<style scoped>\n",
       "    .dataframe tbody tr th:only-of-type {\n",
       "        vertical-align: middle;\n",
       "    }\n",
       "\n",
       "    .dataframe tbody tr th {\n",
       "        vertical-align: top;\n",
       "    }\n",
       "\n",
       "    .dataframe thead th {\n",
       "        text-align: right;\n",
       "    }\n",
       "</style>\n",
       "<table border=\"1\" class=\"dataframe\">\n",
       "  <thead>\n",
       "    <tr style=\"text-align: right;\">\n",
       "      <th></th>\n",
       "      <th>Chi-square test</th>\n",
       "      <th>results</th>\n",
       "    </tr>\n",
       "  </thead>\n",
       "  <tbody>\n",
       "    <tr>\n",
       "      <th>0</th>\n",
       "      <td>Pearson Chi-square ( 3324.0) =</td>\n",
       "      <td>41021.6856</td>\n",
       "    </tr>\n",
       "    <tr>\n",
       "      <th>1</th>\n",
       "      <td>p-value =</td>\n",
       "      <td>0.0000</td>\n",
       "    </tr>\n",
       "    <tr>\n",
       "      <th>2</th>\n",
       "      <td>Cramer's V =</td>\n",
       "      <td>0.2286</td>\n",
       "    </tr>\n",
       "  </tbody>\n",
       "</table>\n",
       "</div>"
      ],
      "text/plain": [
       "                   Chi-square test     results\n",
       "0  Pearson Chi-square ( 3324.0) =   41021.6856\n",
       "1                       p-value =       0.0000\n",
       "2                    Cramer's V =       0.2286"
      ]
     },
     "execution_count": 49,
     "metadata": {},
     "output_type": "execute_result"
    }
   ],
   "source": [
    "ct_chi2_test"
   ]
  },
  {
   "cell_type": "code",
   "execution_count": 50,
   "id": "c1a1715b",
   "metadata": {},
   "outputs": [
    {
     "name": "stdout",
     "output_type": "stream",
     "text": [
      "The pearson chi-square statistics is 41021.69 with p-value 0.0\n",
      "That means there are some statistical dependence between Teams and Medals\n"
     ]
    }
   ],
   "source": [
    "if ct_chi2_test.results[1] < 0.05:\n",
    "    dependence = 'some'\n",
    "else:\n",
    "    dependence = 'no'\n",
    "\n",
    "print(\n",
    "    f'The pearson chi-square statistics is {round(ct_chi2_test.results[0], 2)} with p-value {ct_chi2_test.results[1]}')\n",
    "print(f'That means there are {dependence} statistical dependence between Teams and Medals')"
   ]
  },
  {
   "cell_type": "markdown",
   "id": "d1eb8be3",
   "metadata": {},
   "source": [
    "### 16. Additional hypotheses"
   ]
  },
  {
   "cell_type": "markdown",
   "id": "55004255",
   "metadata": {},
   "source": [
    "#### Athletes height through the years"
   ]
  },
  {
   "cell_type": "code",
   "execution_count": 51,
   "id": "45a583ad",
   "metadata": {},
   "outputs": [
    {
     "name": "stdout",
     "output_type": "stream",
     "text": [
      "The pearson r coefficient is -0.061 with p-value 4.6e-212\n",
      "That means there are some statistical dependence between athletes Height and Year\n",
      "Moeover, we can say that athletes Height slightly decrease through the years\n"
     ]
    }
   ],
   "source": [
    "pearr = stats.pearsonr(df_gimp.Height, df_gimp.Year)\n",
    "\n",
    "if pearr.pvalue < 0.05:\n",
    "    dependence = 'some'\n",
    "else:\n",
    "    dependence = 'no'\n",
    "\n",
    "if pearr.statistic < 0:\n",
    "    changes = 'decrease'\n",
    "else:\n",
    "    changes = 'increase'\n",
    "\n",
    "if abs(pearr.statistic) > 0.6:\n",
    "    significance = 'significantly'\n",
    "else:\n",
    "    significance = 'slightly'\n",
    "\n",
    "print(f'The pearson r coefficient is {round(pearr.statistic, 3)} with p-value {pearr.pvalue:.2g}')\n",
    "print(f'That means there are {dependence} statistical dependence between athletes Height and Year')\n",
    "print(f'Moeover, we can say that athletes Height {significance} {changes} through the years')"
   ]
  },
  {
   "cell_type": "markdown",
   "id": "44105ba3",
   "metadata": {},
   "source": [
    "#### Does the first letter in the name matter? "
   ]
  },
  {
   "cell_type": "code",
   "execution_count": 52,
   "id": "44d787c9",
   "metadata": {
    "scrolled": true
   },
   "outputs": [
    {
     "name": "stdout",
     "output_type": "stream",
     "text": [
      "The pearson chi-square statistics is 390.01 with p-value 0.0\n",
      "That means there are some statistical dependence between first letter in the name and medals\n"
     ]
    },
    {
     "data": {
      "text/plain": [
       "Text(0.5, 15.0, 'Medal')"
      ]
     },
     "execution_count": 52,
     "metadata": {},
     "output_type": "execute_result"
    },
    {
     "data": {
      "image/png": "[encoded data removed]",
      "text/plain": [
       "<Figure size 432x288 with 2 Axes>"
      ]
     },
     "metadata": {
      "needs_background": "light"
     },
     "output_type": "display_data"
    }
   ],
   "source": [
    "df_gimp['First_letter'] = df_gimp.Name.apply(lambda x: x[0].upper())\n",
    "ct_rp, ct_chi2_test = rp.crosstab(df_gimp.First_letter, df_gimp.Medal, prop='row', test='chi-square')\n",
    "\n",
    "if ct_chi2_test.results[1] < 0.05:\n",
    "    dependence = 'some'\n",
    "else:\n",
    "    dependence = 'no'\n",
    "\n",
    "print(\n",
    "    f'The pearson chi-square statistics is {round(ct_chi2_test.results[0], 2)} with p-value {ct_chi2_test.results[1]}')\n",
    "print(f'That means there are {dependence} statistical dependence between first letter in the name and medals')\n",
    "\n",
    "sns.heatmap(ct_rp.iloc[1:len(ct_rp) - 1, 0:4], vmax=30);\n",
    "plt.ylabel(\"First letter in the name\")\n",
    "plt.xlabel(\"Medal\")"
   ]
  },
  {
   "cell_type": "markdown",
   "id": "9dc1a833",
   "metadata": {},
   "source": [
    "#### Let's take a closer look at what is that - to be a Nikita"
   ]
  },
  {
   "cell_type": "code",
   "execution_count": 53,
   "id": "dbc68acf",
   "metadata": {},
   "outputs": [
    {
     "name": "stdout",
     "output_type": "stream",
     "text": [
      "The pearson chi-square statistics is 0.23 with p-value 0.9719\n",
      "That means there are no statistical dependence between Nikitas and medals\n"
     ]
    },
    {
     "data": {
      "text/plain": [
       "Text(33.0, 0.5, 'Is Nikita?')"
      ]
     },
     "execution_count": 53,
     "metadata": {},
     "output_type": "execute_result"
    },
    {
     "data": {
      "image/png": "[encoded data removed]",
      "text/plain": [
       "<Figure size 432x288 with 2 Axes>"
      ]
     },
     "metadata": {
      "needs_background": "light"
     },
     "output_type": "display_data"
    }
   ],
   "source": [
    "df_gimp['Is_Nikita'] = df_gimp.Name.str.contains('Nikita')\n",
    "\n",
    "ct_rp, ct_chi2_test = rp.crosstab(df_gimp.Is_Nikita, df_gimp.Medal, prop='row', test='chi-square')\n",
    "\n",
    "if ct_chi2_test.results[1] < 0.05:\n",
    "    dependence = 'some'\n",
    "else:\n",
    "    dependence = 'no'\n",
    "\n",
    "print(\n",
    "    f'The pearson chi-square statistics is {round(ct_chi2_test.results[0], 2)} with p-value {ct_chi2_test.results[1]}')\n",
    "print(f'That means there are {dependence} statistical dependence between Nikitas and medals')\n",
    "\n",
    "sns.heatmap(ct_rp.iloc[0:len(ct_rp) - 1, 0:4], vmax=10);\n",
    "plt.xlabel(\"Medal\")\n",
    "plt.ylabel(\"Is Nikita?\")"
   ]
  },
  {
   "cell_type": "markdown",
   "id": "2c88dcc7",
   "metadata": {},
   "source": [
    "As we can see, the p-value is quite large and there is not much statistical significance, but on the heatmap (despite the fact that the sizes of the groups are highly disproportional) with adjusted brightness, it can be seen that Nikita's medal strip is a little bit brighter. Noone can hide the truth!"
   ]
  }
 ],
 "metadata": {
  "kernelspec": {
   "display_name": "Python 3 (ipykernel)",
   "language": "python",
   "name": "python3"
  },
  "language_info": {
   "codemirror_mode": {
    "name": "ipython",
    "version": 3
   },
   "file_extension": ".py",
   "mimetype": "text/x-python",
   "name": "python",
   "nbconvert_exporter": "python",
   "pygments_lexer": "ipython3",
   "version": "3.9.10"
  }
 },
 "nbformat": 4,
 "nbformat_minor": 5
}
