{
 "cells": [
  {
   "cell_type": "markdown",
   "id": "6201653d",
   "metadata": {},
   "source": [
    "# 120 years of Olympic history: athletes and results\n",
    "\n",
    "### [BI](https://bioinf.me/) statisctics course Project 1 \n",
    "> *by* Nikita Vaulin, Skoltech <br />\n",
    "> Nikita.Vaulin@skoltech.ru\n",
    "\n",
    "The dataset is adapted by course instructor from [kaggle](https://www.kaggle.com/datasets/heesoo37/120-years-of-olympic-history-athletes-and-results)."
   ]
  },
  {
   "cell_type": "markdown",
   "id": "45b346fc",
   "metadata": {},
   "source": [
    "<div>\n",
    "<img src=\"olympics.jpg\" width=\"500\">\n",
    "</div>"
   ]
  },
  {
   "cell_type": "code",
   "execution_count": 22,
   "id": "b474f0c8",
   "metadata": {},
   "outputs": [],
   "source": [
    "import os\n",
    "import numpy as np\n",
    "import pandas as pd\n",
    "import matplotlib.pyplot as plt\n",
    "import seaborn as sns\n",
    "import missingno as msno"
   ]
  },
  {
   "cell_type": "markdown",
   "id": "9e557cdd",
   "metadata": {},
   "source": [
    "> Also Jupyter Notebook like to sens us so many warnings such as FutureWarning and so on. Let's make our output more pretty:"
   ]
  },
  {
   "cell_type": "code",
   "execution_count": 23,
   "id": "3c243707",
   "metadata": {},
   "outputs": [],
   "source": [
    "import warnings\n",
    "warnings.filterwarnings('ignore')"
   ]
  },
  {
   "cell_type": "markdown",
   "id": "5230ab86",
   "metadata": {},
   "source": [
    "### Reading the data\n",
    "\n",
    "> We will define here special function which uploads all the files from some with a given extension to a combined pandas dataframe "
   ]
  },
  {
   "cell_type": "code",
   "execution_count": 24,
   "id": "001a4d79",
   "metadata": {},
   "outputs": [],
   "source": [
    "sep_readers = {\n",
    "    \".csv\": pd.read_csv,\n",
    "    \".tsv\": pd.read_table,\n",
    "    \".hdf\": pd.read_hdf,\n",
    "    \".h5\": pd.read_hdf,\n",
    "    \".html\": pd.read_html,\n",
    "    \".htm\": pd.read_html,\n",
    "    \".xml\": pd.read_xml,\n",
    "    \".json\": pd.read_json,\n",
    "    \".xls\": pd.read_excel,\n",
    "    \".xlsx\": pd.read_excel,\n",
    "    \".xltx\": pd.read_excel,\n",
    "    \".ods\": pd.read_excel\n",
    "}\n",
    "\n",
    "def read_one_table(folder, filename, extension):\n",
    "    \"\"\"\n",
    "    Extra function to read one specific file with function suitable for a given file extension\n",
    "    \"\"\"\n",
    "    file = os.path.join(folder, filename)\n",
    "    return sep_readers[extension](file)\n",
    "\n",
    "def file_reader(folder: str = 'athlete_events', ext: str = '.csv') -> pd.DataFrame:\n",
    "    \"\"\"\n",
    "    This function uploads from disk a dataset divided into several files as a single pandas data frame.\n",
    "    \n",
    "    Several input files should contain same columns! The number of rows doesn't matter, the function provides \n",
    "    row-wise concatenation of input files.\n",
    "    \n",
    "    Parameters:\n",
    "        folder (str): name of a folder with input datasets to read\n",
    "        ext (str): input files extension\n",
    "        \n",
    "    Output:\n",
    "        Pandas Data.Frame combined from input files row-by-row\n",
    "        \n",
    "    \n",
    "    \"\"\"\n",
    "    if not ext.startswith('.'):\n",
    "        ext = f'.{ext}'\n",
    "    files = [read_one_table(folder, f, ext.lower()) for f in os.listdir(folder) if f.endswith(ext)]\n",
    "    return pd.concat(files)"
   ]
  },
  {
   "cell_type": "markdown",
   "id": "0dced5e3",
   "metadata": {},
   "source": [
    "> So let's load our data. We don't need any parameters here due to their default values definition"
   ]
  },
  {
   "cell_type": "code",
   "execution_count": 25,
   "id": "e29be748",
   "metadata": {},
   "outputs": [],
   "source": [
    "df = file_reader()"
   ]
  },
  {
   "cell_type": "markdown",
   "id": "9d9b91f9",
   "metadata": {},
   "source": [
    "### EDA\n",
    "\n",
    "> Now let's proceed some EDA to check weather it everething alright with our data:"
   ]
  },
  {
   "cell_type": "code",
   "execution_count": 26,
   "id": "318f663f",
   "metadata": {},
   "outputs": [
    {
     "data": {
      "text/html": [
       "<div>\n",
       "<style scoped>\n",
       "    .dataframe tbody tr th:only-of-type {\n",
       "        vertical-align: middle;\n",
       "    }\n",
       "\n",
       "    .dataframe tbody tr th {\n",
       "        vertical-align: top;\n",
       "    }\n",
       "\n",
       "    .dataframe thead th {\n",
       "        text-align: right;\n",
       "    }\n",
       "</style>\n",
       "<table border=\"1\" class=\"dataframe\">\n",
       "  <thead>\n",
       "    <tr style=\"text-align: right;\">\n",
       "      <th></th>\n",
       "      <th>ID</th>\n",
       "      <th>Name</th>\n",
       "      <th>Sex</th>\n",
       "      <th>Age</th>\n",
       "      <th>Height</th>\n",
       "      <th>Weight</th>\n",
       "      <th>Team</th>\n",
       "      <th>NOC</th>\n",
       "      <th>Games</th>\n",
       "      <th>Year</th>\n",
       "      <th>Season</th>\n",
       "      <th>City</th>\n",
       "      <th>Sport</th>\n",
       "      <th>Event</th>\n",
       "      <th>Medal</th>\n",
       "    </tr>\n",
       "  </thead>\n",
       "  <tbody>\n",
       "    <tr>\n",
       "      <th>0</th>\n",
       "      <td>1</td>\n",
       "      <td>A Dijiang</td>\n",
       "      <td>M</td>\n",
       "      <td>24.0</td>\n",
       "      <td>180.0</td>\n",
       "      <td>80.0</td>\n",
       "      <td>China</td>\n",
       "      <td>CHN</td>\n",
       "      <td>1992 Summer</td>\n",
       "      <td>1992.0</td>\n",
       "      <td>Summer</td>\n",
       "      <td>Barcelona</td>\n",
       "      <td>Basketball</td>\n",
       "      <td>Basketball Men's Basketball</td>\n",
       "      <td>NaN</td>\n",
       "    </tr>\n",
       "    <tr>\n",
       "      <th>1</th>\n",
       "      <td>2</td>\n",
       "      <td>A Lamusi</td>\n",
       "      <td>M</td>\n",
       "      <td>23.0</td>\n",
       "      <td>170.0</td>\n",
       "      <td>60.0</td>\n",
       "      <td>China</td>\n",
       "      <td>CHN</td>\n",
       "      <td>2012 Summer</td>\n",
       "      <td>2012.0</td>\n",
       "      <td>Summer</td>\n",
       "      <td>London</td>\n",
       "      <td>Judo</td>\n",
       "      <td>Judo Men's Extra-Lightweight</td>\n",
       "      <td>NaN</td>\n",
       "    </tr>\n",
       "    <tr>\n",
       "      <th>2</th>\n",
       "      <td>3</td>\n",
       "      <td>Gunnar Nielsen Aaby</td>\n",
       "      <td>M</td>\n",
       "      <td>24.0</td>\n",
       "      <td>NaN</td>\n",
       "      <td>NaN</td>\n",
       "      <td>Denmark</td>\n",
       "      <td>DEN</td>\n",
       "      <td>1920 Summer</td>\n",
       "      <td>1920.0</td>\n",
       "      <td>Summer</td>\n",
       "      <td>Antwerpen</td>\n",
       "      <td>Football</td>\n",
       "      <td>Football Men's Football</td>\n",
       "      <td>NaN</td>\n",
       "    </tr>\n",
       "  </tbody>\n",
       "</table>\n",
       "</div>"
      ],
      "text/plain": [
       "   ID                 Name Sex   Age  Height  Weight     Team  NOC  \\\n",
       "0   1            A Dijiang   M  24.0   180.0    80.0    China  CHN   \n",
       "1   2             A Lamusi   M  23.0   170.0    60.0    China  CHN   \n",
       "2   3  Gunnar Nielsen Aaby   M  24.0     NaN     NaN  Denmark  DEN   \n",
       "\n",
       "         Games    Year  Season       City       Sport  \\\n",
       "0  1992 Summer  1992.0  Summer  Barcelona  Basketball   \n",
       "1  2012 Summer  2012.0  Summer     London        Judo   \n",
       "2  1920 Summer  1920.0  Summer  Antwerpen    Football   \n",
       "\n",
       "                          Event Medal  \n",
       "0   Basketball Men's Basketball   NaN  \n",
       "1  Judo Men's Extra-Lightweight   NaN  \n",
       "2       Football Men's Football   NaN  "
      ]
     },
     "execution_count": 26,
     "metadata": {},
     "output_type": "execute_result"
    }
   ],
   "source": [
    "df.head(3)"
   ]
  },
  {
   "cell_type": "markdown",
   "id": "c0228fc5",
   "metadata": {},
   "source": [
    "> Let's highlight here the numerical and categorical features. \n",
    ">\n",
    "> Regarding the Year, this is neither a numerical nor a qualitative variable. Let's consider it a separate type - Time Series."
   ]
  },
  {
   "cell_type": "code",
   "execution_count": 27,
   "id": "372b11dc",
   "metadata": {},
   "outputs": [],
   "source": [
    "num_features = ['Age', 'Height', 'Weight']\n",
    "cat_features = ['Name', 'Sex', 'Team', 'NOC', 'Games', 'Season', 'City', 'Sport', 'Event', 'Medal']"
   ]
  },
  {
   "cell_type": "code",
   "execution_count": 28,
   "id": "c76c2946",
   "metadata": {},
   "outputs": [
    {
     "name": "stdout",
     "output_type": "stream",
     "text": [
      "Here we have 271115 entries total in our dataframe\n",
      "\n",
      "Some summary about the data:\n",
      "\n",
      "<class 'pandas.core.frame.DataFrame'>\n",
      "Int64Index: 271115 entries, 0 to 22390\n",
      "Data columns (total 15 columns):\n",
      " #   Column  Non-Null Count   Dtype  \n",
      "---  ------  --------------   -----  \n",
      " 0   ID      271115 non-null  int64  \n",
      " 1   Name    271114 non-null  object \n",
      " 2   Sex     271113 non-null  object \n",
      " 3   Age     261639 non-null  float64\n",
      " 4   Height  210943 non-null  float64\n",
      " 5   Weight  208239 non-null  float64\n",
      " 6   Team    271112 non-null  object \n",
      " 7   NOC     271111 non-null  object \n",
      " 8   Games   271110 non-null  object \n",
      " 9   Year    271108 non-null  float64\n",
      " 10  Season  271108 non-null  object \n",
      " 11  City    271108 non-null  object \n",
      " 12  Sport   271108 non-null  object \n",
      " 13  Event   271107 non-null  object \n",
      " 14  Medal   39782 non-null   object \n",
      "dtypes: float64(4), int64(1), object(10)\n",
      "memory usage: 33.1+ MB\n",
      "None\n"
     ]
    }
   ],
   "source": [
    "print(f'Here we have {len(df)} entries total in our dataframe\\n')\n",
    "print(f'Some summary about the data:\\n')\n",
    "print(df.info())"
   ]
  },
  {
   "cell_type": "markdown",
   "id": "12f4cc21",
   "metadata": {},
   "source": [
    "> This result also could be obtained with `df.isna().sum()` or `df.isnull().sum()` functions"
   ]
  },
  {
   "cell_type": "markdown",
   "id": "fc6c6541",
   "metadata": {},
   "source": [
    "### Finding rubbish in data\n",
    "\n",
    "> We will deal with missing values later, here about the rabbish"
   ]
  },
  {
   "cell_type": "code",
   "execution_count": 29,
   "id": "04c7dd44",
   "metadata": {
    "scrolled": true
   },
   "outputs": [
    {
     "name": "stdout",
     "output_type": "stream",
     "text": [
      "Unique Sex values: ['M' 'F' 'G' nan]\n",
      "Unique Season values: ['Summer' 'Winter' nan]\n",
      "Unique Medal values: [nan 'Gold' 'Bronze' 'Silver']\n",
      "Unique Games values: ['1992 Summer' '2012 Summer' '1920 Summer' '1900 Summer' '1988 Winter'\n",
      " '1992 Winter' '1994 Winter' '1932 Summer' '2002 Winter' '1952 Summer'\n",
      " '1980 Winter' '2000 Summer' '1996 Summer' '1912 Summer' '1924 Summer'\n",
      " '2014 Winter' '1948 Summer' '1998 Winter' '2006 Winter' '2008 Summer'\n",
      " '2016 Summer' '2004 Summer' '1960 Winter' '1964 Winter' '1984 Winter'\n",
      " '1984 Summer' '1968 Summer' '1972 Summer' '1988 Summer' '1936 Summer'\n",
      " '1952 Winter' '1956 Winter' '1956 Summer' '1960 Summer' '1928 Summer'\n",
      " '1976 Summer' '1980 Summer' '1964 Summer' '2010 Winter' '1968 Winter'\n",
      " '1906 Summer' '1972 Winter' '1976 Winter' '1924 Winter' '1904 Summer'\n",
      " '1928 Winter' '1908 Summer' '1948 Winter' '1932 Winter' '1936 Winter'\n",
      " '1896 Summer' '2000 Su' '2004 Summe' nan]\n",
      "Unique City values: ['Barcelona' 'London' 'Antwerpen' 'Paris' 'Calgary' 'Albertville'\n",
      " 'Lillehammer' 'Los Angeles' 'Salt Lake City' 'Helsinki' 'Lake Placid'\n",
      " 'Sydney' 'Atlanta' 'Stockholm' 'Sochi' 'Nagano' 'Torino' 'Beijing'\n",
      " 'Rio de Janeiro' 'Athina' 'Squaw Valley' 'Innsbruck' 'Sarajevo'\n",
      " 'Mexico City' 'Munich' 'Seoul' 'Berlin' 'Oslo' \"Cortina d'Ampezzo\"\n",
      " 'Melbourne' 'Roma' 'Amsterdam' 'Montreal' 'Moskva' 'Tokyo' 'Vancouver'\n",
      " 'Grenoble' 'Sapporo' 'Chamonix' 'St. Louis' 'Sankt Moritz'\n",
      " 'Garmisch-Partenkirchen' nan]\n",
      "Unique Sport values: ['Basketball' 'Judo' 'Football' 'Tug-Of-War' 'Speed Skating'\n",
      " 'Cross Country Skiing' 'Athletics' 'Ice Hockey' 'Swimming' 'Badminton'\n",
      " 'Sailing' 'Biathlon' 'Gymnastics' 'Art Competitions' 'Alpine Skiing'\n",
      " 'Handball' 'Weightlifting' 'Wrestling' 'Luge' 'Water Polo' 'Hockey'\n",
      " 'Rowing' 'Bobsleigh' 'Fencing' 'Equestrianism' 'Shooting' 'Boxing'\n",
      " 'Taekwondo' 'Cycling' 'Diving' 'Canoeing' 'Tennis' 'Modern Pentathlon'\n",
      " 'Figure Skating' 'Golf' 'Softball' 'Archery' 'Volleyball'\n",
      " 'Synchronized Swimming' 'Table Tennis' 'Nordic Combined' 'Baseball'\n",
      " 'Rhythmic Gymnastics' 'Freestyle Skiing' 'Rugby Sevens' 'Trampolining'\n",
      " 'Beach Volleyball' 'Triathlon' 'Ski Jumping' 'Curling' 'Snowboarding'\n",
      " 'Rugby' 'Short Track Speed Skating' 'Skeleton' 'Lacrosse' 'Polo'\n",
      " 'Cricket' 'Racquets' 'Motorboating' 'Military Ski Patrol' 'Croquet'\n",
      " 'Jeu De Paume' nan 'Roque' 'Alpinism' 'Basque Pelota' 'Footba'\n",
      " 'Aeronautics']\n"
     ]
    }
   ],
   "source": [
    "for f in ['Sex', 'Season', 'Medal', 'Games', 'City', 'Sport']:\n",
    "    print(f'Unique {f} values: {df[f].unique()}')"
   ]
  },
  {
   "cell_type": "markdown",
   "id": "e64c17b6",
   "metadata": {},
   "source": [
    "> I see some rubbish here:\n",
    "\n",
    "- 'G' in Sex\n",
    "- '2000 Su' and '2004 Summe' in Games\n",
    "- 'Moskva' in City\n",
    "- 'Footba' in Sport"
   ]
  },
  {
   "cell_type": "markdown",
   "id": "d83ad22f",
   "metadata": {},
   "source": [
    "> For the Age:"
   ]
  },
  {
   "cell_type": "code",
   "execution_count": 30,
   "id": "83b464f1",
   "metadata": {
    "scrolled": false
   },
   "outputs": [
    {
     "name": "stdout",
     "output_type": "stream",
     "text": [
      "[10.0, 11.0, 12.0, 13.0, 14.0, 15.0, 16.0, 17.0, 18.0, 19.0, 20.0, 21.0, 22.0, 23.0, 24.0, 25.0, 26.0, 27.0, 28.0, 29.0, 30.0, 31.0, 32.0, 33.0, 34.0, 35.0, 36.0, 37.0, 38.0, 39.0, 40.0, 41.0, 42.0, 43.0, 44.0, 45.0, 46.0, 47.0, 48.0, 49.0, 50.0, 51.0, 52.0, 53.0, 54.0, 55.0, 56.0, 57.0, 58.0, 59.0, 60.0, 61.0, 62.0, 63.0, 64.0, 65.0, 66.0, 67.0, 68.0, 69.0, 70.0, 71.0, 72.0, 73.0, 74.0, 75.0, 76.0, 77.0, 80.0, 81.0, 84.0, 88.0, 96.0, 97.0, 240.0]\n",
      "\n",
      "The most Age value is [240] and it appears [1] times\n"
     ]
    }
   ],
   "source": [
    "print(sorted(df.Age.dropna().unique()))\n",
    "mav = df.Age.dropna().sort_values().value_counts().tail(1)\n",
    "print(f'\\nThe most Age value is {mav.index.values.astype(int)} and it appears {mav.values} times')"
   ]
  },
  {
   "cell_type": "markdown",
   "id": "75f7700e",
   "metadata": {},
   "source": [
    "> This is an obvious outlier - the age is 240 years.\n",
    "> The same outliers are observable for Height and Weight:"
   ]
  },
  {
   "cell_type": "code",
   "execution_count": 31,
   "id": "afe3f7e8",
   "metadata": {},
   "outputs": [
    {
     "name": "stdout",
     "output_type": "stream",
     "text": [
      "\n",
      "The most Height value is [340] and it appears [1] times\n",
      "\n",
      "The least Weight value is [7] and it appears [1] times\n"
     ]
    }
   ],
   "source": [
    "mhv = df.Height.dropna().sort_values().value_counts().tail(1)\n",
    "lwv = df.Weight.dropna().sort_values().value_counts().tail(1)\n",
    "print(f'\\nThe most Height value is {mhv.index.values.astype(int)} and it appears {mhv.values} times')\n",
    "print(f'\\nThe least Weight value is {lwv.index.values.astype(int)} and it appears {lwv.values} times')"
   ]
  },
  {
   "cell_type": "markdown",
   "id": "8ad33c43",
   "metadata": {},
   "source": [
    "The NOC county 3-letter codes we will check with 'noc_regions.csv' from the [kaggle](https://www.kaggle.com/datasets/heesoo37/120-years-of-olympic-history-athletes-and-results). I will print Teams as well in order to understad what the country is behind the NOC code."
   ]
  },
  {
   "cell_type": "code",
   "execution_count": 32,
   "id": "7eae603b",
   "metadata": {},
   "outputs": [
    {
     "name": "stdout",
     "output_type": "stream",
     "text": [
      "SGP\n",
      "['Singapore' 'June Climene' 'Rika II' 'Singapore-2' 'Singapore-1']\n",
      "nan\n",
      "[]\n",
      "JP\n",
      "['Japan']\n"
     ]
    }
   ],
   "source": [
    "noc_regions = pd.read_csv('noc_regions.csv')\n",
    "for region in df['NOC'].unique():\n",
    "    if region not in noc_regions['NOC'].to_list():\n",
    "        print(region)\n",
    "        print(df[df['NOC'] == region].Team.unique())"
   ]
  },
  {
   "cell_type": "markdown",
   "id": "bfed336d",
   "metadata": {},
   "source": [
    "> By the way, such a method of finding strange values, which I show here, is the only possible one when working with a unique dataset. If this were a real task, i would have to sit and check every person and every team on the Internet. But we know that there is an ideal dataset on the Internet. We will not engage in stupidity, we will compare everything else with it, and at the same time we will double-check ourselves."
   ]
  },
  {
   "cell_type": "code",
   "execution_count": 33,
   "id": "7880a9bc",
   "metadata": {},
   "outputs": [
    {
     "name": "stdout",
     "output_type": "stream",
     "text": [
      "ID set()\n",
      "Name {nan, 'Pietro Spec'}\n",
      "Sex {nan, 'G'}\n",
      "Age {nan, 240.0}\n",
      "Height {nan, 340.0}\n",
      "Weight {nan, 7.0}\n",
      "Team {nan}\n",
      "NOC {nan, 'JP'}\n",
      "Games {nan, '2004 Summe', '2000 Su'}\n",
      "Year {nan}\n",
      "Season {nan}\n",
      "City {nan}\n",
      "Sport {nan, 'Footba'}\n",
      "Event {nan, 'Gymnastics M'}\n",
      "Medal set()\n"
     ]
    }
   ],
   "source": [
    "true_df = pd.read_csv('athlete_events_ideal.csv')\n",
    "for feature in df.columns:\n",
    "    print(feature, set(df[feature].unique()) - set(true_df[feature].unique()))"
   ]
  },
  {
   "cell_type": "markdown",
   "id": "557ab7f0",
   "metadata": {},
   "source": [
    "> Most of theese mismatches we found on our own. Let's check what are the 'Pietro Spec' in Names and 'Gymnastics M' in Events\n",
    "\n",
    "<sub>The Moskva  is not a rubbish...</sub>"
   ]
  },
  {
   "cell_type": "code",
   "execution_count": 34,
   "id": "f9b416c8",
   "metadata": {
    "scrolled": true
   },
   "outputs": [
    {
     "data": {
      "text/html": [
       "<div>\n",
       "<style scoped>\n",
       "    .dataframe tbody tr th:only-of-type {\n",
       "        vertical-align: middle;\n",
       "    }\n",
       "\n",
       "    .dataframe tbody tr th {\n",
       "        vertical-align: top;\n",
       "    }\n",
       "\n",
       "    .dataframe thead th {\n",
       "        text-align: right;\n",
       "    }\n",
       "</style>\n",
       "<table border=\"1\" class=\"dataframe\">\n",
       "  <thead>\n",
       "    <tr style=\"text-align: right;\">\n",
       "      <th></th>\n",
       "      <th>ID</th>\n",
       "      <th>Name</th>\n",
       "      <th>Sex</th>\n",
       "      <th>Age</th>\n",
       "      <th>Height</th>\n",
       "      <th>Weight</th>\n",
       "      <th>Team</th>\n",
       "      <th>NOC</th>\n",
       "      <th>Games</th>\n",
       "      <th>Year</th>\n",
       "      <th>Season</th>\n",
       "      <th>City</th>\n",
       "      <th>Sport</th>\n",
       "      <th>Event</th>\n",
       "      <th>Medal</th>\n",
       "    </tr>\n",
       "  </thead>\n",
       "  <tbody>\n",
       "    <tr>\n",
       "      <th>22409</th>\n",
       "      <td>113716</td>\n",
       "      <td>Pietro Spec</td>\n",
       "      <td>NaN</td>\n",
       "      <td>NaN</td>\n",
       "      <td>NaN</td>\n",
       "      <td>NaN</td>\n",
       "      <td>NaN</td>\n",
       "      <td>NaN</td>\n",
       "      <td>NaN</td>\n",
       "      <td>NaN</td>\n",
       "      <td>NaN</td>\n",
       "      <td>NaN</td>\n",
       "      <td>NaN</td>\n",
       "      <td>NaN</td>\n",
       "      <td>NaN</td>\n",
       "    </tr>\n",
       "  </tbody>\n",
       "</table>\n",
       "</div>"
      ],
      "text/plain": [
       "           ID         Name  Sex  Age  Height  Weight Team  NOC Games  Year  \\\n",
       "22409  113716  Pietro Spec  NaN  NaN     NaN     NaN  NaN  NaN   NaN   NaN   \n",
       "\n",
       "      Season City Sport Event Medal  \n",
       "22409    NaN  NaN   NaN   NaN   NaN  "
      ]
     },
     "execution_count": 34,
     "metadata": {},
     "output_type": "execute_result"
    }
   ],
   "source": [
    "df[df.Name == 'Pietro Spec']"
   ]
  },
  {
   "cell_type": "markdown",
   "id": "0dfaf620",
   "metadata": {},
   "source": [
    "I see that we will say goodbye to Mr. Pietro Speс after clearing the missing values."
   ]
  },
  {
   "cell_type": "code",
   "execution_count": 35,
   "id": "2fa5d2fe",
   "metadata": {},
   "outputs": [
    {
     "data": {
      "text/html": [
       "<div>\n",
       "<style scoped>\n",
       "    .dataframe tbody tr th:only-of-type {\n",
       "        vertical-align: middle;\n",
       "    }\n",
       "\n",
       "    .dataframe tbody tr th {\n",
       "        vertical-align: top;\n",
       "    }\n",
       "\n",
       "    .dataframe thead th {\n",
       "        text-align: right;\n",
       "    }\n",
       "</style>\n",
       "<table border=\"1\" class=\"dataframe\">\n",
       "  <thead>\n",
       "    <tr style=\"text-align: right;\">\n",
       "      <th></th>\n",
       "      <th>ID</th>\n",
       "      <th>Name</th>\n",
       "      <th>Sex</th>\n",
       "      <th>Age</th>\n",
       "      <th>Height</th>\n",
       "      <th>Weight</th>\n",
       "      <th>Team</th>\n",
       "      <th>NOC</th>\n",
       "      <th>Games</th>\n",
       "      <th>Year</th>\n",
       "      <th>Season</th>\n",
       "      <th>City</th>\n",
       "      <th>Sport</th>\n",
       "      <th>Event</th>\n",
       "      <th>Medal</th>\n",
       "    </tr>\n",
       "  </thead>\n",
       "  <tbody>\n",
       "    <tr>\n",
       "      <th>22601</th>\n",
       "      <td>57367</td>\n",
       "      <td>Velik Nikolov Kapsazov</td>\n",
       "      <td>M</td>\n",
       "      <td>25.0</td>\n",
       "      <td>167.0</td>\n",
       "      <td>67.0</td>\n",
       "      <td>Bulgaria</td>\n",
       "      <td>BUL</td>\n",
       "      <td>1960 Summer</td>\n",
       "      <td>1960.0</td>\n",
       "      <td>Summer</td>\n",
       "      <td>Roma</td>\n",
       "      <td>Gymnastics</td>\n",
       "      <td>Gymnastics M</td>\n",
       "      <td>NaN</td>\n",
       "    </tr>\n",
       "  </tbody>\n",
       "</table>\n",
       "</div>"
      ],
      "text/plain": [
       "          ID                    Name Sex   Age  Height  Weight      Team  NOC  \\\n",
       "22601  57367  Velik Nikolov Kapsazov   M  25.0   167.0    67.0  Bulgaria  BUL   \n",
       "\n",
       "             Games    Year  Season  City       Sport         Event Medal  \n",
       "22601  1960 Summer  1960.0  Summer  Roma  Gymnastics  Gymnastics M   NaN  "
      ]
     },
     "execution_count": 35,
     "metadata": {},
     "output_type": "execute_result"
    }
   ],
   "source": [
    "df[df.Event == 'Gymnastics M']"
   ]
  },
  {
   "cell_type": "code",
   "execution_count": 36,
   "id": "1f863400",
   "metadata": {},
   "outputs": [
    {
     "name": "stdout",
     "output_type": "stream",
     "text": [
      "113240    Gymnastics Men's Individual All-Around\n",
      "113241          Gymnastics Men's Team All-Around\n",
      "113242           Gymnastics Men's Floor Exercise\n",
      "113243              Gymnastics Men's Horse Vault\n",
      "113244            Gymnastics Men's Parallel Bars\n",
      "113245           Gymnastics Men's Horizontal Bar\n",
      "113246                    Gymnastics Men's Rings\n",
      "113247          Gymnastics Men's Pommelled Horse\n",
      "Name: Event, dtype: object\n",
      "22599    Gymnastics Men's Individual All-Around\n",
      "22600          Gymnastics Men's Team All-Around\n",
      "22601                              Gymnastics M\n",
      "0                  Gymnastics Men's Horse Vault\n",
      "1                Gymnastics Men's Parallel Bars\n",
      "2               Gymnastics Men's Horizontal Bar\n",
      "3                        Gymnastics Men's Rings\n",
      "4              Gymnastics Men's Pommelled Horse\n",
      "Name: Event, dtype: object\n"
     ]
    }
   ],
   "source": [
    "print(true_df.query('ID == 57367 and City == \"Roma\"').Event)\n",
    "print(df.query('ID == 57367 and City == \"Roma\"').Event)"
   ]
  },
  {
   "cell_type": "markdown",
   "id": "b92a1065",
   "metadata": {},
   "source": [
    "Now we see 'Gymnastics Men's Floor Exercise' was lost"
   ]
  },
  {
   "cell_type": "markdown",
   "id": "1c555c7b",
   "metadata": {
    "slideshow": {
     "slide_type": "slide"
    }
   },
   "source": [
    "I also see some entry that was spoiled totally but presents in ideal df."
   ]
  },
  {
   "cell_type": "code",
   "execution_count": 37,
   "id": "ee80b5b7",
   "metadata": {},
   "outputs": [
    {
     "data": {
      "text/html": [
       "<div>\n",
       "<style scoped>\n",
       "    .dataframe tbody tr th:only-of-type {\n",
       "        vertical-align: middle;\n",
       "    }\n",
       "\n",
       "    .dataframe tbody tr th {\n",
       "        vertical-align: top;\n",
       "    }\n",
       "\n",
       "    .dataframe thead th {\n",
       "        text-align: right;\n",
       "    }\n",
       "</style>\n",
       "<table border=\"1\" class=\"dataframe\">\n",
       "  <thead>\n",
       "    <tr style=\"text-align: right;\">\n",
       "      <th></th>\n",
       "      <th>ID</th>\n",
       "      <th>Name</th>\n",
       "      <th>Sex</th>\n",
       "      <th>Age</th>\n",
       "      <th>Height</th>\n",
       "      <th>Weight</th>\n",
       "      <th>Team</th>\n",
       "      <th>NOC</th>\n",
       "      <th>Games</th>\n",
       "      <th>Year</th>\n",
       "      <th>Season</th>\n",
       "      <th>City</th>\n",
       "      <th>Sport</th>\n",
       "      <th>Event</th>\n",
       "      <th>Medal</th>\n",
       "    </tr>\n",
       "  </thead>\n",
       "  <tbody>\n",
       "    <tr>\n",
       "      <th>22463</th>\n",
       "      <td>124516</td>\n",
       "      <td>NaN</td>\n",
       "      <td>NaN</td>\n",
       "      <td>NaN</td>\n",
       "      <td>NaN</td>\n",
       "      <td>NaN</td>\n",
       "      <td>NaN</td>\n",
       "      <td>NaN</td>\n",
       "      <td>NaN</td>\n",
       "      <td>NaN</td>\n",
       "      <td>NaN</td>\n",
       "      <td>NaN</td>\n",
       "      <td>NaN</td>\n",
       "      <td>NaN</td>\n",
       "      <td>NaN</td>\n",
       "    </tr>\n",
       "  </tbody>\n",
       "</table>\n",
       "</div>"
      ],
      "text/plain": [
       "           ID Name  Sex  Age  Height  Weight Team  NOC Games  Year Season  \\\n",
       "22463  124516  NaN  NaN  NaN     NaN     NaN  NaN  NaN   NaN   NaN    NaN   \n",
       "\n",
       "      City Sport Event Medal  \n",
       "22463  NaN   NaN   NaN   NaN  "
      ]
     },
     "execution_count": 37,
     "metadata": {},
     "output_type": "execute_result"
    }
   ],
   "source": [
    "one_id = int(true_df[true_df.Name == 'Thomas Hendrikus Maria \"Thom\" van Dijck'].ID.values)\n",
    "df[df.ID ==  one_id]"
   ]
  },
  {
   "cell_type": "markdown",
   "id": "1ae6b72a",
   "metadata": {},
   "source": [
    "###### Let's fix all of this stuff"
   ]
  },
  {
   "cell_type": "markdown",
   "id": "f8607ab9",
   "metadata": {},
   "source": [
    "> For sex 'G' obviously they are male:"
   ]
  },
  {
   "cell_type": "code",
   "execution_count": 39,
   "id": "295f9595",
   "metadata": {},
   "outputs": [
    {
     "data": {
      "text/html": [
       "<div>\n",
       "<style scoped>\n",
       "    .dataframe tbody tr th:only-of-type {\n",
       "        vertical-align: middle;\n",
       "    }\n",
       "\n",
       "    .dataframe tbody tr th {\n",
       "        vertical-align: top;\n",
       "    }\n",
       "\n",
       "    .dataframe thead th {\n",
       "        text-align: right;\n",
       "    }\n",
       "</style>\n",
       "<table border=\"1\" class=\"dataframe\">\n",
       "  <thead>\n",
       "    <tr style=\"text-align: right;\">\n",
       "      <th></th>\n",
       "      <th>ID</th>\n",
       "      <th>Name</th>\n",
       "      <th>Sex</th>\n",
       "      <th>Age</th>\n",
       "      <th>Height</th>\n",
       "      <th>Weight</th>\n",
       "      <th>Team</th>\n",
       "      <th>NOC</th>\n",
       "      <th>Games</th>\n",
       "      <th>Year</th>\n",
       "      <th>Season</th>\n",
       "      <th>City</th>\n",
       "      <th>Sport</th>\n",
       "      <th>Event</th>\n",
       "      <th>Medal</th>\n",
       "    </tr>\n",
       "  </thead>\n",
       "  <tbody>\n",
       "    <tr>\n",
       "      <th>42</th>\n",
       "      <td>79609</td>\n",
       "      <td>Pavel Mike</td>\n",
       "      <td>G</td>\n",
       "      <td>22.0</td>\n",
       "      <td>182.0</td>\n",
       "      <td>79.0</td>\n",
       "      <td>Czechoslovakia</td>\n",
       "      <td>TCH</td>\n",
       "      <td>1972 Summer</td>\n",
       "      <td>1972.0</td>\n",
       "      <td>Summer</td>\n",
       "      <td>Munich</td>\n",
       "      <td>Handball</td>\n",
       "      <td>Handball Men's Handball</td>\n",
       "      <td>Silver</td>\n",
       "    </tr>\n",
       "    <tr>\n",
       "      <th>74</th>\n",
       "      <td>79630</td>\n",
       "      <td>Anatoly Mikhaylin</td>\n",
       "      <td>G</td>\n",
       "      <td>37.0</td>\n",
       "      <td>NaN</td>\n",
       "      <td>NaN</td>\n",
       "      <td>Russia</td>\n",
       "      <td>RUS</td>\n",
       "      <td>1996 Summer</td>\n",
       "      <td>1996.0</td>\n",
       "      <td>Summer</td>\n",
       "      <td>Atlanta</td>\n",
       "      <td>Sailing</td>\n",
       "      <td>Sailing Mixed Two Person Keelboat</td>\n",
       "      <td>NaN</td>\n",
       "    </tr>\n",
       "  </tbody>\n",
       "</table>\n",
       "</div>"
      ],
      "text/plain": [
       "       ID               Name Sex   Age  Height  Weight            Team  NOC  \\\n",
       "42  79609         Pavel Mike   G  22.0   182.0    79.0  Czechoslovakia  TCH   \n",
       "74  79630  Anatoly Mikhaylin   G  37.0     NaN     NaN          Russia  RUS   \n",
       "\n",
       "          Games    Year  Season     City     Sport  \\\n",
       "42  1972 Summer  1972.0  Summer   Munich  Handball   \n",
       "74  1996 Summer  1996.0  Summer  Atlanta   Sailing   \n",
       "\n",
       "                                Event   Medal  \n",
       "42            Handball Men's Handball  Silver  \n",
       "74  Sailing Mixed Two Person Keelboat     NaN  "
      ]
     },
     "execution_count": 39,
     "metadata": {},
     "output_type": "execute_result"
    }
   ],
   "source": [
    "df[df.Sex == 'G']"
   ]
  },
  {
   "cell_type": "code",
   "execution_count": 40,
   "id": "9602a7cc",
   "metadata": {},
   "outputs": [],
   "source": [
    "df.Sex.replace('G','M', inplace=True)\n",
    "df.Sport.replace('Footba','Football', inplace=True)\n",
    "df.Games.replace('2000 Su','2000 Summer', inplace=True)\n",
    "df.Games.replace('2004 Summe','2004 Summer', inplace=True)\n",
    "df.NOC.replace('JP','JPN', inplace=True)\n",
    "df.Event.replace(\"Gymnastics M\", \"Gymnastics Men's Floor Exercise\", inplace=True)"
   ]
  },
  {
   "cell_type": "code",
   "execution_count": 41,
   "id": "25cdcaf3",
   "metadata": {},
   "outputs": [],
   "source": [
    "df = df[df.Age != 240]\n",
    "df = df[df.Height != 340]\n",
    "df = df[df.Weight != 7]"
   ]
  },
  {
   "cell_type": "markdown",
   "id": "9c143d63",
   "metadata": {},
   "source": [
    "In any case, such a replacement would not be possible without an ideal dataset. In real life, you may have to restore corrupted values using the Internet or even drop them."
   ]
  },
  {
   "cell_type": "markdown",
   "id": "465394b9",
   "metadata": {},
   "source": [
    "### Dealing with missing values"
   ]
  },
  {
   "cell_type": "markdown",
   "id": "711160d7",
   "metadata": {},
   "source": [
    ">We see there some missing values in some features. Let's make that numbers more illustratory:"
   ]
  },
  {
   "cell_type": "code",
   "execution_count": 44,
   "id": "58e73181",
   "metadata": {},
   "outputs": [
    {
     "data": {
      "text/plain": [
       "<Figure size 720x432 with 0 Axes>"
      ]
     },
     "metadata": {},
     "output_type": "display_data"
    },
    {
     "data": {
      "image/png": "[encoded data removed]",
      "text/plain": [
       "<Figure size 511.25x360 with 1 Axes>"
      ]
     },
     "metadata": {
      "needs_background": "light"
     },
     "output_type": "display_data"
    }
   ],
   "source": [
    "plt.figure(figsize=(10,6))\n",
    "sns.displot(\n",
    "    data=df.isna().melt(value_name=\"missing\"),\n",
    "    y=\"variable\",\n",
    "    hue=\"missing\",\n",
    "    multiple=\"fill\",\n",
    "    aspect=1.25\n",
    ")\n",
    "plt.xlabel(\"Fraction\")\n",
    "plt.ylabel(\"Features\")\n",
    "plt.title(\"Fraction of missing values\")\n",
    "plt.savefig(\"Missing_values_in_raw_dataset_count.png\", dpi=100)\n",
    "plt.show()"
   ]
  },
  {
   "cell_type": "markdown",
   "id": "3b2ce233",
   "metadata": {},
   "source": [
    "> Here we see how many missing values are there. But how are they distributed? Let's check weather is there some correlation between value's missingnesses"
   ]
  },
  {
   "cell_type": "code",
   "execution_count": 45,
   "id": "0768da8b",
   "metadata": {},
   "outputs": [
    {
     "data": {
      "text/plain": [
       "<Figure size 432x288 with 0 Axes>"
      ]
     },
     "metadata": {},
     "output_type": "display_data"
    },
    {
     "data": {
      "image/png": "[encoded data removed]",
      "text/plain": [
       "<Figure size 1080x360 with 3 Axes>"
      ]
     },
     "metadata": {
      "needs_background": "light"
     },
     "output_type": "display_data"
    }
   ],
   "source": [
    "plt.figure()\n",
    "fig, axes = plt.subplots(1, 2, sharex=True, figsize=(15,5))\n",
    "msno.heatmap(df, ax=axes[0], figsize=(8,5), fontsize=12)\n",
    "msno.matrix(df, ax=axes[1], sparkline=False, figsize=(6,5), fontsize=12, color=(0.2, 0.10, 1.0));\n",
    "plt.savefig(\"Missing_values_in_raw_dataset_correlation.png\", dpi=100)\n",
    "plt.show()"
   ]
  },
  {
   "cell_type": "markdown",
   "id": "f8537351",
   "metadata": {},
   "source": [
    "> We have some features with 1 - 2 missing values, some with 7 - 8 and 4 features with much more missing values. Firstly, let's deal with first and seconds ones."
   ]
  },
  {
   "cell_type": "code",
   "execution_count": 46,
   "id": "21486753",
   "metadata": {},
   "outputs": [
    {
     "data": {
      "text/html": [
       "<div>\n",
       "<style scoped>\n",
       "    .dataframe tbody tr th:only-of-type {\n",
       "        vertical-align: middle;\n",
       "    }\n",
       "\n",
       "    .dataframe tbody tr th {\n",
       "        vertical-align: top;\n",
       "    }\n",
       "\n",
       "    .dataframe thead th {\n",
       "        text-align: right;\n",
       "    }\n",
       "</style>\n",
       "<table border=\"1\" class=\"dataframe\">\n",
       "  <thead>\n",
       "    <tr style=\"text-align: right;\">\n",
       "      <th></th>\n",
       "      <th>ID</th>\n",
       "      <th>Name</th>\n",
       "      <th>Sex</th>\n",
       "      <th>Age</th>\n",
       "      <th>Height</th>\n",
       "      <th>Weight</th>\n",
       "      <th>Team</th>\n",
       "      <th>NOC</th>\n",
       "      <th>Games</th>\n",
       "      <th>Year</th>\n",
       "      <th>Season</th>\n",
       "      <th>City</th>\n",
       "      <th>Sport</th>\n",
       "      <th>Event</th>\n",
       "      <th>Medal</th>\n",
       "    </tr>\n",
       "  </thead>\n",
       "  <tbody>\n",
       "    <tr>\n",
       "      <th>22835</th>\n",
       "      <td>12005</td>\n",
       "      <td>Andrea Melissa Blackett</td>\n",
       "      <td>F</td>\n",
       "      <td>24.0</td>\n",
       "      <td>167.0</td>\n",
       "      <td>59.0</td>\n",
       "      <td>Barbados</td>\n",
       "      <td>BAR</td>\n",
       "      <td>2000 Summer</td>\n",
       "      <td>NaN</td>\n",
       "      <td>NaN</td>\n",
       "      <td>NaN</td>\n",
       "      <td>NaN</td>\n",
       "      <td>NaN</td>\n",
       "      <td>NaN</td>\n",
       "    </tr>\n",
       "    <tr>\n",
       "      <th>22586</th>\n",
       "      <td>23433</td>\n",
       "      <td>Hadj Moussa Coulibaly</td>\n",
       "      <td>M</td>\n",
       "      <td>23.0</td>\n",
       "      <td>NaN</td>\n",
       "      <td>NaN</td>\n",
       "      <td>Mali</td>\n",
       "      <td>MLI</td>\n",
       "      <td>2004 Summer</td>\n",
       "      <td>NaN</td>\n",
       "      <td>NaN</td>\n",
       "      <td>NaN</td>\n",
       "      <td>NaN</td>\n",
       "      <td>NaN</td>\n",
       "      <td>NaN</td>\n",
       "    </tr>\n",
       "    <tr>\n",
       "      <th>22557</th>\n",
       "      <td>34727</td>\n",
       "      <td>Carlotta Ferlito</td>\n",
       "      <td>F</td>\n",
       "      <td>17.0</td>\n",
       "      <td>160.0</td>\n",
       "      <td>50.0</td>\n",
       "      <td>Italy</td>\n",
       "      <td>NaN</td>\n",
       "      <td>NaN</td>\n",
       "      <td>NaN</td>\n",
       "      <td>NaN</td>\n",
       "      <td>NaN</td>\n",
       "      <td>NaN</td>\n",
       "      <td>NaN</td>\n",
       "      <td>NaN</td>\n",
       "    </tr>\n",
       "    <tr>\n",
       "      <th>22659</th>\n",
       "      <td>45919</td>\n",
       "      <td>Yuka Harada</td>\n",
       "      <td>F</td>\n",
       "      <td>28.0</td>\n",
       "      <td>170.0</td>\n",
       "      <td>60.0</td>\n",
       "      <td>Japan</td>\n",
       "      <td>JPN</td>\n",
       "      <td>NaN</td>\n",
       "      <td>NaN</td>\n",
       "      <td>NaN</td>\n",
       "      <td>NaN</td>\n",
       "      <td>NaN</td>\n",
       "      <td>NaN</td>\n",
       "      <td>NaN</td>\n",
       "    </tr>\n",
       "    <tr>\n",
       "      <th>22781</th>\n",
       "      <td>91137</td>\n",
       "      <td>Georgios Pantos</td>\n",
       "      <td>M</td>\n",
       "      <td>NaN</td>\n",
       "      <td>NaN</td>\n",
       "      <td>NaN</td>\n",
       "      <td>Athens-2</td>\n",
       "      <td>GRE</td>\n",
       "      <td>1906 Summer</td>\n",
       "      <td>1906.0</td>\n",
       "      <td>Summer</td>\n",
       "      <td>Athina</td>\n",
       "      <td>Football</td>\n",
       "      <td>NaN</td>\n",
       "      <td>NaN</td>\n",
       "    </tr>\n",
       "    <tr>\n",
       "      <th>22409</th>\n",
       "      <td>113716</td>\n",
       "      <td>Pietro Spec</td>\n",
       "      <td>NaN</td>\n",
       "      <td>NaN</td>\n",
       "      <td>NaN</td>\n",
       "      <td>NaN</td>\n",
       "      <td>NaN</td>\n",
       "      <td>NaN</td>\n",
       "      <td>NaN</td>\n",
       "      <td>NaN</td>\n",
       "      <td>NaN</td>\n",
       "      <td>NaN</td>\n",
       "      <td>NaN</td>\n",
       "      <td>NaN</td>\n",
       "      <td>NaN</td>\n",
       "    </tr>\n",
       "    <tr>\n",
       "      <th>22463</th>\n",
       "      <td>124516</td>\n",
       "      <td>NaN</td>\n",
       "      <td>NaN</td>\n",
       "      <td>NaN</td>\n",
       "      <td>NaN</td>\n",
       "      <td>NaN</td>\n",
       "      <td>NaN</td>\n",
       "      <td>NaN</td>\n",
       "      <td>NaN</td>\n",
       "      <td>NaN</td>\n",
       "      <td>NaN</td>\n",
       "      <td>NaN</td>\n",
       "      <td>NaN</td>\n",
       "      <td>NaN</td>\n",
       "      <td>NaN</td>\n",
       "    </tr>\n",
       "  </tbody>\n",
       "</table>\n",
       "</div>"
      ],
      "text/plain": [
       "           ID                     Name  Sex   Age  Height  Weight      Team  \\\n",
       "22835   12005  Andrea Melissa Blackett    F  24.0   167.0    59.0  Barbados   \n",
       "22586   23433    Hadj Moussa Coulibaly    M  23.0     NaN     NaN      Mali   \n",
       "22557   34727         Carlotta Ferlito    F  17.0   160.0    50.0     Italy   \n",
       "22659   45919              Yuka Harada    F  28.0   170.0    60.0     Japan   \n",
       "22781   91137          Georgios Pantos    M   NaN     NaN     NaN  Athens-2   \n",
       "22409  113716              Pietro Spec  NaN   NaN     NaN     NaN       NaN   \n",
       "22463  124516                      NaN  NaN   NaN     NaN     NaN       NaN   \n",
       "\n",
       "       NOC        Games    Year  Season    City     Sport Event Medal  \n",
       "22835  BAR  2000 Summer     NaN     NaN     NaN       NaN   NaN   NaN  \n",
       "22586  MLI  2004 Summer     NaN     NaN     NaN       NaN   NaN   NaN  \n",
       "22557  NaN          NaN     NaN     NaN     NaN       NaN   NaN   NaN  \n",
       "22659  JPN          NaN     NaN     NaN     NaN       NaN   NaN   NaN  \n",
       "22781  GRE  1906 Summer  1906.0  Summer  Athina  Football   NaN   NaN  \n",
       "22409  NaN          NaN     NaN     NaN     NaN       NaN   NaN   NaN  \n",
       "22463  NaN          NaN     NaN     NaN     NaN       NaN   NaN   NaN  "
      ]
     },
     "execution_count": 46,
     "metadata": {},
     "output_type": "execute_result"
    }
   ],
   "source": [
    "df[df.Event.isna()]"
   ]
  },
  {
   "cell_type": "markdown",
   "id": "6004d34f",
   "metadata": {},
   "source": [
    "> Here we see some obviously bad entries. There is no sence to try to fix it somehow, it is better just to drop that 8 rows on a 271115-length scale. Moreover, such features as Event, Sport, City and Season have strongest correlation in values lost so we will fix all of them at once. After that we will think about other missing values."
   ]
  },
  {
   "cell_type": "code",
   "execution_count": 51,
   "id": "3b25281a",
   "metadata": {
    "scrolled": true
   },
   "outputs": [
    {
     "name": "stdout",
     "output_type": "stream",
     "text": [
      "<class 'pandas.core.frame.DataFrame'>\n",
      "Int64Index: 271105 entries, 0 to 22390\n",
      "Data columns (total 15 columns):\n",
      " #   Column  Non-Null Count   Dtype  \n",
      "---  ------  --------------   -----  \n",
      " 0   ID      271105 non-null  int64  \n",
      " 1   Name    271105 non-null  object \n",
      " 2   Sex     271105 non-null  object \n",
      " 3   Age     261632 non-null  float64\n",
      " 4   Height  210938 non-null  float64\n",
      " 5   Weight  208234 non-null  float64\n",
      " 6   Team    271105 non-null  object \n",
      " 7   NOC     271105 non-null  object \n",
      " 8   Games   271105 non-null  object \n",
      " 9   Year    271105 non-null  float64\n",
      " 10  Season  271105 non-null  object \n",
      " 11  City    271105 non-null  object \n",
      " 12  Sport   271105 non-null  object \n",
      " 13  Event   271105 non-null  object \n",
      " 14  Medal   271105 non-null  object \n",
      "dtypes: float64(4), int64(1), object(10)\n",
      "memory usage: 33.1+ MB\n",
      "None\n"
     ]
    }
   ],
   "source": [
    "df.dropna(axis=0, subset=[\"Event\"], inplace = True)\n",
    "print(df.info())"
   ]
  },
  {
   "cell_type": "markdown",
   "id": "7b22a6de",
   "metadata": {},
   "source": [
    "> Medal feature looks really intriguing with so many missing values!"
   ]
  },
  {
   "cell_type": "code",
   "execution_count": 52,
   "id": "82303d47",
   "metadata": {},
   "outputs": [
    {
     "name": "stdout",
     "output_type": "stream",
     "text": [
      "['No medal' 'Gold' 'Bronze' 'Silver']\n"
     ]
    }
   ],
   "source": [
    "print(df.Medal.unique())"
   ]
  },
  {
   "cell_type": "markdown",
   "id": "a2398543",
   "metadata": {},
   "source": [
    "> O-o-o! For now it's clear. 'NaN' here means no medal. Thats easy to fix.\n",
    ">\n",
    "> By the way, if we had machine learning here, we would immediately turn it into a numerical categorical feature from 0 to 3"
   ]
  },
  {
   "cell_type": "code",
   "execution_count": 53,
   "id": "c234a509",
   "metadata": {},
   "outputs": [
    {
     "name": "stdout",
     "output_type": "stream",
     "text": [
      "['No medal' 'Gold' 'Bronze' 'Silver']\n"
     ]
    }
   ],
   "source": [
    "df.Medal.fillna(\"No medal\", inplace = True)\n",
    "print(df.Medal.unique())"
   ]
  },
  {
   "cell_type": "markdown",
   "id": "3fee5a60",
   "metadata": {},
   "source": [
    "> Let's take a clother look at Age, Height and Weight values:"
   ]
  },
  {
   "cell_type": "markdown",
   "id": "5cf93ad6",
   "metadata": {},
   "source": [
    "> For missing values in Age:"
   ]
  },
  {
   "cell_type": "code",
   "execution_count": 54,
   "id": "bcbfc4b8",
   "metadata": {},
   "outputs": [
    {
     "name": "stdout",
     "output_type": "stream",
     "text": [
      "The 3.5% of enties are contain missing Age\n"
     ]
    }
   ],
   "source": [
    "print(f'The {round(len(df[df.Age.isna()])*100/len(df),1)}% of enties are contain missing Age')"
   ]
  },
  {
   "cell_type": "markdown",
   "id": "e78c3927",
   "metadata": {},
   "source": [
    "Not great, not terrible, let's remove them."
   ]
  },
  {
   "cell_type": "code",
   "execution_count": 55,
   "id": "16d2399e",
   "metadata": {},
   "outputs": [],
   "source": [
    "df.dropna(subset=[\"Age\"], axis = 0, inplace = True)"
   ]
  },
  {
   "cell_type": "markdown",
   "id": "a692a93c",
   "metadata": {},
   "source": [
    "> With height and weight everything is a little more complicated. These variables are quite important, and the number of missing values in them is too large. Let's make two new dataframes using two different techniques, and then we'll see how it goes better. In one data frame we will completely remove all these missing values, and in the other, we will somehow replace them with."
   ]
  },
  {
   "cell_type": "code",
   "execution_count": 56,
   "id": "f15b3141",
   "metadata": {},
   "outputs": [
    {
     "name": "stdout",
     "output_type": "stream",
     "text": [
      "The 19.7% of enties are contain missing Height\n"
     ]
    }
   ],
   "source": [
    "print(f'The {round(len(df[df.Height.isna()])*100/len(df),1)}% of enties are contain missing Height')"
   ]
  },
  {
   "cell_type": "markdown",
   "id": "6620dbab",
   "metadata": {},
   "source": [
    "> How to replace Height and Weight? Maybe we want to put here, for example, the average values. But this is impossible due to many other features in the dataset. Okay, you can say calculate the average for certain groups and substitute it depending on the group. Also incorrect - our data contains a time series. So, for time series, there are 3 main ways to fill in missing values: forward and backward filling and interpolation. In order to take into account all these moments, we will do, for example, backfilling with division into groups. As grouping variables, we will take age, gender, country and year - they should have the greatest influence on Height and Weight. Ideally, of course, we would break the age into separate intervals, but we have a lot of data and in this case we will not do feature generation and complicate things too much."
   ]
  },
  {
   "cell_type": "code",
   "execution_count": 121,
   "id": "4ba5e133",
   "metadata": {},
   "outputs": [
    {
     "name": "stdout",
     "output_type": "stream",
     "text": [
      "Mean Height is 175\n",
      "Mean Weight is 70\n",
      "df_gimp shape is (261632, 15)\n",
      "df_drop shape is (206158, 15)\n"
     ]
    }
   ],
   "source": [
    "print(f'Mean Height is {int(df.Height.mean())}')\n",
    "print(f'Mean Weight is {int(df.Weight.mean())}')\n",
    "df_gimp = df.copy()\n",
    "\n",
    "df_drop = df.dropna(subset=['Height', 'Weight'])\n",
    "df_gimp.Height = df['Height'].fillna(df.groupby(['Age', 'Sex', 'Year'])['Height'].transform('backfill'))\n",
    "\n",
    "\n",
    "print(f'df_gimp shape is {df_gimp.shape}')\n",
    "print(f'df_drop shape is {df_drop.shape}')"
   ]
  },
  {
   "cell_type": "markdown",
   "id": "0b8dceea",
   "metadata": {},
   "source": [
    "> Firts of all, let's try to work with imputed-one dataframe and the cleaned one will be reserved."
   ]
  },
  {
   "cell_type": "code",
   "execution_count": null,
   "id": "1dc0821d",
   "metadata": {},
   "outputs": [],
   "source": []
  }
 ],
 "metadata": {
  "kernelspec": {
   "display_name": "Python 3 (ipykernel)",
   "language": "python",
   "name": "python3"
  },
  "language_info": {
   "codemirror_mode": {
    "name": "ipython",
    "version": 3
   },
   "file_extension": ".py",
   "mimetype": "text/x-python",
   "name": "python",
   "nbconvert_exporter": "python",
   "pygments_lexer": "ipython3",
   "version": "3.9.10"
  }
 },
 "nbformat": 4,
 "nbformat_minor": 5
}
