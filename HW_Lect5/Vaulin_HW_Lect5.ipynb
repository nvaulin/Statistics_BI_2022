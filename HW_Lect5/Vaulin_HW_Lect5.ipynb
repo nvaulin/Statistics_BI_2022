{
 "cells": [
  {
   "cell_type": "markdown",
   "metadata": {
    "colab_type": "text",
    "id": "view-in-github"
   },
   "source": [
    "<a href=\"https://colab.research.google.com/github/danon6868/BI-stat-course/blob/main/lecture_5_hypothesis_testing/homework/homework_lecture_5.ipynb\" target=\"_parent\"><img src=\"https://colab.research.google.com/assets/colab-badge.svg\" alt=\"Open In Colab\"/></a>"
   ]
  },
  {
   "cell_type": "markdown",
   "metadata": {
    "id": "_d7wDz2eSo0i"
   },
   "source": [
    "Всем привет! Пришло время нашей первой домашней работы не на степике. Надеюсь, будет весело :)\n",
    "\n",
    "Так как, `pandas` вы еще не проходили, то я вам немного помогу. Эту домашку можно делать как в питоне, так и в R, само задание будет написано в `Google Colaboratory`."
   ]
  },
  {
   "cell_type": "code",
   "execution_count": 1,
   "metadata": {},
   "outputs": [
    {
     "name": "stderr",
     "output_type": "stream",
     "text": [
      "C:\\Users\\vauli\\AppData\\Roaming\\Python\\Python39\\site-packages\\rpy2\\robjects\\packages.py:367: UserWarning: The symbol 'quartz' is not in this R namespace/package.\n",
      "  warnings.warn(\n"
     ]
    },
    {
     "name": "stdout",
     "output_type": "stream",
     "text": [
      "The rpy2.ipython extension is already loaded. To reload it, use:\n",
      "  %reload_ext rpy2.ipython\n"
     ]
    }
   ],
   "source": [
    "import os\n",
    "\n",
    "run_r = True\n",
    "\n",
    "if run_r:\n",
    "    for i in [1,2]:\n",
    "        os.environ[\"R_HOME\"] = r\"C:\\R\\R-4.2.0\"\n",
    "        import rpy2\n",
    "        %load_ext rpy2.ipython"
   ]
  },
  {
   "cell_type": "code",
   "execution_count": 2,
   "metadata": {
    "id": "OLE-TC4eN1HP"
   },
   "outputs": [],
   "source": [
    "# Pandas понадобится нам для чтения денных\n",
    "import pandas as pd\n",
    "import seaborn as sns\n",
    "import matplotlib.pyplot as plt\n",
    "import numpy as np"
   ]
  },
  {
   "cell_type": "code",
   "execution_count": 3,
   "metadata": {},
   "outputs": [],
   "source": [
    "# %%R\n",
    "# install.packages(\"BSDA\")\n",
    "# install.packages(\"ggplot2\")\n",
    "# install.packages(\"dplyr\")"
   ]
  },
  {
   "cell_type": "code",
   "execution_count": 4,
   "metadata": {
    "colab": {
     "base_uri": "https://localhost:8080/",
     "height": 317
    },
    "id": "OQxt1TdvN_mT",
    "outputId": "f64a75bf-25e0-483c-f38a-a32633cad895"
   },
   "outputs": [
    {
     "data": {
      "text/html": [
       "<div>\n",
       "<style scoped>\n",
       "    .dataframe tbody tr th:only-of-type {\n",
       "        vertical-align: middle;\n",
       "    }\n",
       "\n",
       "    .dataframe tbody tr th {\n",
       "        vertical-align: top;\n",
       "    }\n",
       "\n",
       "    .dataframe thead th {\n",
       "        text-align: right;\n",
       "    }\n",
       "</style>\n",
       "<table border=\"1\" class=\"dataframe\">\n",
       "  <thead>\n",
       "    <tr style=\"text-align: right;\">\n",
       "      <th></th>\n",
       "      <th>TMCC1</th>\n",
       "      <th>RANBP3</th>\n",
       "      <th>GABRG3</th>\n",
       "      <th>ARRDC5</th>\n",
       "      <th>LRP3</th>\n",
       "      <th>TIMM23</th>\n",
       "      <th>TBPL1</th>\n",
       "      <th>BIRC8</th>\n",
       "      <th>TTC28</th>\n",
       "      <th>C19orf66</th>\n",
       "      <th>...</th>\n",
       "      <th>MAGEA6</th>\n",
       "      <th>IL4I1</th>\n",
       "      <th>LCN12</th>\n",
       "      <th>SMG6</th>\n",
       "      <th>C1orf100</th>\n",
       "      <th>WDR75</th>\n",
       "      <th>ZBTB26</th>\n",
       "      <th>SPTY2D1</th>\n",
       "      <th>PLEKHA2</th>\n",
       "      <th>Cell_type</th>\n",
       "    </tr>\n",
       "  </thead>\n",
       "  <tbody>\n",
       "    <tr>\n",
       "      <th>0</th>\n",
       "      <td>33.888550</td>\n",
       "      <td>38.384340</td>\n",
       "      <td>0.044721</td>\n",
       "      <td>1.385159</td>\n",
       "      <td>11.341853</td>\n",
       "      <td>105.193306</td>\n",
       "      <td>26.463990</td>\n",
       "      <td>0.000000</td>\n",
       "      <td>1.537873</td>\n",
       "      <td>27.645407</td>\n",
       "      <td>...</td>\n",
       "      <td>21.332443</td>\n",
       "      <td>1.397932</td>\n",
       "      <td>0.000000</td>\n",
       "      <td>23.136585</td>\n",
       "      <td>0.001902</td>\n",
       "      <td>60.218548</td>\n",
       "      <td>6.307399</td>\n",
       "      <td>9.577274</td>\n",
       "      <td>44.026940</td>\n",
       "      <td>B_cell</td>\n",
       "    </tr>\n",
       "    <tr>\n",
       "      <th>1</th>\n",
       "      <td>16.497124</td>\n",
       "      <td>35.054090</td>\n",
       "      <td>0.314645</td>\n",
       "      <td>4.329797</td>\n",
       "      <td>8.649321</td>\n",
       "      <td>50.577618</td>\n",
       "      <td>16.684614</td>\n",
       "      <td>0.000000</td>\n",
       "      <td>1.796609</td>\n",
       "      <td>13.715611</td>\n",
       "      <td>...</td>\n",
       "      <td>1.199440</td>\n",
       "      <td>159.147130</td>\n",
       "      <td>0.259244</td>\n",
       "      <td>18.986986</td>\n",
       "      <td>0.310971</td>\n",
       "      <td>25.818224</td>\n",
       "      <td>4.193348</td>\n",
       "      <td>14.181196</td>\n",
       "      <td>35.779896</td>\n",
       "      <td>B_cell</td>\n",
       "    </tr>\n",
       "    <tr>\n",
       "      <th>2</th>\n",
       "      <td>5.449933</td>\n",
       "      <td>31.783958</td>\n",
       "      <td>0.002949</td>\n",
       "      <td>2.137536</td>\n",
       "      <td>1.750892</td>\n",
       "      <td>109.201050</td>\n",
       "      <td>35.265984</td>\n",
       "      <td>0.011501</td>\n",
       "      <td>0.878889</td>\n",
       "      <td>19.361662</td>\n",
       "      <td>...</td>\n",
       "      <td>0.002924</td>\n",
       "      <td>25.256378</td>\n",
       "      <td>0.000000</td>\n",
       "      <td>32.941895</td>\n",
       "      <td>0.000000</td>\n",
       "      <td>99.555990</td>\n",
       "      <td>8.323141</td>\n",
       "      <td>29.321960</td>\n",
       "      <td>30.816538</td>\n",
       "      <td>B_cell</td>\n",
       "    </tr>\n",
       "    <tr>\n",
       "      <th>3</th>\n",
       "      <td>33.362240</td>\n",
       "      <td>56.147026</td>\n",
       "      <td>0.037295</td>\n",
       "      <td>1.604904</td>\n",
       "      <td>6.807299</td>\n",
       "      <td>100.141620</td>\n",
       "      <td>25.446817</td>\n",
       "      <td>0.000000</td>\n",
       "      <td>2.502661</td>\n",
       "      <td>12.745437</td>\n",
       "      <td>...</td>\n",
       "      <td>0.000000</td>\n",
       "      <td>14.509516</td>\n",
       "      <td>0.063003</td>\n",
       "      <td>19.036896</td>\n",
       "      <td>0.000000</td>\n",
       "      <td>49.394980</td>\n",
       "      <td>4.655794</td>\n",
       "      <td>17.683067</td>\n",
       "      <td>47.143270</td>\n",
       "      <td>B_cell</td>\n",
       "    </tr>\n",
       "    <tr>\n",
       "      <th>4</th>\n",
       "      <td>50.188510</td>\n",
       "      <td>30.165264</td>\n",
       "      <td>0.039678</td>\n",
       "      <td>1.501439</td>\n",
       "      <td>1.619954</td>\n",
       "      <td>46.916790</td>\n",
       "      <td>28.053373</td>\n",
       "      <td>0.018181</td>\n",
       "      <td>1.165164</td>\n",
       "      <td>30.318027</td>\n",
       "      <td>...</td>\n",
       "      <td>0.033807</td>\n",
       "      <td>93.681190</td>\n",
       "      <td>0.031816</td>\n",
       "      <td>19.094831</td>\n",
       "      <td>0.000000</td>\n",
       "      <td>20.201437</td>\n",
       "      <td>6.935232</td>\n",
       "      <td>20.769829</td>\n",
       "      <td>53.935143</td>\n",
       "      <td>B_cell</td>\n",
       "    </tr>\n",
       "  </tbody>\n",
       "</table>\n",
       "<p>5 rows × 18793 columns</p>\n",
       "</div>"
      ],
      "text/plain": [
       "       TMCC1     RANBP3    GABRG3    ARRDC5       LRP3      TIMM23      TBPL1  \\\n",
       "0  33.888550  38.384340  0.044721  1.385159  11.341853  105.193306  26.463990   \n",
       "1  16.497124  35.054090  0.314645  4.329797   8.649321   50.577618  16.684614   \n",
       "2   5.449933  31.783958  0.002949  2.137536   1.750892  109.201050  35.265984   \n",
       "3  33.362240  56.147026  0.037295  1.604904   6.807299  100.141620  25.446817   \n",
       "4  50.188510  30.165264  0.039678  1.501439   1.619954   46.916790  28.053373   \n",
       "\n",
       "      BIRC8     TTC28   C19orf66  ...     MAGEA6       IL4I1     LCN12  \\\n",
       "0  0.000000  1.537873  27.645407  ...  21.332443    1.397932  0.000000   \n",
       "1  0.000000  1.796609  13.715611  ...   1.199440  159.147130  0.259244   \n",
       "2  0.011501  0.878889  19.361662  ...   0.002924   25.256378  0.000000   \n",
       "3  0.000000  2.502661  12.745437  ...   0.000000   14.509516  0.063003   \n",
       "4  0.018181  1.165164  30.318027  ...   0.033807   93.681190  0.031816   \n",
       "\n",
       "        SMG6  C1orf100      WDR75    ZBTB26    SPTY2D1    PLEKHA2  Cell_type  \n",
       "0  23.136585  0.001902  60.218548  6.307399   9.577274  44.026940     B_cell  \n",
       "1  18.986986  0.310971  25.818224  4.193348  14.181196  35.779896     B_cell  \n",
       "2  32.941895  0.000000  99.555990  8.323141  29.321960  30.816538     B_cell  \n",
       "3  19.036896  0.000000  49.394980  4.655794  17.683067  47.143270     B_cell  \n",
       "4  19.094831  0.000000  20.201437  6.935232  20.769829  53.935143     B_cell  \n",
       "\n",
       "[5 rows x 18793 columns]"
      ]
     },
     "execution_count": 4,
     "metadata": {},
     "output_type": "execute_result"
    }
   ],
   "source": [
    "# В переменную data_path надо положить путь до данных\n",
    "data_path = \"data\"\n",
    "expression_data = pd.read_csv(f\"{data_path}/homework_lecture_5_data.csv\", index_col=0)\n",
    "expression_data.head()"
   ]
  },
  {
   "cell_type": "code",
   "execution_count": 5,
   "metadata": {
    "id": "9k75ZGZyVBhu"
   },
   "outputs": [
    {
     "name": "stdout",
     "output_type": "stream",
     "text": [
      "(500, 18793)\n",
      "(500, 18793)\n"
     ]
    }
   ],
   "source": [
    "b_cells_expression_data = expression_data.query(\"Cell_type == 'B_cell'\")\n",
    "nk_cells_expression_data = expression_data.query(\"Cell_type == 'NK_cell'\")\n",
    "# b_cells_expression_data.iloc[:, :-1].to_csv(\"C:/Users/vauli/Documents/Study/BI/Statistics/Statistics_BI_2022/b_cells_expression_data.csv\")\n",
    "# nk_cells_expression_data.iloc[:, :-1].to_csv(\"C:/Users/vauli/Documents/Study/BI/Statistics/Statistics_BI_2022/nk_cells_expression_data.csv\")\n",
    "print(b_cells_expression_data.shape)\n",
    "print(nk_cells_expression_data.shape)"
   ]
  },
  {
   "cell_type": "code",
   "execution_count": 6,
   "metadata": {},
   "outputs": [
    {
     "name": "stderr",
     "output_type": "stream",
     "text": [
      "C:\\Users\\vauli\\AppData\\Local\\Temp\\ipykernel_20972\\934338089.py:1: FutureWarning: The default value of numeric_only in DataFrame.mean is deprecated. In a future version, it will default to False. In addition, specifying 'numeric_only=None' is deprecated. Select only valid columns or specify the value of numeric_only to silence this warning.\n",
      "  b_cells_expression_data.mean(axis=0)\n"
     ]
    },
    {
     "data": {
      "text/plain": [
       "TMCC1       26.978972\n",
       "RANBP3      42.156958\n",
       "GABRG3       3.429036\n",
       "ARRDC5       4.932112\n",
       "LRP3         9.060050\n",
       "              ...    \n",
       "C1orf100     1.524400\n",
       "WDR75       45.490111\n",
       "ZBTB26       9.867642\n",
       "SPTY2D1     16.754482\n",
       "PLEKHA2     92.088388\n",
       "Length: 18792, dtype: float64"
      ]
     },
     "execution_count": 6,
     "metadata": {},
     "output_type": "execute_result"
    }
   ],
   "source": [
    "b_cells_expression_data.mean(axis=0)"
   ]
  },
  {
   "cell_type": "markdown",
   "metadata": {
    "id": "OAUclhJ3UC2p"
   },
   "source": [
    "В этом задании мы будем работать с данными об экспрессии генов в друх клеточных типах: в B-клетках и в NK-клетках. Выясним, средняя экспрессия каких генов значимо различается в этих клеточных типах."
   ]
  },
  {
   "cell_type": "markdown",
   "metadata": {
    "id": "crW-TliUUuye"
   },
   "source": [
    "Я буду показывать примеры на одном гене, а на основе них вы сможете сделать похожие задачи для всех генов."
   ]
  },
  {
   "cell_type": "code",
   "execution_count": 7,
   "metadata": {
    "id": "1o1vmOSoQMRy"
   },
   "outputs": [],
   "source": [
    "example_gene = \"TMCC1\""
   ]
  },
  {
   "cell_type": "markdown",
   "metadata": {
    "id": "gFSq8BCiUb_m"
   },
   "source": [
    "## Задание 1\n",
    "\n",
    "**2 баллов**"
   ]
  },
  {
   "cell_type": "markdown",
   "metadata": {
    "id": "419ztR7lVm_E"
   },
   "source": [
    "Посмотрим на распределение экспрессий гена `TMCC1` в обоих клеточных типах."
   ]
  },
  {
   "cell_type": "code",
   "execution_count": 8,
   "metadata": {
    "colab": {
     "base_uri": "https://localhost:8080/",
     "height": 279
    },
    "id": "0ln2fQG2QMen",
    "outputId": "00298ce4-4675-4eee-e9aa-e322f2f0b703"
   },
   "outputs": [
    {
     "data": {
      "image/png": "[encoded data removed]",
      "text/plain": [
       "<Figure size 432x288 with 1 Axes>"
      ]
     },
     "metadata": {
      "needs_background": "light"
     },
     "output_type": "display_data"
    }
   ],
   "source": [
    "sns.histplot(b_cells_expression_data[example_gene], stat=\"density\");"
   ]
  },
  {
   "cell_type": "code",
   "execution_count": 9,
   "metadata": {
    "colab": {
     "base_uri": "https://localhost:8080/",
     "height": 281
    },
    "id": "pNdIdzpYQMpu",
    "outputId": "25c386a9-6f30-4beb-afbd-d837a8dd066b"
   },
   "outputs": [
    {
     "data": {
      "image/png": "[encoded data removed]",
      "text/plain": [
       "<Figure size 432x288 with 1 Axes>"
      ]
     },
     "metadata": {
      "needs_background": "light"
     },
     "output_type": "display_data"
    }
   ],
   "source": [
    "sns.histplot(nk_cells_expression_data[example_gene], stat=\"density\");"
   ]
  },
  {
   "cell_type": "markdown",
   "metadata": {
    "id": "TvQPlK5zV77n"
   },
   "source": [
    "Кажется, что они немного различаются. Для начала давайте попробуем еще раз проверить центральную предельную теорему.\n",
    "\n",
    "**Задание:**\n",
    "\n",
    "Напишите функцию, которая будет принимать на вход экспрессии гена, семплировать их них выборки размера `sample_size`, считать среднюю экспрессию и повторять это `n_samples` раз. Примените эту функцию к экспрессиям гена `TMCC1` в обоих клеточных типах, визуализируйте их. Отличаются ли средние экспрессии данного гена у этих клеточных типов?\n",
    " \n",
    "Сигнатура функции:\n",
    "\n",
    "```python\n",
    "def demonstrate_clt(expressions, sample_size, n_samples):\n",
    "    mean_expressions = []\n",
    "\n",
    "    return mean_expressions\n",
    "```"
   ]
  },
  {
   "cell_type": "code",
   "execution_count": 10,
   "metadata": {
    "id": "liScG4k7qVtW",
    "slideshow": {
     "slide_type": "slide"
    }
   },
   "outputs": [
    {
     "data": {
      "image/png": "[encoded data removed]",
      "text/plain": [
       "<Figure size 432x288 with 1 Axes>"
      ]
     },
     "metadata": {
      "needs_background": "light"
     },
     "output_type": "display_data"
    }
   ],
   "source": [
    "def demonstrate_clt(expressions, sample_size, n_samples):\n",
    "    mean_expressions = []\n",
    "    for n in range(n_samples):\n",
    "        mean_expressions.append(expressions.sample(sample_size).mean())    \n",
    "    return mean_expressions\n",
    "\n",
    "\n",
    "sample_size = 250\n",
    "n_samples = 1000\n",
    "\n",
    "b_mean_expr = demonstrate_clt(b_cells_expression_data.TMCC1, sample_size, n_samples)\n",
    "nk_mean_expr = demonstrate_clt(nk_cells_expression_data.TMCC1, sample_size, n_samples)\n",
    "\n",
    "mean_expr_TMCC1 ={\n",
    "    'B-cells': b_mean_expr,\n",
    "    'NK-cells': nk_mean_expr\n",
    "}\n",
    "\n",
    "mean_expr_TMCC1 = [b_mean_expr, nk_mean_expr]\n",
    "\n",
    "meanboxes = sns.boxplot(data=mean_expr_TMCC1)\n",
    "meanboxes.set_title('Mean TMCC1 expression')\n",
    "meanboxes.set_xticklabels((\"B-cells\", \"NK-cells\"));\n",
    "plt.show()"
   ]
  },
  {
   "cell_type": "code",
   "execution_count": 11,
   "metadata": {
    "slideshow": {
     "slide_type": "slide"
    }
   },
   "outputs": [
    {
     "data": {
      "image/png": "[encoded data removed]"
     },
     "metadata": {},
     "output_type": "display_data"
    }
   ],
   "source": [
    "%%R -i b_cells_expression_data -i nk_cells_expression_data\n",
    "library(ggplot2)\n",
    "\n",
    "demonstrate_clt = function(expressions, sample_size, n_samples){\n",
    " mean_expressions = c()\n",
    "for(i in 1:n_samples){\n",
    "mean_expressions[length(mean_expressions)+1] = mean(expressions[sample(length(expressions), sample_size)]) \n",
    "}\n",
    "return(mean_expressions)\n",
    "}\n",
    "\n",
    "sample_size = 250\n",
    "n_samples = 1000\n",
    "\n",
    "b_mean_expr = demonstrate_clt(b_cells_expression_data$TMCC1, sample_size, n_samples)\n",
    "nk_mean_expr = demonstrate_clt(nk_cells_expression_data$TMCC1, sample_size, n_samples)\n",
    "mean_expr_tmcc1 = as.data.frame(rbind(cbind(b_mean_expr, 'B-cells'), cbind(nk_mean_expr, 'NK-cells')))\n",
    "colnames(mean_expr_tmcc1) = c('mean', 'cell')\n",
    "mean_expr_tmcc1$mean = as.numeric(mean_expr_tmcc1$mean)\n",
    "# c('Mean TMCC1 expression', 'Cell type')\n",
    "\n",
    "pl = ggplot(data = mean_expr_tmcc1, aes(x = cell, y=mean, fill = cell)) + geom_boxplot() +\n",
    "        theme_bw() + labs(title = \"Mean TMCC1 expression\", x = \"Cell type\") +\n",
    "        theme(legend.position=\"none\", axis.title.y=element_blank())\n",
    "\n",
    "print(pl, vp=grid::viewport(width=unit(5, 'inch'), height=unit(4, 'inch')))"
   ]
  },
  {
   "cell_type": "markdown",
   "metadata": {},
   "source": [
    "Что интересно, видно, что  рассчет усов и выбросов немного отличаются у базовых боксплотов в Python и R."
   ]
  },
  {
   "cell_type": "markdown",
   "metadata": {
    "id": "dy8xJYbfa_1W"
   },
   "source": [
    "А теперь посчитайте 95% доверительные интервалы для обоих распределений (примем тот факт, что средние распределены нормально для обоих клеточных типов) и скажите, отличается ли средняя экспрессия данного гена между клеточными типами?"
   ]
  },
  {
   "cell_type": "code",
   "execution_count": 12,
   "metadata": {},
   "outputs": [
    {
     "name": "stdout",
     "output_type": "stream",
     "text": [
      "CI for B-cells: (23.42883838285794, 30.529105275542065)\n",
      "CI for NK-cells: (26.854734824710704, 34.00790437608929)\n"
     ]
    }
   ],
   "source": [
    "def calculate_ci(sample, std=None):\n",
    "    if std is None:\n",
    "        std = sample.std()\n",
    "    \n",
    "    mean = sample.mean()\n",
    "    se = std / np.sqrt(len(sample))\n",
    "    left_b = mean - 1.96 * se\n",
    "    right_b = mean + 1.96 * se\n",
    "\n",
    "    return (left_b, right_b)\n",
    "\n",
    "b_cells_int = calculate_ci(b_cells_expression_data.TMCC1)\n",
    "nk_cells_int = calculate_ci(nk_cells_expression_data.TMCC1)\n",
    "print(f'CI for B-cells: {b_cells_int}')\n",
    "print(f'CI for NK-cells: {nk_cells_int}')"
   ]
  },
  {
   "cell_type": "markdown",
   "metadata": {
    "id": "ohXJ3B-TcwP1"
   },
   "source": [
    "## Задание 2\n",
    "\n",
    "**4 баллов**"
   ]
  },
  {
   "cell_type": "markdown",
   "metadata": {
    "id": "OZeMqL9KdCZW"
   },
   "source": [
    "Вспомнили центральную предельную теорему и то, как считать доверительные интервалы в простом случае, теперь давайте воспользуемся библиотечной реализацией для того, чтобы протестировать уже все гены. "
   ]
  },
  {
   "cell_type": "code",
   "execution_count": 13,
   "metadata": {
    "id": "lWagSgzjabYZ"
   },
   "outputs": [],
   "source": [
    "import scipy.stats as st"
   ]
  },
  {
   "cell_type": "markdown",
   "metadata": {
    "id": "8UF6p1vpekvX"
   },
   "source": [
    "Посчитаем доверительные интервалы для нашего демонстрационного гена в обоих клеточных типах:"
   ]
  },
  {
   "cell_type": "code",
   "execution_count": 14,
   "metadata": {
    "colab": {
     "base_uri": "https://localhost:8080/"
    },
    "id": "6D37bTt5cyVm",
    "outputId": "13509c33-9373-4893-e92c-f2ae556be6de"
   },
   "outputs": [
    {
     "name": "stderr",
     "output_type": "stream",
     "text": [
      "C:\\Users\\vauli\\AppData\\Local\\Temp\\ipykernel_20972\\757604766.py:2: DeprecationWarning: Use of keyword argument `alpha` for method `interval` is deprecated. Use first positional argument or keyword argument `confidence` instead.\n",
      "  st.t.interval(alpha=0.95, # 95% доверительный интервал\n"
     ]
    },
    {
     "data": {
      "text/plain": [
       "(23.420272072079296, 30.53767158632071)"
      ]
     },
     "execution_count": 14,
     "metadata": {},
     "output_type": "execute_result"
    }
   ],
   "source": [
    "# B клетки\n",
    "st.t.interval(alpha=0.95, # 95% доверительный интервал\n",
    "              df=len(b_cells_expression_data[example_gene]) - 1, # число степеней свободы - 1\n",
    "              loc=np.mean(b_cells_expression_data[example_gene]), # Среднее\n",
    "              scale=st.sem(b_cells_expression_data[example_gene])) # Стандартная ошибка среднего"
   ]
  },
  {
   "cell_type": "code",
   "execution_count": 15,
   "metadata": {
    "colab": {
     "base_uri": "https://localhost:8080/"
    },
    "id": "fgUUKsMhcyfG",
    "outputId": "32bca3dc-399a-4c7c-9ba6-3ac3726c172f"
   },
   "outputs": [
    {
     "name": "stderr",
     "output_type": "stream",
     "text": [
      "C:\\Users\\vauli\\AppData\\Local\\Temp\\ipykernel_20972\\2133334576.py:2: DeprecationWarning: Use of keyword argument `alpha` for method `interval` is deprecated. Use first positional argument or keyword argument `confidence` instead.\n",
      "  st.t.interval(alpha=0.95, # 95% доверительный интервал\n"
     ]
    },
    {
     "data": {
      "text/plain": [
       "(26.84610468807562, 34.01653451272438)"
      ]
     },
     "execution_count": 15,
     "metadata": {},
     "output_type": "execute_result"
    }
   ],
   "source": [
    "# NK клетки\n",
    "st.t.interval(alpha=0.95, # 95% доверительный интервал\n",
    "              df=len(nk_cells_expression_data[example_gene]) - 1, # число степеней свободы - 1\n",
    "              loc=np.mean(nk_cells_expression_data[example_gene]), # Среднее\n",
    "              scale=st.sem(nk_cells_expression_data[example_gene])) # Стандартная ошибка среднего"
   ]
  },
  {
   "cell_type": "markdown",
   "metadata": {
    "id": "q60PntVDfVof"
   },
   "source": [
    "Напишите функцию для проверки того, что доверительные интервалы пересекаются. На лекции мы тестировали гипотезы для равенства среднего выборки заданному числу и проверяли, попало ли оно в границы этого интервала или нет, если оно оказывалось за ними, то мы говорили, что средние отличаются. Здесь же мы имеем дело с двумя выборками, поэтому будем проверять, пересекаются ли доверительные интервалы, и, если нет, то говорить о том, что средние в выборках отличаются.\n",
    "\n",
    "```python\n",
    "def check_intervals_intersect(first_ci, second_ci):   \n",
    "\n",
    "    return are_intersect # True or False\n",
    "```"
   ]
  },
  {
   "cell_type": "code",
   "execution_count": 16,
   "metadata": {
    "id": "iIYx9Pb9fO_q"
   },
   "outputs": [
    {
     "data": {
      "text/plain": [
       "True"
      ]
     },
     "execution_count": 16,
     "metadata": {},
     "output_type": "execute_result"
    }
   ],
   "source": [
    "def check_intervals_intersect(intervals):  \n",
    "    first_ci = intervals[0]\n",
    "    second_ci = intervals[1]    \n",
    "    return  not ((first_ci[1] <= second_ci[0]) or (second_ci[1] <= first_ci[0])) \n",
    "# Здесь важно учесть что включение в себя одного интервала другим тоже считаем за сопротивление\n",
    "\n",
    "check_intervals_intersect([b_cells_int, nk_cells_int])"
   ]
  },
  {
   "cell_type": "markdown",
   "metadata": {
    "id": "2cpsVdR-gYkm"
   },
   "source": [
    "Теперь для каждого гена посчитайте доверительные интервалы в обоих клеточных типах, и проверьте, пересекаются ли они? Результаты можно добавлять в список, например:\n",
    "\n",
    "```python\n",
    "ci_test_results = [True, False, ..., True]\n",
    "```"
   ]
  },
  {
   "cell_type": "markdown",
   "metadata": {
    "id": "GTeBsVNHhpr9"
   },
   "source": [
    "Попытайтесь оформить это в виде функции, которая будет принимать на вход две таблицы с экспрессиями и выдавать для каждого гена, значимо ли отличается его средняя экспрессия между клеточными типами.\n",
    "\n",
    "```python\n",
    "def check_dge_with_ci(first_table, second_table):\n",
    "    # dge - differential gene expression\n",
    "\n",
    "    return ci_test_results\n",
    "```"
   ]
  },
  {
   "cell_type": "code",
   "execution_count": 17,
   "metadata": {
    "id": "nxgCa0V-r8Xw"
   },
   "outputs": [],
   "source": [
    "def table_ci_and_preproc(table, celltype):\n",
    "    table = table.iloc[:, :-1].apply(calculate_ci, axis = 0).transpose()\n",
    "    table[f'{celltype}_interval'] = list(zip(table[0], table[1]))\n",
    "    table.drop([0,1], axis = 1, inplace = True)\n",
    "    return table\n",
    "\n",
    "def check_dge_with_ci(first_table, second_table, celltypes = [\"B\", \"NK\"]):\n",
    "    first_table = table_ci_and_preproc(first_table, celltypes[0])\n",
    "    second_table = table_ci_and_preproc(second_table, celltypes[1])\n",
    "    intervals = pd.concat([first_table, second_table], axis = 1)\n",
    "        \n",
    "    ci_test_results = intervals.apply(check_intervals_intersect, axis = 1)\n",
    "#     ci_test_results = np.concatenate([genes, ci_test_results])\n",
    "    return ci_test_results, intervals\n",
    "\n",
    "dge_with_ci_results, ci_intervals = check_dge_with_ci(b_cells_expression_data, nk_cells_expression_data)"
   ]
  },
  {
   "cell_type": "code",
   "execution_count": 18,
   "metadata": {},
   "outputs": [
    {
     "name": "stdout",
     "output_type": "stream",
     "text": [
      "There are 14980 overlapping ang 3812 non-overlapping intervals\n",
      "\n",
      "For example (do intervals overlap?):\n",
      "\n",
      "TMCC1      True\n",
      "RANBP3    False\n",
      "dtype: bool\n"
     ]
    },
    {
     "data": {
      "text/html": [
       "<div>\n",
       "<style scoped>\n",
       "    .dataframe tbody tr th:only-of-type {\n",
       "        vertical-align: middle;\n",
       "    }\n",
       "\n",
       "    .dataframe tbody tr th {\n",
       "        vertical-align: top;\n",
       "    }\n",
       "\n",
       "    .dataframe thead th {\n",
       "        text-align: right;\n",
       "    }\n",
       "</style>\n",
       "<table border=\"1\" class=\"dataframe\">\n",
       "  <thead>\n",
       "    <tr style=\"text-align: right;\">\n",
       "      <th></th>\n",
       "      <th>B_interval</th>\n",
       "      <th>NK_interval</th>\n",
       "    </tr>\n",
       "  </thead>\n",
       "  <tbody>\n",
       "    <tr>\n",
       "      <th>TMCC1</th>\n",
       "      <td>(23.42883838285794, 30.529105275542065)</td>\n",
       "      <td>(26.854734824710704, 34.00790437608929)</td>\n",
       "    </tr>\n",
       "    <tr>\n",
       "      <th>RANBP3</th>\n",
       "      <td>(40.6696462840744, 43.64426926392558)</td>\n",
       "      <td>(45.83041023581657, 51.43146725018342)</td>\n",
       "    </tr>\n",
       "  </tbody>\n",
       "</table>\n",
       "</div>"
      ],
      "text/plain": [
       "                                     B_interval  \\\n",
       "TMCC1   (23.42883838285794, 30.529105275542065)   \n",
       "RANBP3    (40.6696462840744, 43.64426926392558)   \n",
       "\n",
       "                                    NK_interval  \n",
       "TMCC1   (26.854734824710704, 34.00790437608929)  \n",
       "RANBP3   (45.83041023581657, 51.43146725018342)  "
      ]
     },
     "execution_count": 18,
     "metadata": {},
     "output_type": "execute_result"
    }
   ],
   "source": [
    "ci_counts = dge_with_ci_results.value_counts()\n",
    "print(f'There are {ci_counts[True]} overlapping ang {ci_counts[False]} non-overlapping intervals')\n",
    "print('\\nFor example (do intervals overlap?):\\n')\n",
    "print(dge_with_ci_results.head(2))\n",
    "ci_intervals.head(2)"
   ]
  },
  {
   "cell_type": "markdown",
   "metadata": {
    "id": "BTMrzw2Cjk8x"
   },
   "source": [
    "## Задание 3\n",
    "\n",
    "**4 баллов**"
   ]
  },
  {
   "cell_type": "markdown",
   "metadata": {
    "id": "Hg6BH7N-kilU"
   },
   "source": [
    "Давайте теперь применим для той же задачи `z-критерий`. Будем считать, что в данном случае $\\alpha$ = 0.05, и если полученное `p-value` будет меньше, то экспрессия генов значимо отличается."
   ]
  },
  {
   "cell_type": "code",
   "execution_count": 19,
   "metadata": {
    "id": "pfKgFrLCfPN5",
    "slideshow": {
     "slide_type": "-"
    }
   },
   "outputs": [],
   "source": [
    "from statsmodels.stats.weightstats import ztest"
   ]
  },
  {
   "cell_type": "code",
   "execution_count": 20,
   "metadata": {
    "colab": {
     "base_uri": "https://localhost:8080/"
    },
    "id": "8ws5c8kQcyxA",
    "outputId": "1ded25f5-353b-4872-c4a0-bcc0b4a153a2",
    "slideshow": {
     "slide_type": "-"
    }
   },
   "outputs": [
    {
     "name": "stdout",
     "output_type": "stream",
     "text": [
      "Z-score is -1.3427434041885127, with p-value 0.17935507499860204 which is greather then 0.05\n"
     ]
    }
   ],
   "source": [
    "# Наш излюбленный ген\n",
    "z_tmcc1 = ztest(\n",
    "    b_cells_expression_data[example_gene],\n",
    "    nk_cells_expression_data[example_gene]\n",
    ")\n",
    "compare = 'greather' if z_tmcc1[1] > 0.05 else 'lower'\n",
    "print(f'Z-score is {z_tmcc1[0]}, with p-value {z_tmcc1[1]} which is {compare} then 0.05')"
   ]
  },
  {
   "cell_type": "markdown",
   "metadata": {
    "id": "jouFFsZGlWr8"
   },
   "source": [
    "Попытайтесь оформить это в виде функции, которая будет принимать на вход две таблицы с экспрессиями и выдавать для каждого гена, значимо ли отличается его средняя экспрессия между клеточными типами.\n",
    "\n",
    "```python\n",
    "def check_dge_with_ztest(first_table, second_table):\n",
    "    # dge - differential gene expression\n",
    "\n",
    "    return z_test_results\n",
    "```"
   ]
  },
  {
   "cell_type": "code",
   "execution_count": 21,
   "metadata": {
    "id": "aXc720tmhNt7"
   },
   "outputs": [
    {
     "data": {
      "text/html": [
       "<div>\n",
       "<style scoped>\n",
       "    .dataframe tbody tr th:only-of-type {\n",
       "        vertical-align: middle;\n",
       "    }\n",
       "\n",
       "    .dataframe tbody tr th {\n",
       "        vertical-align: top;\n",
       "    }\n",
       "\n",
       "    .dataframe thead th {\n",
       "        text-align: right;\n",
       "    }\n",
       "</style>\n",
       "<table border=\"1\" class=\"dataframe\">\n",
       "  <thead>\n",
       "    <tr style=\"text-align: right;\">\n",
       "      <th></th>\n",
       "      <th>z_score</th>\n",
       "      <th>p_value</th>\n",
       "      <th>Significant_differences</th>\n",
       "    </tr>\n",
       "  </thead>\n",
       "  <tbody>\n",
       "    <tr>\n",
       "      <th>TMCC1</th>\n",
       "      <td>-1.342743</td>\n",
       "      <td>0.179355</td>\n",
       "      <td>False</td>\n",
       "    </tr>\n",
       "    <tr>\n",
       "      <th>RANBP3</th>\n",
       "      <td>-4.001615</td>\n",
       "      <td>0.000063</td>\n",
       "      <td>True</td>\n",
       "    </tr>\n",
       "    <tr>\n",
       "      <th>GABRG3</th>\n",
       "      <td>0.379114</td>\n",
       "      <td>0.704603</td>\n",
       "      <td>False</td>\n",
       "    </tr>\n",
       "    <tr>\n",
       "      <th>ARRDC5</th>\n",
       "      <td>-2.414566</td>\n",
       "      <td>0.015754</td>\n",
       "      <td>True</td>\n",
       "    </tr>\n",
       "    <tr>\n",
       "      <th>LRP3</th>\n",
       "      <td>1.686146</td>\n",
       "      <td>0.091768</td>\n",
       "      <td>False</td>\n",
       "    </tr>\n",
       "    <tr>\n",
       "      <th>...</th>\n",
       "      <td>...</td>\n",
       "      <td>...</td>\n",
       "      <td>...</td>\n",
       "    </tr>\n",
       "    <tr>\n",
       "      <th>C1orf100</th>\n",
       "      <td>0.064037</td>\n",
       "      <td>0.948941</td>\n",
       "      <td>False</td>\n",
       "    </tr>\n",
       "    <tr>\n",
       "      <th>WDR75</th>\n",
       "      <td>2.225673</td>\n",
       "      <td>0.026036</td>\n",
       "      <td>True</td>\n",
       "    </tr>\n",
       "    <tr>\n",
       "      <th>ZBTB26</th>\n",
       "      <td>0.902314</td>\n",
       "      <td>0.366890</td>\n",
       "      <td>False</td>\n",
       "    </tr>\n",
       "    <tr>\n",
       "      <th>SPTY2D1</th>\n",
       "      <td>-1.577860</td>\n",
       "      <td>0.114598</td>\n",
       "      <td>False</td>\n",
       "    </tr>\n",
       "    <tr>\n",
       "      <th>PLEKHA2</th>\n",
       "      <td>4.095866</td>\n",
       "      <td>0.000042</td>\n",
       "      <td>True</td>\n",
       "    </tr>\n",
       "  </tbody>\n",
       "</table>\n",
       "<p>18792 rows × 3 columns</p>\n",
       "</div>"
      ],
      "text/plain": [
       "           z_score   p_value  Significant_differences\n",
       "TMCC1    -1.342743  0.179355                    False\n",
       "RANBP3   -4.001615  0.000063                     True\n",
       "GABRG3    0.379114  0.704603                    False\n",
       "ARRDC5   -2.414566  0.015754                     True\n",
       "LRP3      1.686146  0.091768                    False\n",
       "...            ...       ...                      ...\n",
       "C1orf100  0.064037  0.948941                    False\n",
       "WDR75     2.225673  0.026036                     True\n",
       "ZBTB26    0.902314  0.366890                    False\n",
       "SPTY2D1  -1.577860  0.114598                    False\n",
       "PLEKHA2   4.095866  0.000042                     True\n",
       "\n",
       "[18792 rows x 3 columns]"
      ]
     },
     "execution_count": 21,
     "metadata": {},
     "output_type": "execute_result"
    }
   ],
   "source": [
    "def table_z_preproc(table, celltype):\n",
    "    table = table.iloc[:, :-1].transpose()\n",
    "    table[f'{celltype}_values']= table.values.tolist()\n",
    "    table.drop(list(range(0,500)), axis = 1, inplace = True)\n",
    "    return table\n",
    "\n",
    "def check_dge_with_ztest(first_table, second_table, celltypes = [\"B\", \"NK\"]):\n",
    "    first_table = table_z_preproc(first_table, celltypes[0])\n",
    "    second_table = table_z_preproc(second_table, celltypes[1])\n",
    "    dge_ztest = pd.concat([first_table, second_table], axis = 1)\n",
    "    z_test_results = dge_ztest.apply(lambda row: ztest(row.B_values, row.NK_values), axis=1)\n",
    "    dge_ztest[['z_score','p_value']] = pd.DataFrame(z_test_results.tolist(), index= z_test_results.index)\n",
    "    dge_ztest.drop(['B_values', 'NK_values'], axis = 1, inplace = True)\n",
    "    dge_ztest['Significant_differences'] = dge_ztest['p_value'] < 0.05\n",
    "    return dge_ztest\n",
    "\n",
    "check_dge_with_ztest(b_cells_expression_data, nk_cells_expression_data)"
   ]
  },
  {
   "cell_type": "markdown",
   "metadata": {},
   "source": [
    "## Реализуем те же задания на R"
   ]
  },
  {
   "cell_type": "code",
   "execution_count": 22,
   "metadata": {},
   "outputs": [
    {
     "name": "stderr",
     "output_type": "stream",
     "text": [
      "R[write to console]: \n",
      "Присоединяю пакет: 'dplyr'\n",
      "\n",
      "\n",
      "R[write to console]: Следующие объекты скрыты от 'package:stats':\n",
      "\n",
      "    filter, lag\n",
      "\n",
      "\n",
      "R[write to console]: Следующие объекты скрыты от 'package:base':\n",
      "\n",
      "    intersect, setdiff, setequal, union\n",
      "\n",
      "\n",
      "R[write to console]: Загрузка требуемого пакета: lattice\n",
      "\n",
      "R[write to console]: \n",
      "Присоединяю пакет: 'BSDA'\n",
      "\n",
      "\n",
      "R[write to console]: Следующий объект скрыт от 'package:datasets':\n",
      "\n",
      "    Orange\n",
      "\n",
      "\n"
     ]
    },
    {
     "name": "stdout",
     "output_type": "stream",
     "text": [
      "[1] \"Self-build function:\"\n",
      "[1] \"CI for B-cells: (23.4288383828579, 30.5291052755421)\"\n",
      "[1] \"CI for NK-cells: (26.8547348247107, 34.0079043760893)\"\n",
      "\n",
      "Confit function\n",
      "[1] \"CI for B-cells: (23.4202720720792, 30.5376715863207)\"\n",
      "[1] \"CI for NK-cells: (26.8461046880756, 34.0165345127244)\"\n",
      "\n",
      "Do CIs for TMCC1 B- and NK-cells  intersects?[1] TRUE\n",
      "[1] \"\"\n",
      "       CI_intersects\n",
      "TMCC1           TRUE\n",
      "RANBP3         FALSE\n",
      "GABRG3          TRUE\n",
      "ARRDC5         FALSE\n",
      "LRP3            TRUE\n",
      "TIMM23          TRUE\n",
      "\n",
      "\tTwo-sample z-Test\n",
      "\n",
      "data:  b_cells_expression_data$TMCC1 and nk_cells_expression_data$TMCC1\n",
      "z = -1.3427, p-value = 0.1794\n",
      "alternative hypothesis: true difference in means is not equal to 0\n",
      "95 percent confidence interval:\n",
      " -8.491641  1.586945\n",
      "sample estimates:\n",
      "mean of x mean of y \n",
      " 26.97897  30.43132 \n",
      "\n",
      "    gene Signif_fiff\n",
      "1  TMCC1       FALSE\n",
      "2 RANBP3        TRUE\n",
      "3 GABRG3       FALSE\n",
      "4 ARRDC5       FALSE\n",
      "5   LRP3       FALSE\n",
      "6 TIMM23       FALSE\n"
     ]
    }
   ],
   "source": [
    "%%R -i b_cells_expression_data -i nk_cells_expression_data\n",
    "# Все выполняется в одной ячейке чтобы меньше тратить времени на запуск R, перекодировку и импорт данных\n",
    "library(dplyr)\n",
    "library(BSDA)\n",
    "\n",
    "# Вычисление доверительного интервала\n",
    "print('Self-build function:')\n",
    "calculate_ci_r = function(sample, std=0){\n",
    "    if(std == 0){\n",
    "        std = sd(sample)\n",
    "        }    \n",
    "    m = mean(sample)\n",
    "    se = std / sqrt(length(sample))\n",
    "    left_b = m - 1.96 * se\n",
    "    right_b = m + 1.96 * se\n",
    "    return(c(left_b, right_b))\n",
    "}\n",
    "\n",
    "b_cells_int = calculate_ci_r(b_cells_expression_data$TMCC1)\n",
    "nk_cells_int = calculate_ci_r(nk_cells_expression_data$TMCC1)\n",
    "print(paste0('CI for B-cells: (', paste0(b_cells_int, collapse=\", \"), \")\"))\n",
    "print(paste0('CI for NK-cells: (', paste0(nk_cells_int, collapse=\", \"), \")\"))\n",
    "\n",
    "# Вычисление доверительного интервала   через встроенные функции:\n",
    "cat('\\nConfit function\\n')\n",
    "l.model <- lm(TMCC1 ~ 1, b_cells_expression_data)\n",
    "b_cells_int = confint(l.model, level=0.95)\n",
    "l.model <- lm(TMCC1 ~ 1, nk_cells_expression_data)\n",
    "nk_cells_int = confint(l.model, level=0.95)\n",
    "print(paste0('CI for B-cells: (', paste0(b_cells_int, collapse=\", \"), \")\"))\n",
    "print(paste0('CI for NK-cells: (', paste0(nk_cells_int, collapse=\", \"), \")\"))\n",
    "\n",
    "# Проверка интервалов на пересечение:\n",
    "check_intervals_intersect_r = function(first_ci, second_ci){\n",
    "  return(!((first_ci[2] <= second_ci[1]) || (second_ci[2] <= first_ci[1])))\n",
    "}\n",
    "\n",
    "cat('\\nDo CIs for TMCC1 B- and NK-cells  intersects?')\n",
    "print(check_intervals_intersect_r(first_ci = b_cells_int, second_ci = nk_cells_int))\n",
    "print(\"\")\n",
    "\n",
    "# Проверка всех генов:\n",
    "table_ci_and_preproc_r = function(df){\n",
    "  df = lapply(df, FUN = calculate_ci_r)\n",
    "  df = as.data.frame(df)\n",
    "  return(df)\n",
    "}\n",
    "\n",
    "\n",
    "check_intervals_intersect_r_sep = function(borders){\n",
    "  first_ci_1 = borders[1]\n",
    "  first_ci_2 = borders[2]\n",
    "  second_ci_1 = borders[3]\n",
    "  second_ci_2 = borders[4]\n",
    "  return(!((first_ci_2 <= second_ci_1) || (second_ci_2 <= first_ci_1)))\n",
    "}\n",
    "\n",
    "check_dge_with_ci_r = function(first_table, second_table){\n",
    "  first_table = table_ci_and_preproc_r(first_table)\n",
    "  second_table = table_ci_and_preproc_r(second_table)\n",
    "  intervals = rbind(first_table, second_table)\n",
    "  ci_test_results = lapply(intervals, check_intervals_intersect_r_sep)\n",
    "  ci_test_results = t(as.data.frame(ci_test_results))\n",
    "  colnames(ci_test_results) = 'CI_intersects'\n",
    "  return(ci_test_results)\n",
    "}\n",
    "\n",
    "print(head(check_dge_with_ci_r(b_cells_expression_data, nk_cells_expression_data)))\n",
    "\n",
    "# Сравнение Z-тестом\n",
    "z_tmcc1_r = z.test(\n",
    "  x = b_cells_expression_data$TMCC1,\n",
    "  y = nk_cells_expression_data$TMCC1,\n",
    "  sigma.x = sd(b_cells_expression_data$TMCC1),\n",
    "  sigma.y = sd(nk_cells_expression_data$TMCC1)\n",
    ")\n",
    "\n",
    "print(z_tmcc1_r)\n",
    "\n",
    "# Сравнение всех генов Z-тестом:\n",
    "check_dge_with_ztest_r = function(first_table, second_table){\n",
    "  results = data.frame()\n",
    "  first_table = t(first_table)\n",
    "  second_table = t(second_table)\n",
    "  for(gene in colnames(b_cells_expression_data)){\n",
    "    nk_gene = nk_cells_expression_data[,gene]\n",
    "    b_gene = b_cells_expression_data[,gene]\n",
    "    sd_1 = sd(b_gene)\n",
    "    sd_2 = sd(nk_gene)\n",
    "    test = z.test(x = b_gene, y = nk_gene, sigma.x = sd_1, sigma.y = sd_2)\n",
    "    n = nrow(results)+1\n",
    "    results[n, 'gene'] = gene\n",
    "    results[n, 'Signif_fiff'] = test$p.value < 0.005\n",
    "  }\n",
    "  return(results)\n",
    "}\n",
    "\n",
    "print(head(check_dge_with_ztest_r(b_cells_expression_data, nk_cells_expression_data)))"
   ]
  },
  {
   "cell_type": "markdown",
   "metadata": {
    "id": "TZpNj9EMlenZ"
   },
   "source": [
    "## Задание 4\n",
    "\n",
    "**10 баллов**"
   ]
  },
  {
   "cell_type": "markdown",
   "metadata": {
    "id": "sqCB9SY9ljrn"
   },
   "source": [
    "Теперь пришла пора оформить все ваши старания в виде программы. Напишите программу, которая принимает на вход следующие аргуметры:\n",
    "\n",
    "1. `first_cell_type_expressions_path` &ndash; путь до таблицы с экспрессиями генов для одного клеточного типа;\n",
    "2. `second_cell_type_expressions_path` &ndash; путь до таблицы с экспрессиями генов для второго клеточного типа;\n",
    "3. `save_results_table` &ndash; название таблицы с результатами.\n",
    "\n",
    "Считывать аргументы можно любым удобным способом (например, `input`, `argparse`).\n",
    "\n",
    "Как читать данные при помощи пандаса мы уже знаем, осталось понять, как записывать результаты. Допустим, вы записывали результаты ваших тестов в списки, тогда создать пандасовский датафрейм можно следующим образом:"
   ]
  },
  {
   "cell_type": "code",
   "execution_count": 23,
   "metadata": {
    "colab": {
     "base_uri": "https://localhost:8080/",
     "height": 153
    },
    "id": "UK3kTYEBljMl",
    "outputId": "164a2f08-4909-4fa2-fee9-e77b2c3bf47d"
   },
   "outputs": [
    {
     "data": {
      "text/html": [
       "<div>\n",
       "<style scoped>\n",
       "    .dataframe tbody tr th:only-of-type {\n",
       "        vertical-align: middle;\n",
       "    }\n",
       "\n",
       "    .dataframe tbody tr th {\n",
       "        vertical-align: top;\n",
       "    }\n",
       "\n",
       "    .dataframe thead th {\n",
       "        text-align: right;\n",
       "    }\n",
       "</style>\n",
       "<table border=\"1\" class=\"dataframe\">\n",
       "  <thead>\n",
       "    <tr style=\"text-align: right;\">\n",
       "      <th></th>\n",
       "      <th>ci_test_results</th>\n",
       "      <th>z_test_results</th>\n",
       "      <th>z_test_p_values</th>\n",
       "      <th>mean_diff</th>\n",
       "    </tr>\n",
       "  </thead>\n",
       "  <tbody>\n",
       "    <tr>\n",
       "      <th>0</th>\n",
       "      <td>True</td>\n",
       "      <td>True</td>\n",
       "      <td>0.0040</td>\n",
       "      <td>-10.0</td>\n",
       "    </tr>\n",
       "    <tr>\n",
       "      <th>1</th>\n",
       "      <td>False</td>\n",
       "      <td>True</td>\n",
       "      <td>0.0100</td>\n",
       "      <td>10.0</td>\n",
       "    </tr>\n",
       "    <tr>\n",
       "      <th>2</th>\n",
       "      <td>True</td>\n",
       "      <td>True</td>\n",
       "      <td>0.0001</td>\n",
       "      <td>0.5</td>\n",
       "    </tr>\n",
       "  </tbody>\n",
       "</table>\n",
       "</div>"
      ],
      "text/plain": [
       "   ci_test_results  z_test_results  z_test_p_values  mean_diff\n",
       "0             True            True           0.0040      -10.0\n",
       "1            False            True           0.0100       10.0\n",
       "2             True            True           0.0001        0.5"
      ]
     },
     "execution_count": 23,
     "metadata": {},
     "output_type": "execute_result"
    }
   ],
   "source": [
    "ci_test_results = [True, False, True]\n",
    "z_test_results = [True, True, True]\n",
    "# Опционально можно также сохранять p-value для z-критерия\n",
    "z_test_p_values = [0.004, 0.01, 0.0001]\n",
    "# Также сохраните разницу в средних экспрессиях между 1 и 2 таблицами для каждого гена,\n",
    "# чтобы было понять, уменьшается или увеличивается экспрессия гена\n",
    "mean_diff = [-10, 10, 0.5]\n",
    "\n",
    "# Созданим словарь {'название колонки': список_значений}\n",
    "results = {\n",
    "    \"ci_test_results\": ci_test_results,\n",
    "    \"z_test_results\": z_test_results,\n",
    "    \"z_test_p_values\": z_test_p_values,\n",
    "    \"mean_diff\": mean_diff\n",
    "}\n",
    "\n",
    "# Из словаря делаем датафрейм\n",
    "results = pd.DataFrame(results)\n",
    "results.head()"
   ]
  },
  {
   "cell_type": "code",
   "execution_count": 24,
   "metadata": {
    "id": "WvjHjmLcoBQO"
   },
   "outputs": [],
   "source": [
    "# Сохраним таблицу в .csv файл\n",
    "# results.to_csv(\"path_to_your_awesome_results.csv\")"
   ]
  },
  {
   "cell_type": "markdown",
   "metadata": {
    "id": "AnjRiJBtqbCu"
   },
   "source": [
    "## Задание 5\n",
    "\n",
    "**0.5 баллов (доп.)**\n",
    "\n",
    "В онлайне сложно знакомиться, а особенно сейчас. Созвонитесь с кем-то из других студентов и прикрипите сюда скрин вашего созвона. Можно коротко описать, о чем вы говорили)"
   ]
  },
  {
   "cell_type": "markdown",
   "metadata": {
    "id": "5ZF0gOD-rSX_"
   },
   "source": [
    "<div>\n",
    "<img src=\"./Pictures/Meeting.jpg\" width=\"500\">\n",
    "</div>"
   ]
  },
  {
   "cell_type": "markdown",
   "metadata": {},
   "source": [
    "Позвонил из лабы Даше Голофеевой"
   ]
  }
 ],
 "metadata": {
  "celltoolbar": "Необработанный формат ячейки",
  "colab": {
   "authorship_tag": "ABX9TyMTwiYBeUHAX8ffZHeJV4cz",
   "collapsed_sections": [],
   "include_colab_link": true,
   "provenance": []
  },
  "kernelspec": {
   "display_name": "Python 3 (ipykernel)",
   "language": "python",
   "name": "python3"
  },
  "language_info": {
   "codemirror_mode": {
    "name": "ipython",
    "version": 3
   },
   "file_extension": ".py",
   "mimetype": "text/x-python",
   "name": "python",
   "nbconvert_exporter": "python",
   "pygments_lexer": "ipython3",
   "version": "3.9.10"
  }
 },
 "nbformat": 4,
 "nbformat_minor": 1
}
